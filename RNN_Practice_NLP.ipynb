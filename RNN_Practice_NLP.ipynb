{
  "cells": [
    {
      "cell_type": "markdown",
      "metadata": {
        "id": "view-in-github",
        "colab_type": "text"
      },
      "source": [
        "<a href=\"https://colab.research.google.com/github/cgjeong23/Deep-Learning-Models/blob/main/RNN_Practice_NLP.ipynb\" target=\"_parent\"><img src=\"https://colab.research.google.com/assets/colab-badge.svg\" alt=\"Open In Colab\"/></a>"
      ]
    },
    {
      "cell_type": "markdown",
      "metadata": {
        "id": "AOiIJVlYdmob"
      },
      "source": [
        "# LSTM-based Encoder-Decoder for Multi-sensor Anomaly Detection"
      ]
    },
    {
      "cell_type": "markdown",
      "metadata": {
        "id": "-vKQi5Jndmof"
      },
      "source": [
        "## 1. Overview"
      ]
    },
    {
      "cell_type": "markdown",
      "metadata": {
        "id": "fnNAkZO_dmof"
      },
      "source": [
        "The goal here is to detect anomaly from time series data. However, the data does not contain any kind of pattern or trend. We call this kind of data, 'unbalanced'.  \n",
        "It is nearly impossible to train with unbalanced dataset, either inference. Therefore, we cannot use 'supervised learning' anymore and need to find some alternatives.  \n",
        "Here, let's review an 'unsupervised learning' methodology published in 2016. The concept is not a state of art, but still powerful.  \n",
        "Before we dive in to the paper and its implementation, let's first take a look at RNN, LSTM and AutoEncoder as well.  "
      ]
    },
    {
      "cell_type": "markdown",
      "metadata": {
        "id": "JdfpvrJPdmog"
      },
      "source": [
        "## 2. RNN"
      ]
    },
    {
      "cell_type": "markdown",
      "metadata": {
        "id": "PKZXZpZ1dmoh"
      },
      "source": [
        "### 2-1. Concept"
      ]
    },
    {
      "cell_type": "markdown",
      "metadata": {
        "id": "2SxP3xPEdmoh"
      },
      "source": [
        "RNN, Recurrent Neural Network is built for continuously generated (serial) data, such as time series or natural language.  \n",
        "Limit of DNN comes out when we try to use it to serial data. It is often used to model temporal information.  \n",
        "It has hidden states as a funciton of inputs and previous time step information. In short, a RNN model can remember the past."
      ]
    },
    {
      "cell_type": "markdown",
      "metadata": {
        "id": "A9kuRIXRdmoi"
      },
      "source": [
        "![image.png](attachment:1debdf7c-fb80-4286-b2cb-42454bb472b3.png)"
      ]
    },
    {
      "cell_type": "markdown",
      "metadata": {
        "id": "FE-L5jN-dmoi"
      },
      "source": [
        "![image.png](attachment:e2ba5657-de72-4f69-9333-e51d2487f22d.png)"
      ]
    },
    {
      "cell_type": "markdown",
      "metadata": {
        "id": "Nwlap8S4dmoj"
      },
      "source": [
        "(Vanilla) Recurrent Neural Network  \n",
        "The state consists of a single “hidden” vector h"
      ]
    },
    {
      "cell_type": "markdown",
      "metadata": {
        "id": "qIWf2X4Tdmok"
      },
      "source": [
        "![image.png](attachment:283fcc8b-9c5a-4e2f-be6b-1ce8d10ac309.png)"
      ]
    },
    {
      "cell_type": "markdown",
      "metadata": {
        "id": "9taDQ9Nedmol"
      },
      "source": [
        "### 2-2. Example: Text RNN"
      ]
    },
    {
      "cell_type": "code",
      "execution_count": null,
      "metadata": {
        "id": "TWqiTGA0dmol"
      },
      "outputs": [],
      "source": [
        "import numpy as np\n",
        "import torch\n",
        "import torch.nn as nn\n",
        "import torch.optim as optim"
      ]
    },
    {
      "cell_type": "markdown",
      "metadata": {
        "id": "hkJ2eBs4dmon"
      },
      "source": [
        "Here, we need a corpus for training. For convenience, I set length of each sentence 3.  "
      ]
    },
    {
      "cell_type": "code",
      "execution_count": null,
      "metadata": {
        "id": "Lh4Otvlvdmon",
        "colab": {
          "base_uri": "https://localhost:8080/"
        },
        "outputId": "a44414f1-a3e3-4e28-916d-ba003be4455f"
      },
      "outputs": [
        {
          "output_type": "stream",
          "name": "stdout",
          "text": [
            "{'dog': 0, 'like': 1, 'hate': 2, 'milk': 3, 'cat': 4, 'coffee': 5, 'i': 6, 'you': 7, 'love': 8}\n",
            "{0: 'dog', 1: 'like', 2: 'hate', 3: 'milk', 4: 'cat', 5: 'coffee', 6: 'i', 7: 'you', 8: 'love'}\n"
          ]
        }
      ],
      "source": [
        "sentences = [\"i like dog\", \"i love coffee\", \"i hate milk\", \"you like cat\", \"you love milk\", \"you hate coffee\"]\n",
        "dtype = torch.float\n",
        "\n",
        "word_list = list(set(\" \".join(sentences).split()))\n",
        "word_dict = {w: i for i, w in enumerate(word_list)}\n",
        "number_dict = {i: w for i, w in enumerate(word_list)}\n",
        "n_class = len(word_dict) # number of distict words in the corpus\n",
        "\n",
        "print(word_dict)\n",
        "print(number_dict)"
      ]
    },
    {
      "cell_type": "code",
      "execution_count": null,
      "metadata": {
        "id": "HyTKnxOQdmoo",
        "colab": {
          "base_uri": "https://localhost:8080/"
        },
        "outputId": "aba090f5-4a30-473f-8d4b-5c45069b9710"
      },
      "outputs": [
        {
          "output_type": "stream",
          "name": "stderr",
          "text": [
            "/usr/local/lib/python3.7/dist-packages/ipykernel_launcher.py:21: UserWarning: Creating a tensor from a list of numpy.ndarrays is extremely slow. Please consider converting the list to a single numpy.ndarray with numpy.array() before converting to a tensor. (Triggered internally at  ../torch/csrc/utils/tensor_new.cpp:210.)\n"
          ]
        }
      ],
      "source": [
        "batch_size = len(sentences)\n",
        "n_step = 2  # length of a sentence for training - 1\n",
        "n_hidden = 5  # size of hidden layers\n",
        "\n",
        "def make_batch(sentences):\n",
        "    input_batch = []\n",
        "    target_batch = []\n",
        "\n",
        "    for sen in sentences:\n",
        "        word = sen.split() # [\"i\", \"like\", \"dog\"]\n",
        "        input = [word_dict[n] for n in word[:-1]] # [0, 7]\n",
        "        target = word_dict[word[-1]] # [1]\n",
        "\n",
        "        input_batch.append(np.eye(n_class)[input])  # One-Hot Encoding\n",
        "        target_batch.append(target) # [1, 2, 3, 8, 3, 2]\n",
        "  \n",
        "    return input_batch, target_batch\n",
        "\n",
        "input_batch, target_batch = make_batch(sentences)\n",
        "\n",
        "input_batch = torch.tensor(input_batch, dtype=torch.float32, requires_grad=True)\n",
        "target_batch = torch.tensor(target_batch, dtype=torch.int64)"
      ]
    },
    {
      "cell_type": "markdown",
      "metadata": {
        "id": "tX0EJuSIdmoo"
      },
      "source": [
        "RNN class is shown up here. Thanks to PyTorch, we can implement RNN easily.  \n",
        "Initial weight and bias are torch.randn([n_hidden, n_class]) and torch.randn([n_class]) respectively."
      ]
    },
    {
      "cell_type": "code",
      "execution_count": null,
      "metadata": {
        "id": "pv1q_ee0dmop"
      },
      "outputs": [],
      "source": [
        "class TextRNN(nn.Module):\n",
        "    def __init__(self):\n",
        "        super(TextRNN, self).__init__()\n",
        "        self.rnn = nn.RNN(input_size=n_class, hidden_size=n_hidden, dropout=0.3)\n",
        "        self.W = nn.Parameter(torch.randn([n_hidden, n_class]).type(dtype))\n",
        "        self.b = nn.Parameter(torch.randn([n_class]).type(dtype))\n",
        "        self.Softmax = nn.Softmax(dim=1)\n",
        "\n",
        "    def forward(self, hidden, X):\n",
        "        X = X.transpose(0, 1)\n",
        "        outputs, hidden = self.rnn(X, hidden)\n",
        "        outputs = outputs[-1]  # Hidden layer: Final prediction\n",
        "        model = torch.mm(outputs, self.W) + self.b  # Final output layer: Final hidden layer\n",
        "        return model"
      ]
    },
    {
      "cell_type": "markdown",
      "metadata": {
        "id": "6MUGQqXAdmop"
      },
      "source": [
        "With TextRNN() above, here we train the model with the corpus."
      ]
    },
    {
      "cell_type": "code",
      "execution_count": null,
      "metadata": {
        "id": "7De7m-x-dmoq",
        "colab": {
          "base_uri": "https://localhost:8080/"
        },
        "outputId": "c95217bd-c739-4a60-b434-115dd21e8be6"
      },
      "outputs": [
        {
          "output_type": "stream",
          "name": "stderr",
          "text": [
            "/usr/local/lib/python3.7/dist-packages/torch/nn/modules/rnn.py:65: UserWarning: dropout option adds dropout after all but last recurrent layer, so non-zero dropout expects num_layers greater than 1, but got dropout=0.3 and num_layers=1\n",
            "  \"num_layers={}\".format(dropout, num_layers))\n"
          ]
        },
        {
          "output_type": "stream",
          "name": "stdout",
          "text": [
            "Epoch: 0100 cost = 0.508805\n",
            "Epoch: 0200 cost = 0.107573\n",
            "Epoch: 0300 cost = 0.032499\n",
            "Epoch: 0400 cost = 0.016848\n",
            "Epoch: 0500 cost = 0.010596\n"
          ]
        }
      ],
      "source": [
        "model = TextRNN()\n",
        "criterion = nn.CrossEntropyLoss()\n",
        "optimizer = optim.Adam(model.parameters(), lr=0.01)\n",
        "\n",
        "for epoch in range(500):\n",
        "    hidden = torch.zeros(1, batch_size, n_hidden, requires_grad=True)\n",
        "    output = model(hidden, input_batch)\n",
        "    loss = criterion(output, target_batch)\n",
        "\n",
        "    if (epoch + 1) % 100 == 0:\n",
        "        print('Epoch:', '%04d' % (epoch + 1), 'cost =', '{:.6f}'.format(loss))\n",
        "\n",
        "    optimizer.zero_grad()\n",
        "    loss.backward()\n",
        "    optimizer.step()"
      ]
    },
    {
      "cell_type": "code",
      "execution_count": null,
      "metadata": {
        "id": "t8Q9ePjndmoq",
        "colab": {
          "base_uri": "https://localhost:8080/"
        },
        "outputId": "9a46376f-5e6a-47cd-e14d-8d9a4abc81f6"
      },
      "outputs": [
        {
          "output_type": "stream",
          "name": "stdout",
          "text": [
            "[['i', 'like'], ['i', 'love'], ['i', 'hate'], ['you', 'like'], ['you', 'love'], ['you', 'hate']] -> ['dog', 'coffee', 'milk', 'cat', 'milk', 'coffee']\n"
          ]
        }
      ],
      "source": [
        "input = [sen.split()[:2] for sen in sentences]\n",
        "\n",
        "hidden = torch.zeros(1, batch_size, n_hidden, requires_grad=True)\n",
        "predict = model(hidden, input_batch).data.max(1, keepdim=True)[1]\n",
        "print([sen.split()[:2] for sen in sentences], '->', [number_dict[n.item()] for n in predict.squeeze()])"
      ]
    },
    {
      "cell_type": "markdown",
      "metadata": {
        "id": "PzRnLHgWdmor"
      },
      "source": [
        "## 3. LSTM"
      ]
    },
    {
      "cell_type": "markdown",
      "metadata": {
        "id": "24eGErvkdmor"
      },
      "source": [
        "### 3-1. Concept"
      ]
    },
    {
      "cell_type": "markdown",
      "metadata": {
        "id": "XiKULQHwdmor"
      },
      "source": [
        "One of the appeals of RNNs is the idea that they might be able to connect previous information to the present task,  \n",
        "such as using previous video frames might inform the understanding of the present frame.  \n",
        "If RNNs could do this, they’d be extremely useful. But can they? It depends."
      ]
    },
    {
      "cell_type": "markdown",
      "metadata": {
        "id": "FBPI6NNjdmos"
      },
      "source": [
        "![image.png](attachment:a675f521-12ae-48b6-9c81-e70360363849.png)"
      ]
    },
    {
      "cell_type": "markdown",
      "metadata": {
        "id": "3AN1yEgRdmos"
      },
      "source": [
        "In theory, RNNs are absolutely capable of handling such “long-term dependencies.” A human could carefully pick parameters for them to solve toy problems of this form.  \n",
        "Sadly, in practice, RNNs don’t seem to be able to learn them.  \n",
        "The problem was explored in depth by Hochreiter (1991) [German] and Bengio, et al. (1994), who found some pretty fundamental reasons why it might be difficult.  \n",
        "Thankfully, LSTM(Long Short Term Memory)s don’t have this problem."
      ]
    },
    {
      "cell_type": "markdown",
      "metadata": {
        "id": "5fR9QGPMdmos"
      },
      "source": [
        "The repeating module in a standard RNN contains a single layer is as shown below."
      ]
    },
    {
      "cell_type": "markdown",
      "metadata": {
        "id": "6x9ZlmXFdmot"
      },
      "source": [
        "![image.png](attachment:01ca5a11-fda8-42a6-845c-aa185891ffe2.png)"
      ]
    },
    {
      "cell_type": "markdown",
      "metadata": {
        "id": "dE8eqM4Mdmot"
      },
      "source": [
        "LSTMs also have this chain like structure, but the repeating module has a different structure.  \n",
        "Instead of having a single neural network layer, there are four, interacting in a very special way."
      ]
    },
    {
      "cell_type": "markdown",
      "metadata": {
        "id": "CuLX1ncbdmou"
      },
      "source": [
        "![image.png](attachment:669241b5-3423-4f4c-9129-fef8fc196e91.png)"
      ]
    },
    {
      "cell_type": "markdown",
      "metadata": {
        "id": "qfUklBXCdmou"
      },
      "source": [
        "Unlike RNN, we can notice there is another path and this is a memory cell.  \n",
        "From this cell, LSTM provides memory mechanism and it solves long-term dependency, a.k.a gradient vanishing problem."
      ]
    },
    {
      "cell_type": "markdown",
      "metadata": {
        "id": "FT5W-SJGdmou"
      },
      "source": [
        "### 3-2. Model Description"
      ]
    },
    {
      "cell_type": "markdown",
      "metadata": {
        "id": "tkkcPyUfdmou"
      },
      "source": [
        "Now let's carefully observe how LSTM cell is built."
      ]
    },
    {
      "cell_type": "markdown",
      "metadata": {
        "id": "W-N_n7XOdmou"
      },
      "source": [
        "![image.png](attachment:20364797-d2b0-4d95-8218-138ad2b3cfad.png)"
      ]
    },
    {
      "cell_type": "markdown",
      "metadata": {
        "id": "iMfHEOpudmou"
      },
      "source": [
        "#### Output Gate  \n",
        "A hidden state h_t is simply tanh(c_t). Therefore, we have to adjust 'how important each element of tanh(c_t) is for the next hideen state h_t+1'.  \n",
        "An output gate o at time t is given as o_t = sigmoid(W_xo * x_t + W_ho * h_t-1 + b_o)  \n",
        "h_t = o_t * tanh(c_t) (*: Hardmard product; Element-wise product; Generalization of inner product)  \n",
        "In RNN, h_t = tanh(W_xh * X_t + W_hh * h_t-1). Hence, we can simply say that LSTM makes an output by applying sigmoid function rather than tanh function and multiplying it with tanh(c_t)."
      ]
    },
    {
      "cell_type": "markdown",
      "metadata": {
        "id": "CKtifaHidmov"
      },
      "source": [
        "![image.png](attachment:d584c5d8-a716-4e5c-8d7c-d91e4334fdd4.png)"
      ]
    },
    {
      "cell_type": "markdown",
      "metadata": {
        "id": "s-EFFRkNdmov"
      },
      "source": [
        "#### Forget Gate  \n",
        "A model does not have to hold useless information from previous cells. Hence, this sigmoid function instruct which information to 'forget'.  \n",
        "A forget gate helps current cell forget less important concept in c_t-1"
      ]
    },
    {
      "cell_type": "markdown",
      "metadata": {
        "id": "_pawBllAdmov"
      },
      "source": [
        "![image.png](attachment:f28e2530-4bc6-43f8-b4c0-99a8382f730e.png)"
      ]
    },
    {
      "cell_type": "markdown",
      "metadata": {
        "id": "auEpTXpadmov"
      },
      "source": [
        "#### Cell Gate  \n",
        "While going through 'Forget Gate', past information is partially deleted. So we have to feed present data into the cell.  \n",
        "To do so, we add tanh node. C~_t is the output from this node.  \n",
        "The reason why we use tanh rather than sigmoid is that, the node is not a gate but it tends to add new data into the memory cell.  \n",
        "By doing so, past data is partially forgotten and present data is added."
      ]
    },
    {
      "cell_type": "markdown",
      "metadata": {
        "id": "lN4dUb8Mdmov"
      },
      "source": [
        "![image.png](attachment:dc10d1a3-7295-4b50-9736-ef9e5b04f293.png)"
      ]
    },
    {
      "cell_type": "markdown",
      "metadata": {
        "id": "iQ-bmwondmow"
      },
      "source": [
        "#### Input Gate  \n",
        "Lastly, we need a gate for the output from the cell gate. From the cell gate, we determined how much of the present information is going to be added.  \n",
        "Hence, the main function of the input gate is not to take new information without filtering but to selectively append them."
      ]
    },
    {
      "cell_type": "markdown",
      "metadata": {
        "id": "Y9R63GBCdmow"
      },
      "source": [
        "![image.png](attachment:f74aeef3-e54e-4564-b4c9-9627314a0a33.png)"
      ]
    },
    {
      "cell_type": "markdown",
      "metadata": {
        "id": "2IluW4xddmow"
      },
      "source": [
        "### 3.3 Gradient Flow"
      ]
    },
    {
      "cell_type": "markdown",
      "metadata": {
        "id": "dMLsUhE5dmow"
      },
      "source": [
        "So now we fully understand what is actually going on in a LSTM cell. But the main purpose of using it is to prevent gradient vanishing.  \n",
        "The key is 'Back Propagation of memory cell c'. "
      ]
    },
    {
      "cell_type": "markdown",
      "metadata": {
        "id": "oebsyTGzdmow"
      },
      "source": [
        "![image.png](attachment:984cb9cb-3e9d-457c-9f1d-65d404adf3fa.png)"
      ]
    },
    {
      "cell_type": "markdown",
      "metadata": {
        "id": "sWWSZFwMdmow"
      },
      "source": [
        "Diagram above shows flow of back propagation in perspective of c. Let's take a glance of the red line at the top.  \n",
        "While its BP, it passes + and x nodes. But + node does not affect, so only x nodes remain.  \n",
        "One thing noticable is, x nodes does not compute matrix multiplication. Unlike what RNN does, a LSTM cell conduct Hadamard product instead.  \n",
        "Secondly, LSTM's c path does not use identical weight matrix all along, but conducts matrix multiplication with newly added information.  \n",
        "Hence, for every cell, there is a new matrix to be multiplied and this helps a LSTM model not accumulate the effect of matrix multiplication.  \n",
        "Also, let's look at the x node again. Computation of x node is under control of the forget gate.  \n",
        "When BP is being calculated, output of forget gate and upper stream gradient are multiplied.  \n",
        "Therefore, gradient of information, forget gate decided to 'forget' diminishes.  \n",
        "On the other hand, gradient of information, forget gate decided to 'not forget' does not get any weaker, but propagated backward without minor change.  \n",
        "Hence, the gradient of important information does not vanish during BP steps.  \n",
        "By its name, Long Short Term Memory!"
      ]
    },
    {
      "cell_type": "markdown",
      "metadata": {
        "id": "pTEenB1Ldmox"
      },
      "source": [
        "### 3.4 Example: Text LSTM"
      ]
    },
    {
      "cell_type": "code",
      "execution_count": null,
      "metadata": {
        "id": "KhqXV9mKdmox"
      },
      "outputs": [],
      "source": [
        "import numpy as np\n",
        "import torch\n",
        "import torch.nn as nn\n",
        "import torch.optim as optim\n",
        "\n",
        "sentences = [\"i like dog\", \"i love coffee\", \"i hate milk\", \"you like cat\", \"you love milk\", \"you hate coffee\"]\n",
        "dtype = torch.float\n",
        "\n",
        "\"\"\"\n",
        "Word Processing\n",
        "\"\"\"\n",
        "word_list = list(set(\" \".join(sentences).split()))\n",
        "word_dict = {w: i for i, w in enumerate(word_list)}\n",
        "number_dict = {i: w for i, w in enumerate(word_list)}\n",
        "n_class = len(word_dict)"
      ]
    },
    {
      "cell_type": "code",
      "execution_count": null,
      "metadata": {
        "id": "0LVNho10dmox"
      },
      "outputs": [],
      "source": [
        "\"\"\"\n",
        "TextRNN Parameter\n",
        "\"\"\"\n",
        "batch_size = len(sentences)\n",
        "n_step = 2  # 학습 하려고 하는 문장의 길이 - 1\n",
        "n_hidden = 5  # 은닉층 사이즈\n",
        "\n",
        "def make_batch(sentences):\n",
        "  input_batch = []\n",
        "  target_batch = []\n",
        "\n",
        "  for sen in sentences:\n",
        "    word = sen.split()\n",
        "    input = [word_dict[n] for n in word[:-1]]\n",
        "    target = word_dict[word[-1]]\n",
        "\n",
        "    input_batch.append(np.eye(n_class)[input])  # One-Hot Encoding\n",
        "    target_batch.append(target)\n",
        "  \n",
        "  return input_batch, target_batch\n",
        "\n",
        "input_batch, target_batch = make_batch(sentences)\n",
        "input_batch = torch.tensor(input_batch, dtype=torch.float32, requires_grad=True)\n",
        "target_batch = torch.tensor(target_batch, dtype=torch.int64)"
      ]
    },
    {
      "cell_type": "code",
      "execution_count": null,
      "metadata": {
        "id": "VGVUknOXdmox"
      },
      "outputs": [],
      "source": [
        "\"\"\"\n",
        "TextLSTM\n",
        "\"\"\"\n",
        "class TextLSTM(nn.Module):\n",
        "  def __init__(self):\n",
        "    super(TextLSTM, self).__init__()\n",
        "\n",
        "    self.lstm = nn.LSTM(input_size=n_class, hidden_size=n_hidden, dropout=0.3)\n",
        "    self.W = nn.Parameter(torch.randn([n_hidden, n_class]).type(dtype))\n",
        "    self.b = nn.Parameter(torch.randn([n_class]).type(dtype))\n",
        "    self.Softmax = nn.Softmax(dim=1)\n",
        "\n",
        "  def forward(self, hidden_and_cell, X):\n",
        "    X = X.transpose(0, 1)\n",
        "    outputs, hidden = self.lstm(X, hidden_and_cell)\n",
        "    outputs = outputs[-1]  # 최종 예측 Hidden Layer\n",
        "    model = torch.mm(outputs, self.W) + self.b  # 최종 예측 최종 출력 층\n",
        "    return model"
      ]
    },
    {
      "cell_type": "code",
      "execution_count": null,
      "metadata": {
        "id": "J1OaRN07dmoy",
        "colab": {
          "base_uri": "https://localhost:8080/"
        },
        "outputId": "f2c38156-9f04-495e-fc26-8f47933b650b"
      },
      "outputs": [
        {
          "output_type": "stream",
          "name": "stderr",
          "text": [
            "/usr/local/lib/python3.7/dist-packages/torch/nn/modules/rnn.py:65: UserWarning: dropout option adds dropout after all but last recurrent layer, so non-zero dropout expects num_layers greater than 1, but got dropout=0.3 and num_layers=1\n",
            "  \"num_layers={}\".format(dropout, num_layers))\n"
          ]
        },
        {
          "output_type": "stream",
          "name": "stdout",
          "text": [
            "Epoch: 0100 cost = 0.354967\n",
            "Epoch: 0200 cost = 0.047112\n",
            "Epoch: 0300 cost = 0.018152\n",
            "Epoch: 0400 cost = 0.010150\n",
            "Epoch: 0500 cost = 0.006739\n"
          ]
        }
      ],
      "source": [
        "\"\"\"\n",
        "Training\n",
        "\"\"\"\n",
        "model = TextLSTM()\n",
        "criterion = nn.CrossEntropyLoss()\n",
        "optimizer = optim.Adam(model.parameters(), lr=0.01)\n",
        "\n",
        "for epoch in range(500):\n",
        "  hidden = torch.zeros(1, batch_size, n_hidden, requires_grad=True)\n",
        "  cell = torch.zeros(1, batch_size, n_hidden, requires_grad=True)\n",
        "  output = model((hidden, cell), input_batch)\n",
        "  loss = criterion(output, target_batch)\n",
        "\n",
        "  if (epoch + 1) % 100 == 0:\n",
        "    print('Epoch:', '%04d' % (epoch + 1), 'cost =', '{:.6f}'.format(loss))\n",
        "  \n",
        "  optimizer.zero_grad()\n",
        "  loss.backward()\n",
        "  optimizer.step()"
      ]
    },
    {
      "cell_type": "code",
      "execution_count": null,
      "metadata": {
        "id": "LlT8BtH8dmoy",
        "colab": {
          "base_uri": "https://localhost:8080/"
        },
        "outputId": "d7179fc8-c776-4762-f274-207fe4029f47"
      },
      "outputs": [
        {
          "output_type": "stream",
          "name": "stdout",
          "text": [
            "[['i', 'like'], ['i', 'love'], ['i', 'hate'], ['you', 'like'], ['you', 'love'], ['you', 'hate']] -> ['dog', 'coffee', 'milk', 'cat', 'milk', 'coffee']\n"
          ]
        }
      ],
      "source": [
        "input = [sen.split()[:2] for sen in sentences]\n",
        "\n",
        "hidden = torch.zeros(1, batch_size, n_hidden, requires_grad=True)\n",
        "cell = torch.zeros(1, batch_size, n_hidden, requires_grad=True)\n",
        "predict = model((hidden, cell), input_batch).data.max(1, keepdim=True)[1]\n",
        "print([sen.split()[:2] for sen in sentences], '->', [number_dict[n.item()] for n in predict.squeeze()])"
      ]
    },
    {
      "cell_type": "markdown",
      "metadata": {
        "id": "dHKEBdqOdmoy"
      },
      "source": [
        "## 4. GRU"
      ]
    },
    {
      "cell_type": "markdown",
      "metadata": {
        "id": "HIMQ5iSJdmoz"
      },
      "source": [
        "LSTM solves gradient vanishing problem very smartly and provides good layers for serial, mainly temporal data.  \n",
        "However, as we have seen above, LSTM requires too many parameters, so too much computation as well.  \n",
        "As always, scientists find the way. Among those, let's take a look at GRU(Gated Recurrent Unit), proposed by KyeongHyun Cho."
      ]
    },
    {
      "cell_type": "markdown",
      "metadata": {
        "id": "Q0-mMZVedmoz"
      },
      "source": [
        "GRU keeps concept of gates in LSTM up, but reduces number of parameters as well as its computing time.  \n",
        "By comparing their interfaces, we can easily notice the difference; GRU is way simpler."
      ]
    },
    {
      "cell_type": "markdown",
      "metadata": {
        "id": "jt5DnGvddmoz"
      },
      "source": [
        "![image.png](attachment:7994546d-995e-40d1-9387-f1c97866fc7d.png)"
      ]
    },
    {
      "cell_type": "markdown",
      "metadata": {
        "id": "CCrL4uz2dmoz"
      },
      "source": [
        "Computation hold in a single cell of GRU is shown as below."
      ]
    },
    {
      "cell_type": "markdown",
      "metadata": {
        "id": "FsKKztmadmoz"
      },
      "source": [
        "![image.png](attachment:69fdc2d8-52c7-4220-8362-14202e67c3f4.png)"
      ]
    },
    {
      "cell_type": "markdown",
      "metadata": {
        "id": "ryjTGNYsdmoz"
      },
      "source": [
        "![image.png](attachment:202d79ee-18c2-4035-858c-6a9931b80b51.png)"
      ]
    },
    {
      "cell_type": "markdown",
      "metadata": {
        "id": "4goYhH73dmoz"
      },
      "source": [
        "Unlike LSTM, there are no memory cell(cell gate) in GRU. It only has hidden state h_t in forward direction.  \n",
        "This characteristic is somewhat similar to what we have seen in RNN structure.  \n",
        "Here in GRU, we use two gates; reset gates 'r', and update gates 'z'.  "
      ]
    },
    {
      "cell_type": "markdown",
      "metadata": {
        "id": "1JuCwvTMdmo0"
      },
      "source": [
        "Reset gates 'r' determine how much are we going to ignore past hidden state h_t-1.  \n",
        "If r=0, h~ = tanh(W_x * X_t + W_h * (r * h_t-1) + b). Simply, present cell completely forgets past hidden state.  "
      ]
    },
    {
      "cell_type": "markdown",
      "metadata": {
        "id": "Ah570GKsdmo0"
      },
      "source": [
        "On the other hand, update gates 'z' are for update of hidden state. z plays rolls of forget gate and input gate in LSTM alone.  \n",
        "Function of forget gate is being conducted by (1-z) * h_t-1. This line deletes forget-like past information.  \n",
        "Function of inpout gate is being conducted by z * h~. This line provides weight to newly added information."
      ]
    },
    {
      "cell_type": "markdown",
      "metadata": {
        "id": "PAOcK3QIdmo0"
      },
      "source": [
        "![image.png](attachment:807bed11-661f-46c7-8136-ad4376684237.png)"
      ]
    },
    {
      "cell_type": "markdown",
      "metadata": {
        "id": "mSFtU9Gldmo0"
      },
      "source": [
        "GRU has less parameters and computation. Thus, if dataset is small or many repetition is required during modelling, it might be a better choice."
      ]
    },
    {
      "cell_type": "markdown",
      "metadata": {
        "id": "DbipZXN6dmo0"
      },
      "source": [
        "## 5. AutoEncoder "
      ]
    },
    {
      "cell_type": "markdown",
      "metadata": {
        "id": "jhdWj-G5dmo1"
      },
      "source": [
        "### 5-1. Generative Model"
      ]
    },
    {
      "cell_type": "markdown",
      "metadata": {
        "id": "FDxnztRadmo1"
      },
      "source": [
        "Discriminative models aim to predict p(y|x). Here y could be some kind of numeric value or class. It depends on what a task is.  \n",
        "If y is a numeric value, we call this task regression. Otherwise, if y is a label(of coursely, it is given as probability so it is numeric as well), we call this task classification.  \n",
        "On the other hand, generative models aim p(x|y). We provide answer(data and label) to the model and train it to generate new data by itself. (Find p_model with p_data)  \n",
        "Most of industries focus on discriminative modelling, not GM. So there has been a rise in the number of Machine Learning as a Service(MLaaS) but GM was not a part of it.  \n",
        "Both methodologies assume p_data ~ p_real, but their perspective is reverse."
      ]
    },
    {
      "cell_type": "markdown",
      "metadata": {
        "id": "h1mraFfzdmo1"
      },
      "source": []
    },
    {
      "cell_type": "markdown",
      "metadata": {
        "id": "NQ_Arc3tdmo1"
      },
      "source": []
    },
    {
      "cell_type": "markdown",
      "metadata": {
        "id": "7iQadsyodmo1"
      },
      "source": []
    },
    {
      "cell_type": "markdown",
      "metadata": {
        "id": "md7B7eCFdmo1"
      },
      "source": []
    },
    {
      "cell_type": "markdown",
      "metadata": {
        "id": "EcBGaYVYdmo1"
      },
      "source": []
    },
    {
      "cell_type": "markdown",
      "metadata": {
        "id": "fhzxHnBXdmo2"
      },
      "source": []
    },
    {
      "cell_type": "markdown",
      "metadata": {
        "id": "M6uQ7-zMdmo2"
      },
      "source": []
    },
    {
      "cell_type": "markdown",
      "metadata": {
        "id": "BkukUF4Kdmo2"
      },
      "source": [
        "## 6. LSTM-based Encoder-Decoder for Multi-sensor Anomaly Detection"
      ]
    },
    {
      "cell_type": "code",
      "execution_count": null,
      "metadata": {
        "id": "NAW6KuhPdmo2"
      },
      "outputs": [],
      "source": [
        "import pandas as pd\n",
        "import os\n",
        "import pickle\n",
        "from celluloid import Camera\n",
        "import matplotlib.pyplot as plt\n",
        "from tqdm.notebook import tqdm\n",
        "import torch\n",
        "from torch import nn\n",
        "from torch.nn import functional as F\n",
        "from torch.utils.data import DataLoader, Dataset\n",
        "import numpy as np\n",
        "from typing import List\n",
        "import easydict"
      ]
    },
    {
      "cell_type": "markdown",
      "metadata": {
        "id": "O7nDHYN2dmo2"
      },
      "source": [
        "### Data Import - sensor.csv"
      ]
    },
    {
      "cell_type": "code",
      "execution_count": null,
      "metadata": {
        "id": "ssFMLPA2dmo2",
        "outputId": "68b00c0f-a5bb-49dc-9637-cfa797b482f9"
      },
      "outputs": [
        {
          "data": {
            "text/html": [
              "<div>\n",
              "<style scoped>\n",
              "    .dataframe tbody tr th:only-of-type {\n",
              "        vertical-align: middle;\n",
              "    }\n",
              "\n",
              "    .dataframe tbody tr th {\n",
              "        vertical-align: top;\n",
              "    }\n",
              "\n",
              "    .dataframe thead th {\n",
              "        text-align: right;\n",
              "    }\n",
              "</style>\n",
              "<table border=\"1\" class=\"dataframe\">\n",
              "  <thead>\n",
              "    <tr style=\"text-align: right;\">\n",
              "      <th></th>\n",
              "      <th>timestamp</th>\n",
              "      <th>sensor_00</th>\n",
              "      <th>sensor_01</th>\n",
              "      <th>sensor_02</th>\n",
              "      <th>sensor_03</th>\n",
              "      <th>sensor_04</th>\n",
              "      <th>sensor_05</th>\n",
              "      <th>sensor_06</th>\n",
              "      <th>sensor_07</th>\n",
              "      <th>sensor_08</th>\n",
              "      <th>...</th>\n",
              "      <th>sensor_43</th>\n",
              "      <th>sensor_44</th>\n",
              "      <th>sensor_45</th>\n",
              "      <th>sensor_46</th>\n",
              "      <th>sensor_47</th>\n",
              "      <th>sensor_48</th>\n",
              "      <th>sensor_49</th>\n",
              "      <th>sensor_50</th>\n",
              "      <th>sensor_51</th>\n",
              "      <th>machine_status</th>\n",
              "    </tr>\n",
              "  </thead>\n",
              "  <tbody>\n",
              "    <tr>\n",
              "      <th>0</th>\n",
              "      <td>2018-04-01 00:00:00</td>\n",
              "      <td>2.465394</td>\n",
              "      <td>47.09201</td>\n",
              "      <td>53.2118</td>\n",
              "      <td>46.310760</td>\n",
              "      <td>634.3750</td>\n",
              "      <td>76.45975</td>\n",
              "      <td>13.41146</td>\n",
              "      <td>16.13136</td>\n",
              "      <td>15.56713</td>\n",
              "      <td>...</td>\n",
              "      <td>41.92708</td>\n",
              "      <td>39.641200</td>\n",
              "      <td>65.68287</td>\n",
              "      <td>50.92593</td>\n",
              "      <td>38.194440</td>\n",
              "      <td>157.9861</td>\n",
              "      <td>67.70834</td>\n",
              "      <td>243.0556</td>\n",
              "      <td>201.3889</td>\n",
              "      <td>NORMAL</td>\n",
              "    </tr>\n",
              "    <tr>\n",
              "      <th>1</th>\n",
              "      <td>2018-04-01 00:01:00</td>\n",
              "      <td>2.465394</td>\n",
              "      <td>47.09201</td>\n",
              "      <td>53.2118</td>\n",
              "      <td>46.310760</td>\n",
              "      <td>634.3750</td>\n",
              "      <td>76.45975</td>\n",
              "      <td>13.41146</td>\n",
              "      <td>16.13136</td>\n",
              "      <td>15.56713</td>\n",
              "      <td>...</td>\n",
              "      <td>41.92708</td>\n",
              "      <td>39.641200</td>\n",
              "      <td>65.68287</td>\n",
              "      <td>50.92593</td>\n",
              "      <td>38.194440</td>\n",
              "      <td>157.9861</td>\n",
              "      <td>67.70834</td>\n",
              "      <td>243.0556</td>\n",
              "      <td>201.3889</td>\n",
              "      <td>NORMAL</td>\n",
              "    </tr>\n",
              "    <tr>\n",
              "      <th>2</th>\n",
              "      <td>2018-04-01 00:02:00</td>\n",
              "      <td>2.444734</td>\n",
              "      <td>47.35243</td>\n",
              "      <td>53.2118</td>\n",
              "      <td>46.397570</td>\n",
              "      <td>638.8889</td>\n",
              "      <td>73.54598</td>\n",
              "      <td>13.32465</td>\n",
              "      <td>16.03733</td>\n",
              "      <td>15.61777</td>\n",
              "      <td>...</td>\n",
              "      <td>41.66666</td>\n",
              "      <td>39.351852</td>\n",
              "      <td>65.39352</td>\n",
              "      <td>51.21528</td>\n",
              "      <td>38.194443</td>\n",
              "      <td>155.9606</td>\n",
              "      <td>67.12963</td>\n",
              "      <td>241.3194</td>\n",
              "      <td>203.7037</td>\n",
              "      <td>NORMAL</td>\n",
              "    </tr>\n",
              "    <tr>\n",
              "      <th>3</th>\n",
              "      <td>2018-04-01 00:03:00</td>\n",
              "      <td>2.460474</td>\n",
              "      <td>47.09201</td>\n",
              "      <td>53.1684</td>\n",
              "      <td>46.397568</td>\n",
              "      <td>628.1250</td>\n",
              "      <td>76.98898</td>\n",
              "      <td>13.31742</td>\n",
              "      <td>16.24711</td>\n",
              "      <td>15.69734</td>\n",
              "      <td>...</td>\n",
              "      <td>40.88541</td>\n",
              "      <td>39.062500</td>\n",
              "      <td>64.81481</td>\n",
              "      <td>51.21528</td>\n",
              "      <td>38.194440</td>\n",
              "      <td>155.9606</td>\n",
              "      <td>66.84028</td>\n",
              "      <td>240.4514</td>\n",
              "      <td>203.1250</td>\n",
              "      <td>NORMAL</td>\n",
              "    </tr>\n",
              "    <tr>\n",
              "      <th>4</th>\n",
              "      <td>2018-04-01 00:04:00</td>\n",
              "      <td>2.445718</td>\n",
              "      <td>47.13541</td>\n",
              "      <td>53.2118</td>\n",
              "      <td>46.397568</td>\n",
              "      <td>636.4583</td>\n",
              "      <td>76.58897</td>\n",
              "      <td>13.35359</td>\n",
              "      <td>16.21094</td>\n",
              "      <td>15.69734</td>\n",
              "      <td>...</td>\n",
              "      <td>41.40625</td>\n",
              "      <td>38.773150</td>\n",
              "      <td>65.10416</td>\n",
              "      <td>51.79398</td>\n",
              "      <td>38.773150</td>\n",
              "      <td>158.2755</td>\n",
              "      <td>66.55093</td>\n",
              "      <td>242.1875</td>\n",
              "      <td>201.3889</td>\n",
              "      <td>NORMAL</td>\n",
              "    </tr>\n",
              "  </tbody>\n",
              "</table>\n",
              "<p>5 rows × 54 columns</p>\n",
              "</div>"
            ],
            "text/plain": [
              "             timestamp  sensor_00  sensor_01  sensor_02  sensor_03  sensor_04  \\\n",
              "0  2018-04-01 00:00:00   2.465394   47.09201    53.2118  46.310760   634.3750   \n",
              "1  2018-04-01 00:01:00   2.465394   47.09201    53.2118  46.310760   634.3750   \n",
              "2  2018-04-01 00:02:00   2.444734   47.35243    53.2118  46.397570   638.8889   \n",
              "3  2018-04-01 00:03:00   2.460474   47.09201    53.1684  46.397568   628.1250   \n",
              "4  2018-04-01 00:04:00   2.445718   47.13541    53.2118  46.397568   636.4583   \n",
              "\n",
              "   sensor_05  sensor_06  sensor_07  sensor_08  ...  sensor_43  sensor_44  \\\n",
              "0   76.45975   13.41146   16.13136   15.56713  ...   41.92708  39.641200   \n",
              "1   76.45975   13.41146   16.13136   15.56713  ...   41.92708  39.641200   \n",
              "2   73.54598   13.32465   16.03733   15.61777  ...   41.66666  39.351852   \n",
              "3   76.98898   13.31742   16.24711   15.69734  ...   40.88541  39.062500   \n",
              "4   76.58897   13.35359   16.21094   15.69734  ...   41.40625  38.773150   \n",
              "\n",
              "   sensor_45  sensor_46  sensor_47  sensor_48  sensor_49  sensor_50  \\\n",
              "0   65.68287   50.92593  38.194440   157.9861   67.70834   243.0556   \n",
              "1   65.68287   50.92593  38.194440   157.9861   67.70834   243.0556   \n",
              "2   65.39352   51.21528  38.194443   155.9606   67.12963   241.3194   \n",
              "3   64.81481   51.21528  38.194440   155.9606   66.84028   240.4514   \n",
              "4   65.10416   51.79398  38.773150   158.2755   66.55093   242.1875   \n",
              "\n",
              "   sensor_51  machine_status  \n",
              "0   201.3889          NORMAL  \n",
              "1   201.3889          NORMAL  \n",
              "2   203.7037          NORMAL  \n",
              "3   203.1250          NORMAL  \n",
              "4   201.3889          NORMAL  \n",
              "\n",
              "[5 rows x 54 columns]"
            ]
          },
          "execution_count": 2,
          "metadata": {},
          "output_type": "execute_result"
        }
      ],
      "source": [
        "df = pd.read_csv('sensor.csv', index_col=0)\n",
        "df.head()"
      ]
    },
    {
      "cell_type": "code",
      "execution_count": null,
      "metadata": {
        "id": "6ZMnX4Ledmo3",
        "outputId": "3b46d163-b57a-469e-ce58-57e1237a5b3e",
        "colab": {
          "referenced_widgets": [
            "c9fd39897537460889289fa68eae3726"
          ]
        }
      },
      "outputs": [
        {
          "data": {
            "application/vnd.jupyter.widget-view+json": {
              "model_id": "c9fd39897537460889289fa68eae3726",
              "version_major": 2,
              "version_minor": 0
            },
            "text/plain": [
              "  0%|          | 0/52 [00:00<?, ?it/s]"
            ]
          },
          "metadata": {},
          "output_type": "display_data"
        },
        {
          "name": "stderr",
          "output_type": "stream",
          "text": [
            "MovieWriter ffmpeg unavailable; using Pillow instead.\n",
            "/tmp/ipykernel_8505/3642989101.py:38: MatplotlibDeprecationWarning: save() got unexpected keyword argument \"frameon\" which is no longer supported as of 3.3 and will become an error in 3.6\n",
            "  animation.save(\n"
          ]
        },
        {
          "data": {
            "image/png": "[encoded data removed]",
            "text/plain": [
              "<Figure size 1152x432 with 1 Axes>"
            ]
          },
          "metadata": {
            "needs_background": "light"
          },
          "output_type": "display_data"
        }
      ],
      "source": [
        "def plot_sensor(temp_df, save_path='sample.gif'):\n",
        "    fig = plt.figure(figsize=(16, 6))\n",
        "    ## 에니메이션 만들기\n",
        "    camera = Camera(fig)\n",
        "    ax=fig.add_subplot(111)\n",
        "    \n",
        "    ## 불량 구간 탐색 데이터\n",
        "    labels = temp_df['machine_status'].values.tolist()\n",
        "    dates = temp_df.index\n",
        "    \n",
        "    for var_name in tqdm([item for item in df.columns if 'sensor_' in item]):\n",
        "        temp_df[var_name].plot(ax=ax)\n",
        "        ax.legend([var_name], loc='upper right')\n",
        "        \n",
        "        ## 고장구간 표시\n",
        "        temp_start = dates[0]\n",
        "        temp_date = dates[0]\n",
        "        temp_label = labels[0]\n",
        "        \n",
        "        for xc, value in zip(dates, labels):\n",
        "            if temp_label != value:\n",
        "                if temp_label == \"BROKEN\":\n",
        "                    ax.axvspan(temp_start, temp_date, alpha=0.2, color='blue')\n",
        "                if temp_label == \"RECOVERING\":\n",
        "                    ax.axvspan(temp_start, temp_date, alpha=0.2, color='orange')\n",
        "                temp_start=xc\n",
        "                temp_label=value\n",
        "            temp_date = xc\n",
        "        if temp_label == \"BROKEN\":\n",
        "            ax.axvspan(temp_start, xc, alpha=0.2, color='blue')\n",
        "        if temp_label == \"RECOVERING\":\n",
        "            ax.axvspan(temp_start, xc, alpha=0.2, color='orange')\n",
        "        ## 카메라 찍기\n",
        "        camera.snap()\n",
        "        \n",
        "    animation = camera.animate(500, blit=True)\n",
        "    # .gif 파일로 저장하면 끝!\n",
        "    animation.save(\n",
        "        save_path,\n",
        "        dpi=100,\n",
        "        savefig_kwargs={\n",
        "            'frameon': False,\n",
        "            'pad_inches': 'tight'\n",
        "        }\n",
        "    )\n",
        "plot_sensor(df, 'merge.gif')"
      ]
    },
    {
      "cell_type": "markdown",
      "metadata": {
        "id": "dx6MMLNtdmo4"
      },
      "source": [
        "### Data Preprocesssing"
      ]
    },
    {
      "cell_type": "code",
      "execution_count": null,
      "metadata": {
        "id": "pFXtVqGwdmo4"
      },
      "outputs": [],
      "source": [
        "# date column\n",
        "df['date'] = pd.to_datetime(df['timestamp'])\n",
        "for var_index in [item for item in df.columns if 'sensor_' in item]:\n",
        "    df[var_index] = pd.to_numeric(df[var_index], errors='coerce')\n",
        "del df['timestamp']\n",
        "\n",
        "# Sort by date and reset index\n",
        "df = df.set_index('date')\n",
        "df = df.reset_index()"
      ]
    },
    {
      "cell_type": "code",
      "execution_count": null,
      "metadata": {
        "id": "N7n6ZwDUdmo4",
        "outputId": "08a500b5-a676-4aec-9f5e-e2fb8774b4b5"
      },
      "outputs": [
        {
          "data": {
            "text/html": [
              "<div>\n",
              "<style scoped>\n",
              "    .dataframe tbody tr th:only-of-type {\n",
              "        vertical-align: middle;\n",
              "    }\n",
              "\n",
              "    .dataframe tbody tr th {\n",
              "        vertical-align: top;\n",
              "    }\n",
              "\n",
              "    .dataframe thead th {\n",
              "        text-align: right;\n",
              "    }\n",
              "</style>\n",
              "<table border=\"1\" class=\"dataframe\">\n",
              "  <thead>\n",
              "    <tr style=\"text-align: right;\">\n",
              "      <th></th>\n",
              "      <th>date</th>\n",
              "      <th>sensor_00</th>\n",
              "      <th>sensor_01</th>\n",
              "      <th>sensor_02</th>\n",
              "      <th>sensor_03</th>\n",
              "      <th>sensor_04</th>\n",
              "      <th>sensor_05</th>\n",
              "      <th>sensor_06</th>\n",
              "      <th>sensor_07</th>\n",
              "      <th>sensor_08</th>\n",
              "      <th>...</th>\n",
              "      <th>sensor_43</th>\n",
              "      <th>sensor_44</th>\n",
              "      <th>sensor_45</th>\n",
              "      <th>sensor_46</th>\n",
              "      <th>sensor_47</th>\n",
              "      <th>sensor_48</th>\n",
              "      <th>sensor_49</th>\n",
              "      <th>sensor_50</th>\n",
              "      <th>sensor_51</th>\n",
              "      <th>machine_status</th>\n",
              "    </tr>\n",
              "  </thead>\n",
              "  <tbody>\n",
              "    <tr>\n",
              "      <th>0</th>\n",
              "      <td>2018-04-01 00:00:00</td>\n",
              "      <td>2.465394</td>\n",
              "      <td>47.09201</td>\n",
              "      <td>53.2118</td>\n",
              "      <td>46.310760</td>\n",
              "      <td>634.3750</td>\n",
              "      <td>76.45975</td>\n",
              "      <td>13.41146</td>\n",
              "      <td>16.13136</td>\n",
              "      <td>15.56713</td>\n",
              "      <td>...</td>\n",
              "      <td>41.92708</td>\n",
              "      <td>39.641200</td>\n",
              "      <td>65.68287</td>\n",
              "      <td>50.92593</td>\n",
              "      <td>38.194440</td>\n",
              "      <td>157.9861</td>\n",
              "      <td>67.70834</td>\n",
              "      <td>243.0556</td>\n",
              "      <td>201.3889</td>\n",
              "      <td>NORMAL</td>\n",
              "    </tr>\n",
              "    <tr>\n",
              "      <th>1</th>\n",
              "      <td>2018-04-01 00:01:00</td>\n",
              "      <td>2.465394</td>\n",
              "      <td>47.09201</td>\n",
              "      <td>53.2118</td>\n",
              "      <td>46.310760</td>\n",
              "      <td>634.3750</td>\n",
              "      <td>76.45975</td>\n",
              "      <td>13.41146</td>\n",
              "      <td>16.13136</td>\n",
              "      <td>15.56713</td>\n",
              "      <td>...</td>\n",
              "      <td>41.92708</td>\n",
              "      <td>39.641200</td>\n",
              "      <td>65.68287</td>\n",
              "      <td>50.92593</td>\n",
              "      <td>38.194440</td>\n",
              "      <td>157.9861</td>\n",
              "      <td>67.70834</td>\n",
              "      <td>243.0556</td>\n",
              "      <td>201.3889</td>\n",
              "      <td>NORMAL</td>\n",
              "    </tr>\n",
              "    <tr>\n",
              "      <th>2</th>\n",
              "      <td>2018-04-01 00:02:00</td>\n",
              "      <td>2.444734</td>\n",
              "      <td>47.35243</td>\n",
              "      <td>53.2118</td>\n",
              "      <td>46.397570</td>\n",
              "      <td>638.8889</td>\n",
              "      <td>73.54598</td>\n",
              "      <td>13.32465</td>\n",
              "      <td>16.03733</td>\n",
              "      <td>15.61777</td>\n",
              "      <td>...</td>\n",
              "      <td>41.66666</td>\n",
              "      <td>39.351852</td>\n",
              "      <td>65.39352</td>\n",
              "      <td>51.21528</td>\n",
              "      <td>38.194443</td>\n",
              "      <td>155.9606</td>\n",
              "      <td>67.12963</td>\n",
              "      <td>241.3194</td>\n",
              "      <td>203.7037</td>\n",
              "      <td>NORMAL</td>\n",
              "    </tr>\n",
              "    <tr>\n",
              "      <th>3</th>\n",
              "      <td>2018-04-01 00:03:00</td>\n",
              "      <td>2.460474</td>\n",
              "      <td>47.09201</td>\n",
              "      <td>53.1684</td>\n",
              "      <td>46.397568</td>\n",
              "      <td>628.1250</td>\n",
              "      <td>76.98898</td>\n",
              "      <td>13.31742</td>\n",
              "      <td>16.24711</td>\n",
              "      <td>15.69734</td>\n",
              "      <td>...</td>\n",
              "      <td>40.88541</td>\n",
              "      <td>39.062500</td>\n",
              "      <td>64.81481</td>\n",
              "      <td>51.21528</td>\n",
              "      <td>38.194440</td>\n",
              "      <td>155.9606</td>\n",
              "      <td>66.84028</td>\n",
              "      <td>240.4514</td>\n",
              "      <td>203.1250</td>\n",
              "      <td>NORMAL</td>\n",
              "    </tr>\n",
              "    <tr>\n",
              "      <th>4</th>\n",
              "      <td>2018-04-01 00:04:00</td>\n",
              "      <td>2.445718</td>\n",
              "      <td>47.13541</td>\n",
              "      <td>53.2118</td>\n",
              "      <td>46.397568</td>\n",
              "      <td>636.4583</td>\n",
              "      <td>76.58897</td>\n",
              "      <td>13.35359</td>\n",
              "      <td>16.21094</td>\n",
              "      <td>15.69734</td>\n",
              "      <td>...</td>\n",
              "      <td>41.40625</td>\n",
              "      <td>38.773150</td>\n",
              "      <td>65.10416</td>\n",
              "      <td>51.79398</td>\n",
              "      <td>38.773150</td>\n",
              "      <td>158.2755</td>\n",
              "      <td>66.55093</td>\n",
              "      <td>242.1875</td>\n",
              "      <td>201.3889</td>\n",
              "      <td>NORMAL</td>\n",
              "    </tr>\n",
              "  </tbody>\n",
              "</table>\n",
              "<p>5 rows × 54 columns</p>\n",
              "</div>"
            ],
            "text/plain": [
              "                 date  sensor_00  sensor_01  sensor_02  sensor_03  sensor_04  \\\n",
              "0 2018-04-01 00:00:00   2.465394   47.09201    53.2118  46.310760   634.3750   \n",
              "1 2018-04-01 00:01:00   2.465394   47.09201    53.2118  46.310760   634.3750   \n",
              "2 2018-04-01 00:02:00   2.444734   47.35243    53.2118  46.397570   638.8889   \n",
              "3 2018-04-01 00:03:00   2.460474   47.09201    53.1684  46.397568   628.1250   \n",
              "4 2018-04-01 00:04:00   2.445718   47.13541    53.2118  46.397568   636.4583   \n",
              "\n",
              "   sensor_05  sensor_06  sensor_07  sensor_08  ...  sensor_43  sensor_44  \\\n",
              "0   76.45975   13.41146   16.13136   15.56713  ...   41.92708  39.641200   \n",
              "1   76.45975   13.41146   16.13136   15.56713  ...   41.92708  39.641200   \n",
              "2   73.54598   13.32465   16.03733   15.61777  ...   41.66666  39.351852   \n",
              "3   76.98898   13.31742   16.24711   15.69734  ...   40.88541  39.062500   \n",
              "4   76.58897   13.35359   16.21094   15.69734  ...   41.40625  38.773150   \n",
              "\n",
              "   sensor_45  sensor_46  sensor_47  sensor_48  sensor_49  sensor_50  \\\n",
              "0   65.68287   50.92593  38.194440   157.9861   67.70834   243.0556   \n",
              "1   65.68287   50.92593  38.194440   157.9861   67.70834   243.0556   \n",
              "2   65.39352   51.21528  38.194443   155.9606   67.12963   241.3194   \n",
              "3   64.81481   51.21528  38.194440   155.9606   66.84028   240.4514   \n",
              "4   65.10416   51.79398  38.773150   158.2755   66.55093   242.1875   \n",
              "\n",
              "   sensor_51  machine_status  \n",
              "0   201.3889          NORMAL  \n",
              "1   201.3889          NORMAL  \n",
              "2   203.7037          NORMAL  \n",
              "3   203.1250          NORMAL  \n",
              "4   201.3889          NORMAL  \n",
              "\n",
              "[5 rows x 54 columns]"
            ]
          },
          "execution_count": 5,
          "metadata": {},
          "output_type": "execute_result"
        }
      ],
      "source": [
        "df.head()"
      ]
    },
    {
      "cell_type": "code",
      "execution_count": null,
      "metadata": {
        "id": "05Iwv4JWdmo4",
        "outputId": "5230840f-ca50-4c02-eeaa-2c454a531885"
      },
      "outputs": [
        {
          "data": {
            "text/plain": [
              "<AxesSubplot:>"
            ]
          },
          "execution_count": 6,
          "metadata": {},
          "output_type": "execute_result"
        },
        {
          "data": {
            "image/png": "[encoded data removed]",
            "text/plain": [
              "<Figure size 1296x576 with 1 Axes>"
            ]
          },
          "metadata": {
            "needs_background": "light"
          },
          "output_type": "display_data"
        }
      ],
      "source": [
        "# Null value\n",
        "(df.isnull().sum()/len(df)).plot.bar(figsize=(18, 8), colormap='Paired')"
      ]
    },
    {
      "cell_type": "code",
      "execution_count": null,
      "metadata": {
        "id": "xxI_asyMdmo4"
      },
      "outputs": [],
      "source": [
        "df = df.drop_duplicates()\n",
        "\n",
        "## Delete sensor 15, 50\n",
        "del df['sensor_15']\n",
        "del df['sensor_50']"
      ]
    },
    {
      "cell_type": "code",
      "execution_count": null,
      "metadata": {
        "id": "v4GVnfcudmo4",
        "outputId": "1ae9bc10-e1e2-4786-fb42-ad870a34aa7c"
      },
      "outputs": [
        {
          "data": {
            "text/html": [
              "<div>\n",
              "<style scoped>\n",
              "    .dataframe tbody tr th:only-of-type {\n",
              "        vertical-align: middle;\n",
              "    }\n",
              "\n",
              "    .dataframe tbody tr th {\n",
              "        vertical-align: top;\n",
              "    }\n",
              "\n",
              "    .dataframe thead th {\n",
              "        text-align: right;\n",
              "    }\n",
              "</style>\n",
              "<table border=\"1\" class=\"dataframe\">\n",
              "  <thead>\n",
              "    <tr style=\"text-align: right;\">\n",
              "      <th></th>\n",
              "      <th>date</th>\n",
              "      <th>sensor_00</th>\n",
              "      <th>sensor_01</th>\n",
              "      <th>sensor_02</th>\n",
              "      <th>sensor_03</th>\n",
              "      <th>sensor_04</th>\n",
              "      <th>sensor_05</th>\n",
              "      <th>sensor_06</th>\n",
              "      <th>sensor_07</th>\n",
              "      <th>sensor_08</th>\n",
              "      <th>...</th>\n",
              "      <th>sensor_42</th>\n",
              "      <th>sensor_43</th>\n",
              "      <th>sensor_44</th>\n",
              "      <th>sensor_45</th>\n",
              "      <th>sensor_46</th>\n",
              "      <th>sensor_47</th>\n",
              "      <th>sensor_48</th>\n",
              "      <th>sensor_49</th>\n",
              "      <th>sensor_51</th>\n",
              "      <th>machine_status</th>\n",
              "    </tr>\n",
              "  </thead>\n",
              "  <tbody>\n",
              "    <tr>\n",
              "      <th>0</th>\n",
              "      <td>2018-04-01 00:00:00</td>\n",
              "      <td>2.465394</td>\n",
              "      <td>47.09201</td>\n",
              "      <td>53.2118</td>\n",
              "      <td>46.310760</td>\n",
              "      <td>634.3750</td>\n",
              "      <td>76.45975</td>\n",
              "      <td>13.41146</td>\n",
              "      <td>16.13136</td>\n",
              "      <td>15.56713</td>\n",
              "      <td>...</td>\n",
              "      <td>31.770832</td>\n",
              "      <td>41.92708</td>\n",
              "      <td>39.641200</td>\n",
              "      <td>65.68287</td>\n",
              "      <td>50.92593</td>\n",
              "      <td>38.194440</td>\n",
              "      <td>157.9861</td>\n",
              "      <td>67.70834</td>\n",
              "      <td>201.3889</td>\n",
              "      <td>NORMAL</td>\n",
              "    </tr>\n",
              "    <tr>\n",
              "      <th>1</th>\n",
              "      <td>2018-04-01 00:01:00</td>\n",
              "      <td>2.465394</td>\n",
              "      <td>47.09201</td>\n",
              "      <td>53.2118</td>\n",
              "      <td>46.310760</td>\n",
              "      <td>634.3750</td>\n",
              "      <td>76.45975</td>\n",
              "      <td>13.41146</td>\n",
              "      <td>16.13136</td>\n",
              "      <td>15.56713</td>\n",
              "      <td>...</td>\n",
              "      <td>31.770832</td>\n",
              "      <td>41.92708</td>\n",
              "      <td>39.641200</td>\n",
              "      <td>65.68287</td>\n",
              "      <td>50.92593</td>\n",
              "      <td>38.194440</td>\n",
              "      <td>157.9861</td>\n",
              "      <td>67.70834</td>\n",
              "      <td>201.3889</td>\n",
              "      <td>NORMAL</td>\n",
              "    </tr>\n",
              "    <tr>\n",
              "      <th>2</th>\n",
              "      <td>2018-04-01 00:02:00</td>\n",
              "      <td>2.444734</td>\n",
              "      <td>47.35243</td>\n",
              "      <td>53.2118</td>\n",
              "      <td>46.397570</td>\n",
              "      <td>638.8889</td>\n",
              "      <td>73.54598</td>\n",
              "      <td>13.32465</td>\n",
              "      <td>16.03733</td>\n",
              "      <td>15.61777</td>\n",
              "      <td>...</td>\n",
              "      <td>31.770830</td>\n",
              "      <td>41.66666</td>\n",
              "      <td>39.351852</td>\n",
              "      <td>65.39352</td>\n",
              "      <td>51.21528</td>\n",
              "      <td>38.194443</td>\n",
              "      <td>155.9606</td>\n",
              "      <td>67.12963</td>\n",
              "      <td>203.7037</td>\n",
              "      <td>NORMAL</td>\n",
              "    </tr>\n",
              "    <tr>\n",
              "      <th>3</th>\n",
              "      <td>2018-04-01 00:03:00</td>\n",
              "      <td>2.460474</td>\n",
              "      <td>47.09201</td>\n",
              "      <td>53.1684</td>\n",
              "      <td>46.397568</td>\n",
              "      <td>628.1250</td>\n",
              "      <td>76.98898</td>\n",
              "      <td>13.31742</td>\n",
              "      <td>16.24711</td>\n",
              "      <td>15.69734</td>\n",
              "      <td>...</td>\n",
              "      <td>31.510420</td>\n",
              "      <td>40.88541</td>\n",
              "      <td>39.062500</td>\n",
              "      <td>64.81481</td>\n",
              "      <td>51.21528</td>\n",
              "      <td>38.194440</td>\n",
              "      <td>155.9606</td>\n",
              "      <td>66.84028</td>\n",
              "      <td>203.1250</td>\n",
              "      <td>NORMAL</td>\n",
              "    </tr>\n",
              "    <tr>\n",
              "      <th>4</th>\n",
              "      <td>2018-04-01 00:04:00</td>\n",
              "      <td>2.445718</td>\n",
              "      <td>47.13541</td>\n",
              "      <td>53.2118</td>\n",
              "      <td>46.397568</td>\n",
              "      <td>636.4583</td>\n",
              "      <td>76.58897</td>\n",
              "      <td>13.35359</td>\n",
              "      <td>16.21094</td>\n",
              "      <td>15.69734</td>\n",
              "      <td>...</td>\n",
              "      <td>31.510420</td>\n",
              "      <td>41.40625</td>\n",
              "      <td>38.773150</td>\n",
              "      <td>65.10416</td>\n",
              "      <td>51.79398</td>\n",
              "      <td>38.773150</td>\n",
              "      <td>158.2755</td>\n",
              "      <td>66.55093</td>\n",
              "      <td>201.3889</td>\n",
              "      <td>NORMAL</td>\n",
              "    </tr>\n",
              "  </tbody>\n",
              "</table>\n",
              "<p>5 rows × 52 columns</p>\n",
              "</div>"
            ],
            "text/plain": [
              "                 date  sensor_00  sensor_01  sensor_02  sensor_03  sensor_04  \\\n",
              "0 2018-04-01 00:00:00   2.465394   47.09201    53.2118  46.310760   634.3750   \n",
              "1 2018-04-01 00:01:00   2.465394   47.09201    53.2118  46.310760   634.3750   \n",
              "2 2018-04-01 00:02:00   2.444734   47.35243    53.2118  46.397570   638.8889   \n",
              "3 2018-04-01 00:03:00   2.460474   47.09201    53.1684  46.397568   628.1250   \n",
              "4 2018-04-01 00:04:00   2.445718   47.13541    53.2118  46.397568   636.4583   \n",
              "\n",
              "   sensor_05  sensor_06  sensor_07  sensor_08  ...  sensor_42  sensor_43  \\\n",
              "0   76.45975   13.41146   16.13136   15.56713  ...  31.770832   41.92708   \n",
              "1   76.45975   13.41146   16.13136   15.56713  ...  31.770832   41.92708   \n",
              "2   73.54598   13.32465   16.03733   15.61777  ...  31.770830   41.66666   \n",
              "3   76.98898   13.31742   16.24711   15.69734  ...  31.510420   40.88541   \n",
              "4   76.58897   13.35359   16.21094   15.69734  ...  31.510420   41.40625   \n",
              "\n",
              "   sensor_44  sensor_45  sensor_46  sensor_47  sensor_48  sensor_49  \\\n",
              "0  39.641200   65.68287   50.92593  38.194440   157.9861   67.70834   \n",
              "1  39.641200   65.68287   50.92593  38.194440   157.9861   67.70834   \n",
              "2  39.351852   65.39352   51.21528  38.194443   155.9606   67.12963   \n",
              "3  39.062500   64.81481   51.21528  38.194440   155.9606   66.84028   \n",
              "4  38.773150   65.10416   51.79398  38.773150   158.2755   66.55093   \n",
              "\n",
              "   sensor_51  machine_status  \n",
              "0   201.3889          NORMAL  \n",
              "1   201.3889          NORMAL  \n",
              "2   203.7037          NORMAL  \n",
              "3   203.1250          NORMAL  \n",
              "4   201.3889          NORMAL  \n",
              "\n",
              "[5 rows x 52 columns]"
            ]
          },
          "execution_count": 8,
          "metadata": {},
          "output_type": "execute_result"
        }
      ],
      "source": [
        "df.head()"
      ]
    },
    {
      "cell_type": "code",
      "execution_count": null,
      "metadata": {
        "id": "RTkeUN8Udmo5"
      },
      "outputs": [],
      "source": [
        "# Interpolation with mode\n",
        "df = df.fillna(0)"
      ]
    },
    {
      "cell_type": "code",
      "execution_count": null,
      "metadata": {
        "id": "cqW3hvhqdmo5",
        "outputId": "abfd4520-eabc-4fce-89e7-027ea5457089"
      },
      "outputs": [
        {
          "data": {
            "text/plain": [
              "<AxesSubplot:>"
            ]
          },
          "execution_count": 10,
          "metadata": {},
          "output_type": "execute_result"
        },
        {
          "data": {
            "image/png": "[encoded data removed]",
            "text/plain": [
              "<Figure size 1296x576 with 1 Axes>"
            ]
          },
          "metadata": {
            "needs_background": "light"
          },
          "output_type": "display_data"
        }
      ],
      "source": [
        "# Null value\n",
        "(df.isnull().sum()/len(df)).plot.bar(figsize=(18, 8), colormap='Paired')"
      ]
    },
    {
      "cell_type": "code",
      "execution_count": null,
      "metadata": {
        "id": "t4oIjY9mdmo5"
      },
      "outputs": [],
      "source": [
        "df.to_csv('sensor_fillna.csv')"
      ]
    },
    {
      "cell_type": "code",
      "execution_count": null,
      "metadata": {
        "tags": [],
        "id": "RsvEgs30dmo6",
        "outputId": "baea9adf-dc7f-4d1a-9fe5-467ec8f5a7e3"
      },
      "outputs": [
        {
          "data": {
            "text/plain": [
              "array(['NORMAL', 'BROKEN', 'RECOVERING'], dtype=object)"
            ]
          },
          "execution_count": 12,
          "metadata": {},
          "output_type": "execute_result"
        }
      ],
      "source": [
        "df['machine_status'].unique()"
      ]
    },
    {
      "cell_type": "markdown",
      "metadata": {
        "id": "r5-dlRTTdmo6"
      },
      "source": [
        "### Divide df into Normal and Abnormal data"
      ]
    },
    {
      "cell_type": "code",
      "execution_count": null,
      "metadata": {
        "id": "RupvgO6Ddmo6"
      },
      "outputs": [],
      "source": [
        "normal_df = df[df['machine_status']=='NORMAL']\n",
        "abnormal_df = df[df['machine_status']!='NORMAL'] # BROKEN or RECOVERING"
      ]
    },
    {
      "cell_type": "code",
      "execution_count": null,
      "metadata": {
        "id": "NZG3MK7ddmo6",
        "outputId": "1025b1ad-4f76-4caf-cc1c-e20c3ec149ba"
      },
      "outputs": [
        {
          "data": {
            "text/html": [
              "<div>\n",
              "<style scoped>\n",
              "    .dataframe tbody tr th:only-of-type {\n",
              "        vertical-align: middle;\n",
              "    }\n",
              "\n",
              "    .dataframe tbody tr th {\n",
              "        vertical-align: top;\n",
              "    }\n",
              "\n",
              "    .dataframe thead th {\n",
              "        text-align: right;\n",
              "    }\n",
              "</style>\n",
              "<table border=\"1\" class=\"dataframe\">\n",
              "  <thead>\n",
              "    <tr style=\"text-align: right;\">\n",
              "      <th></th>\n",
              "      <th>date</th>\n",
              "      <th>sensor_00</th>\n",
              "      <th>sensor_01</th>\n",
              "      <th>sensor_02</th>\n",
              "      <th>sensor_03</th>\n",
              "      <th>sensor_04</th>\n",
              "      <th>sensor_05</th>\n",
              "      <th>sensor_06</th>\n",
              "      <th>sensor_07</th>\n",
              "      <th>sensor_08</th>\n",
              "      <th>...</th>\n",
              "      <th>sensor_42</th>\n",
              "      <th>sensor_43</th>\n",
              "      <th>sensor_44</th>\n",
              "      <th>sensor_45</th>\n",
              "      <th>sensor_46</th>\n",
              "      <th>sensor_47</th>\n",
              "      <th>sensor_48</th>\n",
              "      <th>sensor_49</th>\n",
              "      <th>sensor_51</th>\n",
              "      <th>machine_status</th>\n",
              "    </tr>\n",
              "  </thead>\n",
              "  <tbody>\n",
              "    <tr>\n",
              "      <th>0</th>\n",
              "      <td>2018-04-01 00:00:00</td>\n",
              "      <td>2.465394</td>\n",
              "      <td>47.09201</td>\n",
              "      <td>53.2118</td>\n",
              "      <td>46.310760</td>\n",
              "      <td>634.3750</td>\n",
              "      <td>76.45975</td>\n",
              "      <td>13.41146</td>\n",
              "      <td>16.13136</td>\n",
              "      <td>15.56713</td>\n",
              "      <td>...</td>\n",
              "      <td>31.770832</td>\n",
              "      <td>41.92708</td>\n",
              "      <td>39.641200</td>\n",
              "      <td>65.68287</td>\n",
              "      <td>50.92593</td>\n",
              "      <td>38.194440</td>\n",
              "      <td>157.9861</td>\n",
              "      <td>67.70834</td>\n",
              "      <td>201.3889</td>\n",
              "      <td>NORMAL</td>\n",
              "    </tr>\n",
              "    <tr>\n",
              "      <th>1</th>\n",
              "      <td>2018-04-01 00:01:00</td>\n",
              "      <td>2.465394</td>\n",
              "      <td>47.09201</td>\n",
              "      <td>53.2118</td>\n",
              "      <td>46.310760</td>\n",
              "      <td>634.3750</td>\n",
              "      <td>76.45975</td>\n",
              "      <td>13.41146</td>\n",
              "      <td>16.13136</td>\n",
              "      <td>15.56713</td>\n",
              "      <td>...</td>\n",
              "      <td>31.770832</td>\n",
              "      <td>41.92708</td>\n",
              "      <td>39.641200</td>\n",
              "      <td>65.68287</td>\n",
              "      <td>50.92593</td>\n",
              "      <td>38.194440</td>\n",
              "      <td>157.9861</td>\n",
              "      <td>67.70834</td>\n",
              "      <td>201.3889</td>\n",
              "      <td>NORMAL</td>\n",
              "    </tr>\n",
              "    <tr>\n",
              "      <th>2</th>\n",
              "      <td>2018-04-01 00:02:00</td>\n",
              "      <td>2.444734</td>\n",
              "      <td>47.35243</td>\n",
              "      <td>53.2118</td>\n",
              "      <td>46.397570</td>\n",
              "      <td>638.8889</td>\n",
              "      <td>73.54598</td>\n",
              "      <td>13.32465</td>\n",
              "      <td>16.03733</td>\n",
              "      <td>15.61777</td>\n",
              "      <td>...</td>\n",
              "      <td>31.770830</td>\n",
              "      <td>41.66666</td>\n",
              "      <td>39.351852</td>\n",
              "      <td>65.39352</td>\n",
              "      <td>51.21528</td>\n",
              "      <td>38.194443</td>\n",
              "      <td>155.9606</td>\n",
              "      <td>67.12963</td>\n",
              "      <td>203.7037</td>\n",
              "      <td>NORMAL</td>\n",
              "    </tr>\n",
              "    <tr>\n",
              "      <th>3</th>\n",
              "      <td>2018-04-01 00:03:00</td>\n",
              "      <td>2.460474</td>\n",
              "      <td>47.09201</td>\n",
              "      <td>53.1684</td>\n",
              "      <td>46.397568</td>\n",
              "      <td>628.1250</td>\n",
              "      <td>76.98898</td>\n",
              "      <td>13.31742</td>\n",
              "      <td>16.24711</td>\n",
              "      <td>15.69734</td>\n",
              "      <td>...</td>\n",
              "      <td>31.510420</td>\n",
              "      <td>40.88541</td>\n",
              "      <td>39.062500</td>\n",
              "      <td>64.81481</td>\n",
              "      <td>51.21528</td>\n",
              "      <td>38.194440</td>\n",
              "      <td>155.9606</td>\n",
              "      <td>66.84028</td>\n",
              "      <td>203.1250</td>\n",
              "      <td>NORMAL</td>\n",
              "    </tr>\n",
              "    <tr>\n",
              "      <th>4</th>\n",
              "      <td>2018-04-01 00:04:00</td>\n",
              "      <td>2.445718</td>\n",
              "      <td>47.13541</td>\n",
              "      <td>53.2118</td>\n",
              "      <td>46.397568</td>\n",
              "      <td>636.4583</td>\n",
              "      <td>76.58897</td>\n",
              "      <td>13.35359</td>\n",
              "      <td>16.21094</td>\n",
              "      <td>15.69734</td>\n",
              "      <td>...</td>\n",
              "      <td>31.510420</td>\n",
              "      <td>41.40625</td>\n",
              "      <td>38.773150</td>\n",
              "      <td>65.10416</td>\n",
              "      <td>51.79398</td>\n",
              "      <td>38.773150</td>\n",
              "      <td>158.2755</td>\n",
              "      <td>66.55093</td>\n",
              "      <td>201.3889</td>\n",
              "      <td>NORMAL</td>\n",
              "    </tr>\n",
              "  </tbody>\n",
              "</table>\n",
              "<p>5 rows × 52 columns</p>\n",
              "</div>"
            ],
            "text/plain": [
              "                 date  sensor_00  sensor_01  sensor_02  sensor_03  sensor_04  \\\n",
              "0 2018-04-01 00:00:00   2.465394   47.09201    53.2118  46.310760   634.3750   \n",
              "1 2018-04-01 00:01:00   2.465394   47.09201    53.2118  46.310760   634.3750   \n",
              "2 2018-04-01 00:02:00   2.444734   47.35243    53.2118  46.397570   638.8889   \n",
              "3 2018-04-01 00:03:00   2.460474   47.09201    53.1684  46.397568   628.1250   \n",
              "4 2018-04-01 00:04:00   2.445718   47.13541    53.2118  46.397568   636.4583   \n",
              "\n",
              "   sensor_05  sensor_06  sensor_07  sensor_08  ...  sensor_42  sensor_43  \\\n",
              "0   76.45975   13.41146   16.13136   15.56713  ...  31.770832   41.92708   \n",
              "1   76.45975   13.41146   16.13136   15.56713  ...  31.770832   41.92708   \n",
              "2   73.54598   13.32465   16.03733   15.61777  ...  31.770830   41.66666   \n",
              "3   76.98898   13.31742   16.24711   15.69734  ...  31.510420   40.88541   \n",
              "4   76.58897   13.35359   16.21094   15.69734  ...  31.510420   41.40625   \n",
              "\n",
              "   sensor_44  sensor_45  sensor_46  sensor_47  sensor_48  sensor_49  \\\n",
              "0  39.641200   65.68287   50.92593  38.194440   157.9861   67.70834   \n",
              "1  39.641200   65.68287   50.92593  38.194440   157.9861   67.70834   \n",
              "2  39.351852   65.39352   51.21528  38.194443   155.9606   67.12963   \n",
              "3  39.062500   64.81481   51.21528  38.194440   155.9606   66.84028   \n",
              "4  38.773150   65.10416   51.79398  38.773150   158.2755   66.55093   \n",
              "\n",
              "   sensor_51  machine_status  \n",
              "0   201.3889          NORMAL  \n",
              "1   201.3889          NORMAL  \n",
              "2   203.7037          NORMAL  \n",
              "3   203.1250          NORMAL  \n",
              "4   201.3889          NORMAL  \n",
              "\n",
              "[5 rows x 52 columns]"
            ]
          },
          "execution_count": 14,
          "metadata": {},
          "output_type": "execute_result"
        }
      ],
      "source": [
        "normal_df.head()"
      ]
    },
    {
      "cell_type": "code",
      "execution_count": null,
      "metadata": {
        "id": "-iiPIW1gdmo6",
        "outputId": "6fbea0f3-f3a0-40fe-c963-a48a2eedc52e"
      },
      "outputs": [
        {
          "data": {
            "text/html": [
              "<div>\n",
              "<style scoped>\n",
              "    .dataframe tbody tr th:only-of-type {\n",
              "        vertical-align: middle;\n",
              "    }\n",
              "\n",
              "    .dataframe tbody tr th {\n",
              "        vertical-align: top;\n",
              "    }\n",
              "\n",
              "    .dataframe thead th {\n",
              "        text-align: right;\n",
              "    }\n",
              "</style>\n",
              "<table border=\"1\" class=\"dataframe\">\n",
              "  <thead>\n",
              "    <tr style=\"text-align: right;\">\n",
              "      <th></th>\n",
              "      <th>date</th>\n",
              "      <th>sensor_00</th>\n",
              "      <th>sensor_01</th>\n",
              "      <th>sensor_02</th>\n",
              "      <th>sensor_03</th>\n",
              "      <th>sensor_04</th>\n",
              "      <th>sensor_05</th>\n",
              "      <th>sensor_06</th>\n",
              "      <th>sensor_07</th>\n",
              "      <th>sensor_08</th>\n",
              "      <th>...</th>\n",
              "      <th>sensor_42</th>\n",
              "      <th>sensor_43</th>\n",
              "      <th>sensor_44</th>\n",
              "      <th>sensor_45</th>\n",
              "      <th>sensor_46</th>\n",
              "      <th>sensor_47</th>\n",
              "      <th>sensor_48</th>\n",
              "      <th>sensor_49</th>\n",
              "      <th>sensor_51</th>\n",
              "      <th>machine_status</th>\n",
              "    </tr>\n",
              "  </thead>\n",
              "  <tbody>\n",
              "    <tr>\n",
              "      <th>17155</th>\n",
              "      <td>2018-04-12 21:55:00</td>\n",
              "      <td>0.0</td>\n",
              "      <td>53.34201</td>\n",
              "      <td>52.82118</td>\n",
              "      <td>43.402775</td>\n",
              "      <td>202.526031</td>\n",
              "      <td>49.79289</td>\n",
              "      <td>3.219039</td>\n",
              "      <td>16.89091</td>\n",
              "      <td>16.869210</td>\n",
              "      <td>...</td>\n",
              "      <td>36.979160</td>\n",
              "      <td>50.78125</td>\n",
              "      <td>50.92593</td>\n",
              "      <td>51.21528</td>\n",
              "      <td>50.63657</td>\n",
              "      <td>46.00694</td>\n",
              "      <td>409.1435</td>\n",
              "      <td>121.5278</td>\n",
              "      <td>324.6528</td>\n",
              "      <td>BROKEN</td>\n",
              "    </tr>\n",
              "    <tr>\n",
              "      <th>17156</th>\n",
              "      <td>2018-04-12 21:56:00</td>\n",
              "      <td>0.0</td>\n",
              "      <td>53.55902</td>\n",
              "      <td>52.77777</td>\n",
              "      <td>43.402775</td>\n",
              "      <td>204.725098</td>\n",
              "      <td>53.74214</td>\n",
              "      <td>3.045428</td>\n",
              "      <td>17.42621</td>\n",
              "      <td>15.740740</td>\n",
              "      <td>...</td>\n",
              "      <td>36.979164</td>\n",
              "      <td>49.47916</td>\n",
              "      <td>50.34722</td>\n",
              "      <td>51.21528</td>\n",
              "      <td>49.18982</td>\n",
              "      <td>49.47917</td>\n",
              "      <td>431.7130</td>\n",
              "      <td>133.1019</td>\n",
              "      <td>341.7245</td>\n",
              "      <td>RECOVERING</td>\n",
              "    </tr>\n",
              "    <tr>\n",
              "      <th>17157</th>\n",
              "      <td>2018-04-12 21:57:00</td>\n",
              "      <td>0.0</td>\n",
              "      <td>53.55902</td>\n",
              "      <td>52.77777</td>\n",
              "      <td>43.402775</td>\n",
              "      <td>201.137131</td>\n",
              "      <td>52.49996</td>\n",
              "      <td>7.537616</td>\n",
              "      <td>13.53443</td>\n",
              "      <td>9.324364</td>\n",
              "      <td>...</td>\n",
              "      <td>36.979160</td>\n",
              "      <td>48.17708</td>\n",
              "      <td>49.76852</td>\n",
              "      <td>50.92593</td>\n",
              "      <td>48.03241</td>\n",
              "      <td>53.81944</td>\n",
              "      <td>451.3889</td>\n",
              "      <td>140.0463</td>\n",
              "      <td>466.1458</td>\n",
              "      <td>RECOVERING</td>\n",
              "    </tr>\n",
              "    <tr>\n",
              "      <th>17158</th>\n",
              "      <td>2018-04-12 21:58:00</td>\n",
              "      <td>0.0</td>\n",
              "      <td>52.77777</td>\n",
              "      <td>52.69097</td>\n",
              "      <td>43.402770</td>\n",
              "      <td>204.030655</td>\n",
              "      <td>57.19875</td>\n",
              "      <td>7.609953</td>\n",
              "      <td>16.60880</td>\n",
              "      <td>16.203700</td>\n",
              "      <td>...</td>\n",
              "      <td>36.718750</td>\n",
              "      <td>46.87500</td>\n",
              "      <td>48.03241</td>\n",
              "      <td>50.34722</td>\n",
              "      <td>47.45370</td>\n",
              "      <td>58.15972</td>\n",
              "      <td>466.4352</td>\n",
              "      <td>144.9653</td>\n",
              "      <td>366.0301</td>\n",
              "      <td>RECOVERING</td>\n",
              "    </tr>\n",
              "    <tr>\n",
              "      <th>17159</th>\n",
              "      <td>2018-04-12 21:59:00</td>\n",
              "      <td>0.0</td>\n",
              "      <td>52.60416</td>\n",
              "      <td>52.73437</td>\n",
              "      <td>43.446180</td>\n",
              "      <td>203.567688</td>\n",
              "      <td>50.96181</td>\n",
              "      <td>7.573785</td>\n",
              "      <td>16.70284</td>\n",
              "      <td>16.160300</td>\n",
              "      <td>...</td>\n",
              "      <td>36.718750</td>\n",
              "      <td>45.83333</td>\n",
              "      <td>47.45370</td>\n",
              "      <td>49.76852</td>\n",
              "      <td>46.58565</td>\n",
              "      <td>63.65741</td>\n",
              "      <td>474.8264</td>\n",
              "      <td>149.0162</td>\n",
              "      <td>374.4213</td>\n",
              "      <td>RECOVERING</td>\n",
              "    </tr>\n",
              "  </tbody>\n",
              "</table>\n",
              "<p>5 rows × 52 columns</p>\n",
              "</div>"
            ],
            "text/plain": [
              "                     date  sensor_00  sensor_01  sensor_02  sensor_03  \\\n",
              "17155 2018-04-12 21:55:00        0.0   53.34201   52.82118  43.402775   \n",
              "17156 2018-04-12 21:56:00        0.0   53.55902   52.77777  43.402775   \n",
              "17157 2018-04-12 21:57:00        0.0   53.55902   52.77777  43.402775   \n",
              "17158 2018-04-12 21:58:00        0.0   52.77777   52.69097  43.402770   \n",
              "17159 2018-04-12 21:59:00        0.0   52.60416   52.73437  43.446180   \n",
              "\n",
              "        sensor_04  sensor_05  sensor_06  sensor_07  sensor_08  ...  sensor_42  \\\n",
              "17155  202.526031   49.79289   3.219039   16.89091  16.869210  ...  36.979160   \n",
              "17156  204.725098   53.74214   3.045428   17.42621  15.740740  ...  36.979164   \n",
              "17157  201.137131   52.49996   7.537616   13.53443   9.324364  ...  36.979160   \n",
              "17158  204.030655   57.19875   7.609953   16.60880  16.203700  ...  36.718750   \n",
              "17159  203.567688   50.96181   7.573785   16.70284  16.160300  ...  36.718750   \n",
              "\n",
              "       sensor_43  sensor_44  sensor_45  sensor_46  sensor_47  sensor_48  \\\n",
              "17155   50.78125   50.92593   51.21528   50.63657   46.00694   409.1435   \n",
              "17156   49.47916   50.34722   51.21528   49.18982   49.47917   431.7130   \n",
              "17157   48.17708   49.76852   50.92593   48.03241   53.81944   451.3889   \n",
              "17158   46.87500   48.03241   50.34722   47.45370   58.15972   466.4352   \n",
              "17159   45.83333   47.45370   49.76852   46.58565   63.65741   474.8264   \n",
              "\n",
              "       sensor_49  sensor_51  machine_status  \n",
              "17155   121.5278   324.6528          BROKEN  \n",
              "17156   133.1019   341.7245      RECOVERING  \n",
              "17157   140.0463   466.1458      RECOVERING  \n",
              "17158   144.9653   366.0301      RECOVERING  \n",
              "17159   149.0162   374.4213      RECOVERING  \n",
              "\n",
              "[5 rows x 52 columns]"
            ]
          },
          "execution_count": 15,
          "metadata": {},
          "output_type": "execute_result"
        }
      ],
      "source": [
        "abnormal_df.head()"
      ]
    },
    {
      "cell_type": "code",
      "execution_count": null,
      "metadata": {
        "id": "-0ayBHZKdmo7"
      },
      "outputs": [],
      "source": [
        "# Since the data is time series and the input is a window of certain size, we do not use shuffle here.\n",
        "# normal df -> training : parameter setting : validation : test data ratio = 7:1:1:1\n",
        "\n",
        "interval_n = int(len(normal_df)/10)\n",
        "normal_df1 = df.iloc[0:interval_n*7]\n",
        "normal_df2 = df.iloc[interval_n*7:interval_n*8]\n",
        "normal_df3 = df.iloc[interval_n*8:interval_n*9]\n",
        "normal_df4 = df.iloc[interval_n*9:]\n",
        "\n",
        "## abnormal data -> validation : test = 5:5\n",
        "interval_ab = int(len(abnormal_df)/2)\n",
        "abnormal_df1 = df.iloc[0:interval_ab]\n",
        "abnormal_df2 = df.iloc[interval_ab:]"
      ]
    },
    {
      "cell_type": "code",
      "execution_count": null,
      "metadata": {
        "id": "5JAA2q5rdmo7",
        "outputId": "ceb9c65a-9a22-42ac-9abf-4e9413c7129d"
      },
      "outputs": [
        {
          "name": "stderr",
          "output_type": "stream",
          "text": [
            "/tmp/ipykernel_8505/10198925.py:3: FutureWarning: DataFrame.mean and DataFrame.median with numeric_only=None will include datetime64 and datetime64tz columns in a future version.\n",
            "  mean_df = normal_df1.mean()\n",
            "/tmp/ipykernel_8505/10198925.py:3: FutureWarning: Dropping of nuisance columns in DataFrame reductions (with 'numeric_only=None') is deprecated; in a future version this will raise TypeError.  Select only valid columns before calling the reduction.\n",
            "  mean_df = normal_df1.mean()\n",
            "/tmp/ipykernel_8505/10198925.py:4: FutureWarning: Dropping of nuisance columns in DataFrame reductions (with 'numeric_only=None') is deprecated; in a future version this will raise TypeError.  Select only valid columns before calling the reduction.\n",
            "  std_df = normal_df1.std()\n"
          ]
        }
      ],
      "source": [
        "# mean and var for data normalization\n",
        "\n",
        "mean_df = normal_df1.mean()\n",
        "std_df = normal_df1.std()"
      ]
    },
    {
      "cell_type": "code",
      "execution_count": null,
      "metadata": {
        "id": "brX4PRqtdmo7",
        "outputId": "fbc6c08c-4e17-4ec8-8ba0-6974e83c67b7"
      },
      "outputs": [
        {
          "data": {
            "text/plain": [
              "sensor_00      2.159035\n",
              "sensor_01     47.237951\n",
              "sensor_02     50.527273\n",
              "sensor_03     43.111523\n",
              "sensor_04    569.103892\n",
              "sensor_05     74.361346\n",
              "sensor_06     12.473137\n",
              "sensor_07     14.909206\n",
              "sensor_08     14.364763\n",
              "sensor_09     14.089501\n",
              "sensor_10     39.231426\n",
              "sensor_11     37.703331\n",
              "sensor_12     26.699501\n",
              "sensor_13      3.433757\n",
              "sensor_14    355.188157\n",
              "sensor_16    392.963155\n",
              "sensor_17    399.775258\n",
              "sensor_18      2.183312\n",
              "sensor_19    552.852657\n",
              "sensor_20    341.437981\n",
              "sensor_21    753.720049\n",
              "sensor_22    421.972289\n",
              "sensor_23    836.447827\n",
              "sensor_24    521.700664\n",
              "sensor_25    608.041134\n",
              "sensor_26    729.656096\n",
              "sensor_27    468.764279\n",
              "sensor_28    862.935752\n",
              "sensor_29    594.106294\n",
              "sensor_30    565.390382\n",
              "sensor_31    833.293293\n",
              "sensor_32    751.982607\n",
              "sensor_33    470.463550\n",
              "sensor_34    205.845316\n",
              "sensor_35    370.890102\n",
              "sensor_36    484.618437\n",
              "sensor_37     80.523766\n",
              "sensor_38     49.305332\n",
              "sensor_39     37.284933\n",
              "sensor_40     63.475283\n",
              "sensor_41     35.847711\n",
              "sensor_42     35.987851\n",
              "sensor_43     43.014894\n",
              "sensor_44     39.907523\n",
              "sensor_45     41.164626\n",
              "sensor_46     44.675968\n",
              "sensor_47     42.724325\n",
              "sensor_48    111.170304\n",
              "sensor_49     52.134512\n",
              "sensor_51    181.473077\n",
              "dtype: float64"
            ]
          },
          "execution_count": 18,
          "metadata": {},
          "output_type": "execute_result"
        }
      ],
      "source": [
        "mean_df"
      ]
    },
    {
      "cell_type": "code",
      "execution_count": null,
      "metadata": {
        "id": "IMIdwxipdmo7",
        "outputId": "4557c1e3-26f7-4871-a619-4fec94d0b85b"
      },
      "outputs": [
        {
          "data": {
            "text/plain": [
              "sensor_00      0.761847\n",
              "sensor_01      3.745298\n",
              "sensor_02      4.413519\n",
              "sensor_03      2.709069\n",
              "sensor_04    171.989881\n",
              "sensor_05     20.696757\n",
              "sensor_06      3.349412\n",
              "sensor_07      3.940253\n",
              "sensor_08      3.656255\n",
              "sensor_09      3.571499\n",
              "sensor_10     14.049191\n",
              "sensor_11     13.998450\n",
              "sensor_12     11.161769\n",
              "sensor_13      4.648843\n",
              "sensor_14    134.066602\n",
              "sensor_16    149.744173\n",
              "sensor_17    155.058150\n",
              "sensor_18      0.915940\n",
              "sensor_19    235.903058\n",
              "sensor_20    120.547145\n",
              "sensor_21    268.446801\n",
              "sensor_22    178.366741\n",
              "sensor_23    326.096578\n",
              "sensor_24    215.784872\n",
              "sensor_25    261.263688\n",
              "sensor_26    280.200202\n",
              "sensor_27    163.002204\n",
              "sensor_28    361.501609\n",
              "sensor_29    275.751421\n",
              "sensor_30    224.414794\n",
              "sensor_31    338.166005\n",
              "sensor_32    291.078176\n",
              "sensor_33    181.997764\n",
              "sensor_34     85.520911\n",
              "sensor_35    144.873657\n",
              "sensor_36    299.936189\n",
              "sensor_37     28.250875\n",
              "sensor_38     11.692412\n",
              "sensor_39     17.453755\n",
              "sensor_40     21.010711\n",
              "sensor_41      8.708935\n",
              "sensor_42     12.134331\n",
              "sensor_43     12.384192\n",
              "sensor_44      7.443275\n",
              "sensor_45     10.379861\n",
              "sensor_46     13.538825\n",
              "sensor_47      8.512412\n",
              "sensor_48     58.028853\n",
              "sensor_49     13.740977\n",
              "sensor_51    142.344618\n",
              "dtype: float64"
            ]
          },
          "execution_count": 20,
          "metadata": {},
          "output_type": "execute_result"
        }
      ],
      "source": [
        "std_df = std_df[1:].astype(np.float64)\n",
        "std_df"
      ]
    },
    {
      "cell_type": "markdown",
      "metadata": {
        "tags": [],
        "id": "h1hmPw2hdmo8"
      },
      "source": [
        "### Dataset Structure"
      ]
    },
    {
      "cell_type": "code",
      "execution_count": null,
      "metadata": {
        "id": "jaztlUzWdmo8"
      },
      "outputs": [],
      "source": [
        "# Use index when calling the data.\n",
        "\n",
        "def make_data_idx(dates, window_size=1):\n",
        "    input_idx = []\n",
        "    for idx in range(window_size-1, len(dates)):\n",
        "        cur_date = dates[idx].to_pydatetime()\n",
        "        in_date = dates[idx - (window_size-1)].to_pydatetime()\n",
        "        \n",
        "        _in_period = (cur_date - in_date).days * 24 * 60 + (cur_date - in_date).seconds / 60\n",
        "        \n",
        "        # Check whether each index is 1 minute.\n",
        "        if _in_period == (window_size-1):\n",
        "            input_idx.append(list(range(idx - window_size+1, idx+1)))\n",
        "    return input_idx"
      ]
    },
    {
      "cell_type": "code",
      "execution_count": null,
      "metadata": {
        "id": "pCZF0nNAdmo8"
      },
      "outputs": [],
      "source": [
        "## Compose TagDataset by inheriting Dataset\n",
        "\n",
        "class TagDataset(Dataset):\n",
        "    def __init__(self, input_size, df, mean_df=None, std_df=None, window_size=1):\n",
        "        \n",
        "        # Number of variables\n",
        "        self.input_size = input_size\n",
        "        \n",
        "        # Length of sequence to be recovered\n",
        "        self.window_size = window_size\n",
        "        \n",
        "        # Deep copy of the data for summary\n",
        "        original_df = df.copy()\n",
        "        \n",
        "        # Normalization\n",
        "        if mean_df is not None and std_df is not None:\n",
        "            sensor_columns = [item for item in df.columns if 'sensor_' in item]\n",
        "            df[sensor_columns] = (df[sensor_columns].astype(np.float64)-mean_df.astype(np.float64))/std_df.astype(np.float64)\n",
        "        \n",
        "        # Use continuous indices\n",
        "        dates = list(df['date'])\n",
        "        self.input_ids = make_data_idx(dates, window_size=window_size)\n",
        "        \n",
        "        # Make sure: Only use sensor data for reconstruction\n",
        "        self.selected_column = [item for item in df.columns if 'sensor_' in item][:input_size]\n",
        "        print(df[self.selected_column].values.dtype)\n",
        "        self.var_data = torch.tensor(torch.from_numpy(df[self.selected_column].values.astype(np.float64)), dtype=torch.float)\n",
        "        \n",
        "        # For summary\n",
        "        self.df = original_df.iloc[np.array(self.input_ids)[:, -1]]\n",
        "        \n",
        "    # Dataset은 반드시 __len__ 함수를 만들어줘야함(데이터 길이)\n",
        "    def __len__(self):\n",
        "        return len(self.input_ids)\n",
        "    \n",
        "    # Dataset은 반드시 __getitem__ 함수를 만들어줘야함\n",
        "    # torch 모듈은 __getitem__ 을 호출하여 학습할 데이터를 불러옴.\n",
        "    def __getitem__(self, item):\n",
        "        temp_input_ids = self.input_ids[item]\n",
        "        input_values = self.var_data[temp_input_ids]\n",
        "        return input_values"
      ]
    },
    {
      "cell_type": "markdown",
      "metadata": {
        "tags": [],
        "id": "d1a40lWKdmo8"
      },
      "source": [
        "### Modelling"
      ]
    },
    {
      "cell_type": "code",
      "execution_count": null,
      "metadata": {
        "id": "sxAnuYX4dmo8"
      },
      "outputs": [],
      "source": [
        "class Encoder(nn.Module):\n",
        "\n",
        "    def __init__(self, input_size=4096, hidden_size=1024, num_layers=2):\n",
        "        super(Encoder, self).__init__()\n",
        "        self.hidden_size = hidden_size\n",
        "        self.num_layers = num_layers\n",
        "        self.lstm = nn.LSTM(input_size, hidden_size, num_layers, batch_first=True,\n",
        "                            dropout=0.1, bidirectional=False)\n",
        "\n",
        "    def forward(self, x):\n",
        "        outputs, (hidden, cell) = self.lstm(x)  # out: tensor of shape (batch_size, seq_length, hidden_size)|\n",
        "        return (hidden, cell)\n",
        "    \n",
        "class Decoder(nn.Module):\n",
        "\n",
        "    def __init__(self, input_size=4096, hidden_size=1024, output_size=4096, num_layers=2):\n",
        "        super(Decoder, self).__init__()\n",
        "        self.hidden_size = hidden_size\n",
        "        self.output_size = output_size\n",
        "        self.num_layers = num_layers\n",
        "\n",
        "        self.lstm = nn.LSTM(input_size, hidden_size, num_layers, batch_first=True,\n",
        "                            dropout=0.1, bidirectional=False)\n",
        "\n",
        "        self.relu = nn.ReLU()\n",
        "        self.fc = nn.Linear(hidden_size, output_size)\n",
        "        \n",
        "    def forward(self, x, hidden):\n",
        "        output, (hidden, cell) = self.lstm(x, hidden)  # out: tensor of shape (batch_size, seq_length, hidden_size)\n",
        "        prediction = self.fc(output)\n",
        "\n",
        "        return prediction, (hidden, cell)\n",
        "    \n",
        "# LSTM Auto Encoder\n",
        "class LSTMAutoEncoder(nn.Module):\n",
        "\n",
        "    def __init__(self,\n",
        "                 input_dim: int,\n",
        "                 latent_dim: int,\n",
        "                 window_size: int=1,\n",
        "                 **kwargs) -> None:\n",
        "        \"\"\"\n",
        "        :param input_dim: 변수 Tag 갯수\n",
        "        :param latent_dim: 최종 압축할 차원 크기\n",
        "        :param window_size: 길이\n",
        "        :param kwargs:\n",
        "        \"\"\"\n",
        "\n",
        "        super(LSTMAutoEncoder, self).__init__()\n",
        "\n",
        "        self.latent_dim = latent_dim\n",
        "        self.input_dim = input_dim\n",
        "        self.window_size = window_size\n",
        "\n",
        "        if \"num_layers\" in kwargs:\n",
        "            num_layers = kwargs.pop(\"num_layers\")\n",
        "        else:\n",
        "            num_layers = 1\n",
        "\n",
        "        self.encoder = Encoder(\n",
        "            input_size=input_dim,\n",
        "            hidden_size=latent_dim,\n",
        "            num_layers=num_layers,\n",
        "        )\n",
        "        self.reconstruct_decoder = Decoder(\n",
        "            input_size=input_dim,\n",
        "            output_size=input_dim,\n",
        "            hidden_size=latent_dim,\n",
        "            num_layers=num_layers,\n",
        "        )\n",
        "\n",
        "    def forward(self, src:torch.Tensor, **kwargs):\n",
        "        batch_size, sequence_length, var_length = src.size()\n",
        "\n",
        "        ## Encoder 넣기\n",
        "        encoder_hidden = self.encoder(src)\n",
        "        \n",
        "        inv_idx = torch.arange(sequence_length - 1, -1, -1).long()\n",
        "        reconstruct_output = []\n",
        "        temp_input = torch.zeros((batch_size, 1, var_length), dtype=torch.float).to(src.device)\n",
        "        hidden = encoder_hidden\n",
        "        for t in range(sequence_length):\n",
        "            temp_input, hidden = self.reconstruct_decoder(temp_input, hidden)\n",
        "            reconstruct_output.append(temp_input)\n",
        "        reconstruct_output = torch.cat(reconstruct_output, dim=1)[:, inv_idx, :]\n",
        "        \n",
        "        return [reconstruct_output, src]\n",
        "\n",
        "    def loss_function(self,\n",
        "                      *args,\n",
        "                      **kwargs) -> dict:\n",
        "        recons = args[0]\n",
        "        input = args[1]\n",
        "        \n",
        "        ## MSE loss(Mean squared Error)\n",
        "        loss = F.mse_loss(recons, input)\n",
        "        return loss"
      ]
    },
    {
      "cell_type": "markdown",
      "metadata": {
        "tags": [],
        "id": "Aruo6h4_dmo9"
      },
      "source": [
        "### Training"
      ]
    },
    {
      "cell_type": "code",
      "execution_count": null,
      "metadata": {
        "id": "OGjM-z2Rdmo9"
      },
      "outputs": [],
      "source": [
        "def run(args, model, train_loader, test_loader):\n",
        "    # optimizer setting\n",
        "    optimizer = torch.optim.Adam(model.parameters(), lr=args.learning_rate)\n",
        "\n",
        "    epochs = tqdm(range(args.max_iter//len(train_loader)+1))\n",
        "    \n",
        "    # training\n",
        "    count = 0\n",
        "    best_loss = 100000000\n",
        "    for epoch in epochs:\n",
        "        model.train()\n",
        "        optimizer.zero_grad()\n",
        "        train_iterator = tqdm(enumerate(train_loader), total=len(train_loader), desc=\"training\")\n",
        "\n",
        "        for i, batch_data in train_iterator:\n",
        "            \n",
        "            if count > args.max_iter:\n",
        "                return model\n",
        "            count += 1\n",
        "            \n",
        "            batch_data = batch_data.to(args.device)\n",
        "            predict_values = model(batch_data)\n",
        "            loss = model.loss_function(*predict_values)\n",
        "\n",
        "            # Backward and optimize\n",
        "            loss.backward()\n",
        "            optimizer.step()\n",
        "            optimizer.zero_grad()\n",
        "            \n",
        "            train_iterator.set_postfix({\n",
        "                \"train_loss\": float(loss),\n",
        "            })\n",
        "\n",
        "        model.eval()\n",
        "        eval_loss = 0\n",
        "        test_iterator = tqdm(enumerate(test_loader), total=len(test_loader), desc=\"testing\")\n",
        "        with torch.no_grad():\n",
        "            for i, batch_data in test_iterator:\n",
        "                \n",
        "                batch_data = batch_data.to(args.device)\n",
        "                predict_values = model(batch_data)\n",
        "                loss = model.loss_function(*predict_values)\n",
        "\n",
        "                eval_loss += loss.mean().item()\n",
        "\n",
        "                test_iterator.set_postfix({\n",
        "                    \"eval_loss\": float(loss),\n",
        "                })\n",
        "        eval_loss = eval_loss / len(test_loader)\n",
        "        epochs.set_postfix({\n",
        "             \"Evaluation Score\": float(eval_loss),\n",
        "        })\n",
        "        if eval_loss < best_loss:\n",
        "            best_loss = eval_loss\n",
        "        else:\n",
        "            if args.early_stop:\n",
        "                print('early stop condition   best_loss[{}]  eval_loss[{}]'.format(best_loss, eval_loss))\n",
        "                return model\n",
        "        \n",
        "    return model\n",
        "\n",
        "def get_loss_list(args, model, test_loader):\n",
        "    test_iterator = tqdm(enumerate(test_loader), total=len(test_loader), desc=\"testing\")\n",
        "    loss_list = []\n",
        "    \n",
        "    with torch.no_grad():\n",
        "        for i, batch_data in test_iterator:\n",
        "                \n",
        "            batch_data = batch_data.to(args.device)\n",
        "            predict_values = model(batch_data)\n",
        "            \n",
        "            # MAE(Mean Absolute Error)\n",
        "            loss = F.l1_loss(predict_values[0], predict_values[1], reduce=False)\n",
        "            \n",
        "            # loss = loss.sum(dim=2).sum(dim=1).cpu().numpy()\n",
        "            loss = loss.mean(dim=1).cpu().numpy()\n",
        "            loss_list.append(loss)\n",
        "    loss_list = np.concatenate(loss_list, axis=0)\n",
        "    return loss_list"
      ]
    },
    {
      "cell_type": "markdown",
      "metadata": {
        "tags": [],
        "id": "CV9fgMy-dmo9"
      },
      "source": [
        "### Model and Paramter Setting"
      ]
    },
    {
      "cell_type": "code",
      "execution_count": null,
      "metadata": {
        "id": "oQ_lPdr4dmo9"
      },
      "outputs": [],
      "source": [
        "args = easydict.EasyDict({\n",
        "    \"batch_size\": 128,\n",
        "    \"device\": torch.device('cuda') if torch.cuda.is_available() else torch.device('cpu'),\n",
        "    \"input_size\": 40,\n",
        "    \"latent_size\": 10,\n",
        "    \"output_size\": 40,\n",
        "    \"window_size\" : 3, # sequence length\n",
        "    \"num_layers\": 2, # number of LSTM layer\n",
        "    \"learning_rate\" : 0.001,\n",
        "    \"max_iter\" : 100000,\n",
        "    'early_stop' : False\n",
        "    })"
      ]
    },
    {
      "cell_type": "markdown",
      "metadata": {
        "tags": [],
        "id": "EWDv1YSEdmo-"
      },
      "source": [
        "### Model Training"
      ]
    },
    {
      "cell_type": "code",
      "execution_count": null,
      "metadata": {
        "id": "h2zGa0oZdmo-",
        "outputId": "080b2a4a-e9d9-4c0f-896b-33a6aabec52f"
      },
      "outputs": [
        {
          "name": "stderr",
          "output_type": "stream",
          "text": [
            "/tmp/ipykernel_8505/308308071.py:18: SettingWithCopyWarning: \n",
            "A value is trying to be set on a copy of a slice from a DataFrame.\n",
            "Try using .loc[row_indexer,col_indexer] = value instead\n",
            "\n",
            "See the caveats in the documentation: https://pandas.pydata.org/pandas-docs/stable/user_guide/indexing.html#returning-a-view-versus-a-copy\n",
            "  df[sensor_columns] = (df[sensor_columns].astype(np.float64)-mean_df.astype(np.float64))/std_df.astype(np.float64)\n"
          ]
        },
        {
          "name": "stdout",
          "output_type": "stream",
          "text": [
            "float64\n"
          ]
        },
        {
          "name": "stderr",
          "output_type": "stream",
          "text": [
            "/tmp/ipykernel_8505/308308071.py:27: UserWarning: To copy construct from a tensor, it is recommended to use sourceTensor.clone().detach() or sourceTensor.clone().detach().requires_grad_(True), rather than torch.tensor(sourceTensor).\n",
            "  self.var_data = torch.tensor(torch.from_numpy(df[self.selected_column].values.astype(np.float64)), dtype=torch.float)\n",
            "/tmp/ipykernel_8505/308308071.py:18: SettingWithCopyWarning: \n",
            "A value is trying to be set on a copy of a slice from a DataFrame.\n",
            "Try using .loc[row_indexer,col_indexer] = value instead\n",
            "\n",
            "See the caveats in the documentation: https://pandas.pydata.org/pandas-docs/stable/user_guide/indexing.html#returning-a-view-versus-a-copy\n",
            "  df[sensor_columns] = (df[sensor_columns].astype(np.float64)-mean_df.astype(np.float64))/std_df.astype(np.float64)\n"
          ]
        },
        {
          "name": "stdout",
          "output_type": "stream",
          "text": [
            "float64\n"
          ]
        },
        {
          "name": "stderr",
          "output_type": "stream",
          "text": [
            "/tmp/ipykernel_8505/308308071.py:27: UserWarning: To copy construct from a tensor, it is recommended to use sourceTensor.clone().detach() or sourceTensor.clone().detach().requires_grad_(True), rather than torch.tensor(sourceTensor).\n",
            "  self.var_data = torch.tensor(torch.from_numpy(df[self.selected_column].values.astype(np.float64)), dtype=torch.float)\n",
            "/tmp/ipykernel_8505/308308071.py:18: SettingWithCopyWarning: \n",
            "A value is trying to be set on a copy of a slice from a DataFrame.\n",
            "Try using .loc[row_indexer,col_indexer] = value instead\n",
            "\n",
            "See the caveats in the documentation: https://pandas.pydata.org/pandas-docs/stable/user_guide/indexing.html#returning-a-view-versus-a-copy\n",
            "  df[sensor_columns] = (df[sensor_columns].astype(np.float64)-mean_df.astype(np.float64))/std_df.astype(np.float64)\n"
          ]
        },
        {
          "name": "stdout",
          "output_type": "stream",
          "text": [
            "float64\n"
          ]
        },
        {
          "name": "stderr",
          "output_type": "stream",
          "text": [
            "/tmp/ipykernel_8505/308308071.py:27: UserWarning: To copy construct from a tensor, it is recommended to use sourceTensor.clone().detach() or sourceTensor.clone().detach().requires_grad_(True), rather than torch.tensor(sourceTensor).\n",
            "  self.var_data = torch.tensor(torch.from_numpy(df[self.selected_column].values.astype(np.float64)), dtype=torch.float)\n",
            "/tmp/ipykernel_8505/308308071.py:18: SettingWithCopyWarning: \n",
            "A value is trying to be set on a copy of a slice from a DataFrame.\n",
            "Try using .loc[row_indexer,col_indexer] = value instead\n",
            "\n",
            "See the caveats in the documentation: https://pandas.pydata.org/pandas-docs/stable/user_guide/indexing.html#returning-a-view-versus-a-copy\n",
            "  df[sensor_columns] = (df[sensor_columns].astype(np.float64)-mean_df.astype(np.float64))/std_df.astype(np.float64)\n"
          ]
        },
        {
          "name": "stdout",
          "output_type": "stream",
          "text": [
            "float64\n"
          ]
        },
        {
          "name": "stderr",
          "output_type": "stream",
          "text": [
            "/tmp/ipykernel_8505/308308071.py:27: UserWarning: To copy construct from a tensor, it is recommended to use sourceTensor.clone().detach() or sourceTensor.clone().detach().requires_grad_(True), rather than torch.tensor(sourceTensor).\n",
            "  self.var_data = torch.tensor(torch.from_numpy(df[self.selected_column].values.astype(np.float64)), dtype=torch.float)\n",
            "/tmp/ipykernel_8505/308308071.py:18: SettingWithCopyWarning: \n",
            "A value is trying to be set on a copy of a slice from a DataFrame.\n",
            "Try using .loc[row_indexer,col_indexer] = value instead\n",
            "\n",
            "See the caveats in the documentation: https://pandas.pydata.org/pandas-docs/stable/user_guide/indexing.html#returning-a-view-versus-a-copy\n",
            "  df[sensor_columns] = (df[sensor_columns].astype(np.float64)-mean_df.astype(np.float64))/std_df.astype(np.float64)\n"
          ]
        },
        {
          "name": "stdout",
          "output_type": "stream",
          "text": [
            "float64\n"
          ]
        },
        {
          "name": "stderr",
          "output_type": "stream",
          "text": [
            "/tmp/ipykernel_8505/308308071.py:27: UserWarning: To copy construct from a tensor, it is recommended to use sourceTensor.clone().detach() or sourceTensor.clone().detach().requires_grad_(True), rather than torch.tensor(sourceTensor).\n",
            "  self.var_data = torch.tensor(torch.from_numpy(df[self.selected_column].values.astype(np.float64)), dtype=torch.float)\n",
            "/tmp/ipykernel_8505/308308071.py:18: SettingWithCopyWarning: \n",
            "A value is trying to be set on a copy of a slice from a DataFrame.\n",
            "Try using .loc[row_indexer,col_indexer] = value instead\n",
            "\n",
            "See the caveats in the documentation: https://pandas.pydata.org/pandas-docs/stable/user_guide/indexing.html#returning-a-view-versus-a-copy\n",
            "  df[sensor_columns] = (df[sensor_columns].astype(np.float64)-mean_df.astype(np.float64))/std_df.astype(np.float64)\n"
          ]
        },
        {
          "name": "stdout",
          "output_type": "stream",
          "text": [
            "float64\n"
          ]
        },
        {
          "name": "stderr",
          "output_type": "stream",
          "text": [
            "/tmp/ipykernel_8505/308308071.py:27: UserWarning: To copy construct from a tensor, it is recommended to use sourceTensor.clone().detach() or sourceTensor.clone().detach().requires_grad_(True), rather than torch.tensor(sourceTensor).\n",
            "  self.var_data = torch.tensor(torch.from_numpy(df[self.selected_column].values.astype(np.float64)), dtype=torch.float)\n"
          ]
        }
      ],
      "source": [
        "# Convert to TagDataset\n",
        "\n",
        "normal_dataset1 = TagDataset(df=normal_df1, input_size=args.input_size, window_size=args.window_size, mean_df=mean_df, std_df=std_df)\n",
        "normal_dataset2 = TagDataset(df=normal_df2, input_size=args.input_size, window_size=args.window_size, mean_df=mean_df, std_df=std_df)\n",
        "normal_dataset3 = TagDataset(df=normal_df3, input_size=args.input_size, window_size=args.window_size, mean_df=mean_df, std_df=std_df)\n",
        "normal_dataset4 = TagDataset(df=normal_df4, input_size=args.input_size, window_size=args.window_size, mean_df=mean_df, std_df=std_df)\n",
        "abnormal_dataset1 = TagDataset(df=abnormal_df1, input_size=args.input_size, window_size=args.window_size, mean_df=mean_df, std_df=std_df)\n",
        "abnormal_dataset2 = TagDataset(df=abnormal_df2, input_size=args.input_size, window_size=args.window_size, mean_df=mean_df, std_df=std_df)"
      ]
    },
    {
      "cell_type": "code",
      "execution_count": null,
      "metadata": {
        "id": "6542oAO6dmo-",
        "outputId": "e05285e9-9dc4-4616-ed55-3c928c7b4c9a"
      },
      "outputs": [
        {
          "name": "stdout",
          "output_type": "stream",
          "text": [
            "float64\n"
          ]
        },
        {
          "name": "stderr",
          "output_type": "stream",
          "text": [
            "/tmp/ipykernel_8505/308308071.py:27: UserWarning: To copy construct from a tensor, it is recommended to use sourceTensor.clone().detach() or sourceTensor.clone().detach().requires_grad_(True), rather than torch.tensor(sourceTensor).\n",
            "  self.var_data = torch.tensor(torch.from_numpy(df[self.selected_column].values.astype(np.float64)), dtype=torch.float)\n"
          ]
        }
      ],
      "source": [
        "total_dataset = TagDataset(df=df, input_size=args.input_size, window_size=args.window_size, mean_df=mean_df, std_df=std_df)"
      ]
    },
    {
      "cell_type": "code",
      "execution_count": null,
      "metadata": {
        "id": "px-6IX0Ddmo-"
      },
      "outputs": [],
      "source": [
        "# Convert to Data Loader\n",
        "\n",
        "train_loader = torch.utils.data.DataLoader(\n",
        "                 dataset=total_dataset,\n",
        "                 batch_size=args.batch_size,\n",
        "                 shuffle=True)\n",
        "valid_loader = torch.utils.data.DataLoader(\n",
        "                dataset=normal_dataset2,\n",
        "                batch_size=args.batch_size,\n",
        "                shuffle=False)"
      ]
    },
    {
      "cell_type": "code",
      "execution_count": null,
      "metadata": {
        "id": "EAgYkOCPdmo_",
        "outputId": "6acf1632-a4fb-4a21-c5bd-3cf5ed4dda10"
      },
      "outputs": [
        {
          "data": {
            "text/plain": [
              "LSTMAutoEncoder(\n",
              "  (encoder): Encoder(\n",
              "    (lstm): LSTM(40, 10, num_layers=2, batch_first=True, dropout=0.1)\n",
              "  )\n",
              "  (reconstruct_decoder): Decoder(\n",
              "    (lstm): LSTM(40, 10, num_layers=2, batch_first=True, dropout=0.1)\n",
              "    (relu): ReLU()\n",
              "    (fc): Linear(in_features=10, out_features=40, bias=True)\n",
              "  )\n",
              ")"
            ]
          },
          "execution_count": 46,
          "metadata": {},
          "output_type": "execute_result"
        }
      ],
      "source": [
        "# Model generation\n",
        "\n",
        "model = LSTMAutoEncoder(input_dim=args.input_size, latent_dim=args.latent_size, window_size=args.window_size, num_layers=args.num_layers)\n",
        "model.to(args.device)"
      ]
    },
    {
      "cell_type": "code",
      "execution_count": null,
      "metadata": {
        "id": "3bG8t0ezdmo_",
        "outputId": "ec06f51a-653a-4665-c160-c1ae551ce623",
        "colab": {
          "referenced_widgets": [
            "50f917b51496438580c0642ac38c1919",
            "9c04f9e505ab40ed9bb9cc8868b3bb19",
            "d9c2fd0dcce049fa8cd7d3297288f35f",
            "313274004217409bbfc92d26b6e3dc6c",
            "c1febc3472c943848643acea3f544852",
            "3031f0f2f6294652bde5414e27015327",
            "01b50aaa41834930bc7b0908edb4c589",
            "01b154ac7e4442b9802e5ed24c084ea0",
            "901770511d7f4d13b0a3c2bc9c3f8ede",
            "a0023e8f54f043cd987eebcd2a813a63",
            "14c661a43f12493691102677bc8f0c32",
            "f029048c47b5414291f183ce77e49a61",
            "fd344637381b49fabc1bee08f1de5315",
            "88abbdc9aa314072ac0c4d25e312a471",
            "7e01afa1e1854929999329e513e743d4",
            "b03af9172c3444e1a709fa96642d82c7",
            "7396428039c9435bb67b45dd59ffc31d",
            "c304b3f77be04b0dbbf08405c5c29e5b",
            "193be9434d04440e8bd0b5f47807967a",
            "cb9f5dda8fe9471b9400a9587b5a95b3",
            "287d3095df414a54a6da73f3cde4e3cf",
            "89183239e92344a58d3a055622ecc2f5",
            "dbe1145822fd459c8f932ec76a6cd343",
            "383d0e20473b4177961bf0a5862e5ee6",
            "81215ab2a8134a8f9b7cd08bf27545a7",
            "b0e7f8c31d9f4e3e9ade4de2e218cbbb",
            "b191e8df4f214fb48138f1ab0ada3a7f",
            "db2a76fe307c4599a1e5e7fb4c979f01",
            "18b791b23ed941a48f6523183060b518",
            "b94ce0ab9f0349af916b3722ae4f1730",
            "716bd3d74d4a471992410253854c4c29",
            "796d9fec3a9f46dd831f1c80fbf29f26",
            "0f40230a2be04757ada916b3365ab4d5",
            "84f5392edb48439fa9dcc35034cd49e9",
            "15fd3b5427834e77aac379c538b3c09e",
            "309887829cc4407c8d3762e322cdc7e0",
            "8f672e77a24c406e85f98e0b64e4a373",
            "9256d5b9a9f34761852070722166ad7d",
            "d2dc48e296254d199be68a7607c7f4e2",
            "6e8feefc619c4bd5a9ea77b56981fe9c",
            "54a87af0e1024a7d901fa228cfd70c9d",
            "3c79033290b14b099467205e9002a8e4",
            "e4aa410d9a9c4bc4ac97ee5d2d321b28",
            "0e52ac29c143447bac97b34160668549",
            "cadff2321e8e494faf9a80af4fee9a57",
            "b8693bc5cf664e9e91b8c1afbf2572c0",
            "8a188fcd91c94eff99511cc9d86e77de",
            "024555843b6a4ee1a6cd32044d1357eb",
            "5787b8bcf7e24fa38b0713d2329889b1",
            "61b63276011b459eb929e8069df2159b",
            "d4ace055525442959e513e05d8d46b84",
            "9693c3ae37ba419d92d0728aec415f39",
            "f827e4ebd7444c96875bd6e558acb67e",
            "69cb287411ea4f1f846a1df5de02dad1",
            "e3d642e6cc4044d2ae2a1784ad380c7f",
            "3310ed977ce54951b0e1ecf081fe1fc5",
            "e3ed0ce18f5f4f3db9191d46e261d06c",
            "1cddc6aa632c4286b154fa587640de72",
            "c73c5669673a4b32aa126e7e2e575fdb",
            "77fa815a4eb947feaa0851e43161db43",
            "57bef84dd88e4183923b9e6e0903883d",
            "830e517f2b71437fa5a2be176251f3a2",
            "d61af59735ff424a95b5b3708d0f381f",
            "0f959eeb2a8c4cc48d1e89eb1e572a0f",
            "8423727ba4f44baab9afbf09c68fcabb",
            "f4fbb25ddb1541a9a4a0b85398aff1c1",
            "ec9cbefd8252457e9766495844c053f6",
            "1a49081815c047878f29bcb7a143370a",
            "f37dddc6366f41ebb28f1387ce8be2ed",
            "adeba5cabff9431aa438c3e021915163",
            "7ddb321d4a164e3c8cbc5ef55a561323",
            "5ad4b4e1e1254ba1adb0b6ea55a9156d",
            "39c2babf4597413c9a61c541f82b9fc0",
            "1934eba308ea4b0fb8fbc72d9d61e391",
            "2141a0ae0a6f43079f1c409eb83a9daf",
            "f063c4e4b84741648a19f42057491c1a",
            "a42eae57528c41988dad96598e2706a5",
            "184a9f55d2384119b4949030357a7edf",
            "f77e2a30e4cb4c898802155cf63f97c0",
            "e15963f6a14e4571bb2045d44da2d850",
            "eea98e91dc18442caf641fef438a860f",
            "b0698ecf9fec472890f5377b4d9c1089",
            "1ca1e424334547908ab12fe023b1b833",
            "bc360a8879e74a8389e0d450d5294ff5",
            "c577143f2bb94ad3aa1e9e38774a0c55",
            "bb842d230cc44c839a64db2319ac3192",
            "14112593407d49678627f6356a3497ff",
            "9855577003eb4451a925c4a555b0bcbf",
            "974cf59aab0d43ac8ea3f20cf2ddbed4",
            "64373305957c48189e61c80aac6ababd",
            "27198b4184874e96868076f113b98016",
            "435f3f54c2b04c339c4f7a319fd17007",
            "8d02e5047d8b40deaa60606e5d23a7f5",
            "5d2c636cb6554912bda3864294988e9a",
            "806e8b42980345a28a370c0e26dfcf44",
            "ab9173caa4e14116875b44742f3e60f1",
            "09947f7ed59b4d67b3d06c59e62b614b",
            "ffff24ab999b42d692e6201c6e77be92",
            "087e403b22aa4566aba8d1295b747e83",
            "1b666e895052460c99ab0a796358b234",
            "aacc8fe1b8f54be59b2aa958b4400645",
            "c075b46c9fec4573b0b3ebbd58307dbe",
            "fa671c213a0e4dc9b7d9b2f835e66edb",
            "a06fd6251c264f81b4d7ae6ce5d392a7",
            "b203ab18dc3f4215bd56dea66fbcc353",
            "f997eb4047104d3d989b5394d7714a09",
            "04925e5e6c32446ca9160e97bb9dbba2",
            "5faa6126a87047a59d6e66924d1609ad",
            "0335ec0e71414296b2b964622ebe94e2",
            "078c118a09584c10aea2b0a23037498d",
            "5908863faa62428db6ba4cd133e4321c",
            "0ad4a73722034c42936101435fd8fa2d",
            "ac653bdbf7ce429fa404d049eee907e7",
            "fdee96323b904bf388be9bd1d97e9470",
            "1692ef5b8572462cab50930d408949c0",
            "5d34c883748e4025a65d2daa92cb8d2c",
            "d59095cdb45848739804534716d3f111",
            "6907e1917d3740bfac408759bbf3708b"
          ]
        }
      },
      "outputs": [
        {
          "data": {
            "application/vnd.jupyter.widget-view+json": {
              "model_id": "50f917b51496438580c0642ac38c1919",
              "version_major": 2,
              "version_minor": 0
            },
            "text/plain": [
              "  0%|          | 0/59 [00:00<?, ?it/s]"
            ]
          },
          "metadata": {},
          "output_type": "display_data"
        },
        {
          "data": {
            "application/vnd.jupyter.widget-view+json": {
              "model_id": "9c04f9e505ab40ed9bb9cc8868b3bb19",
              "version_major": 2,
              "version_minor": 0
            },
            "text/plain": [
              "training:   0%|          | 0/1722 [00:00<?, ?it/s]"
            ]
          },
          "metadata": {},
          "output_type": "display_data"
        },
        {
          "data": {
            "application/vnd.jupyter.widget-view+json": {
              "model_id": "d9c2fd0dcce049fa8cd7d3297288f35f",
              "version_major": 2,
              "version_minor": 0
            },
            "text/plain": [
              "testing:   0%|          | 0/161 [00:00<?, ?it/s]"
            ]
          },
          "metadata": {},
          "output_type": "display_data"
        },
        {
          "data": {
            "application/vnd.jupyter.widget-view+json": {
              "model_id": "313274004217409bbfc92d26b6e3dc6c",
              "version_major": 2,
              "version_minor": 0
            },
            "text/plain": [
              "training:   0%|          | 0/1722 [00:00<?, ?it/s]"
            ]
          },
          "metadata": {},
          "output_type": "display_data"
        },
        {
          "data": {
            "application/vnd.jupyter.widget-view+json": {
              "model_id": "c1febc3472c943848643acea3f544852",
              "version_major": 2,
              "version_minor": 0
            },
            "text/plain": [
              "testing:   0%|          | 0/161 [00:00<?, ?it/s]"
            ]
          },
          "metadata": {},
          "output_type": "display_data"
        },
        {
          "data": {
            "application/vnd.jupyter.widget-view+json": {
              "model_id": "3031f0f2f6294652bde5414e27015327",
              "version_major": 2,
              "version_minor": 0
            },
            "text/plain": [
              "training:   0%|          | 0/1722 [00:00<?, ?it/s]"
            ]
          },
          "metadata": {},
          "output_type": "display_data"
        },
        {
          "data": {
            "application/vnd.jupyter.widget-view+json": {
              "model_id": "01b50aaa41834930bc7b0908edb4c589",
              "version_major": 2,
              "version_minor": 0
            },
            "text/plain": [
              "testing:   0%|          | 0/161 [00:00<?, ?it/s]"
            ]
          },
          "metadata": {},
          "output_type": "display_data"
        },
        {
          "data": {
            "application/vnd.jupyter.widget-view+json": {
              "model_id": "01b154ac7e4442b9802e5ed24c084ea0",
              "version_major": 2,
              "version_minor": 0
            },
            "text/plain": [
              "training:   0%|          | 0/1722 [00:00<?, ?it/s]"
            ]
          },
          "metadata": {},
          "output_type": "display_data"
        },
        {
          "data": {
            "application/vnd.jupyter.widget-view+json": {
              "model_id": "901770511d7f4d13b0a3c2bc9c3f8ede",
              "version_major": 2,
              "version_minor": 0
            },
            "text/plain": [
              "testing:   0%|          | 0/161 [00:00<?, ?it/s]"
            ]
          },
          "metadata": {},
          "output_type": "display_data"
        },
        {
          "data": {
            "application/vnd.jupyter.widget-view+json": {
              "model_id": "a0023e8f54f043cd987eebcd2a813a63",
              "version_major": 2,
              "version_minor": 0
            },
            "text/plain": [
              "training:   0%|          | 0/1722 [00:00<?, ?it/s]"
            ]
          },
          "metadata": {},
          "output_type": "display_data"
        },
        {
          "data": {
            "application/vnd.jupyter.widget-view+json": {
              "model_id": "14c661a43f12493691102677bc8f0c32",
              "version_major": 2,
              "version_minor": 0
            },
            "text/plain": [
              "testing:   0%|          | 0/161 [00:00<?, ?it/s]"
            ]
          },
          "metadata": {},
          "output_type": "display_data"
        },
        {
          "data": {
            "application/vnd.jupyter.widget-view+json": {
              "model_id": "f029048c47b5414291f183ce77e49a61",
              "version_major": 2,
              "version_minor": 0
            },
            "text/plain": [
              "training:   0%|          | 0/1722 [00:00<?, ?it/s]"
            ]
          },
          "metadata": {},
          "output_type": "display_data"
        },
        {
          "data": {
            "application/vnd.jupyter.widget-view+json": {
              "model_id": "fd344637381b49fabc1bee08f1de5315",
              "version_major": 2,
              "version_minor": 0
            },
            "text/plain": [
              "testing:   0%|          | 0/161 [00:00<?, ?it/s]"
            ]
          },
          "metadata": {},
          "output_type": "display_data"
        },
        {
          "data": {
            "application/vnd.jupyter.widget-view+json": {
              "model_id": "88abbdc9aa314072ac0c4d25e312a471",
              "version_major": 2,
              "version_minor": 0
            },
            "text/plain": [
              "training:   0%|          | 0/1722 [00:00<?, ?it/s]"
            ]
          },
          "metadata": {},
          "output_type": "display_data"
        },
        {
          "data": {
            "application/vnd.jupyter.widget-view+json": {
              "model_id": "7e01afa1e1854929999329e513e743d4",
              "version_major": 2,
              "version_minor": 0
            },
            "text/plain": [
              "testing:   0%|          | 0/161 [00:00<?, ?it/s]"
            ]
          },
          "metadata": {},
          "output_type": "display_data"
        },
        {
          "data": {
            "application/vnd.jupyter.widget-view+json": {
              "model_id": "b03af9172c3444e1a709fa96642d82c7",
              "version_major": 2,
              "version_minor": 0
            },
            "text/plain": [
              "training:   0%|          | 0/1722 [00:00<?, ?it/s]"
            ]
          },
          "metadata": {},
          "output_type": "display_data"
        },
        {
          "data": {
            "application/vnd.jupyter.widget-view+json": {
              "model_id": "7396428039c9435bb67b45dd59ffc31d",
              "version_major": 2,
              "version_minor": 0
            },
            "text/plain": [
              "testing:   0%|          | 0/161 [00:00<?, ?it/s]"
            ]
          },
          "metadata": {},
          "output_type": "display_data"
        },
        {
          "data": {
            "application/vnd.jupyter.widget-view+json": {
              "model_id": "c304b3f77be04b0dbbf08405c5c29e5b",
              "version_major": 2,
              "version_minor": 0
            },
            "text/plain": [
              "training:   0%|          | 0/1722 [00:00<?, ?it/s]"
            ]
          },
          "metadata": {},
          "output_type": "display_data"
        },
        {
          "data": {
            "application/vnd.jupyter.widget-view+json": {
              "model_id": "193be9434d04440e8bd0b5f47807967a",
              "version_major": 2,
              "version_minor": 0
            },
            "text/plain": [
              "testing:   0%|          | 0/161 [00:00<?, ?it/s]"
            ]
          },
          "metadata": {},
          "output_type": "display_data"
        },
        {
          "data": {
            "application/vnd.jupyter.widget-view+json": {
              "model_id": "cb9f5dda8fe9471b9400a9587b5a95b3",
              "version_major": 2,
              "version_minor": 0
            },
            "text/plain": [
              "training:   0%|          | 0/1722 [00:00<?, ?it/s]"
            ]
          },
          "metadata": {},
          "output_type": "display_data"
        },
        {
          "data": {
            "application/vnd.jupyter.widget-view+json": {
              "model_id": "287d3095df414a54a6da73f3cde4e3cf",
              "version_major": 2,
              "version_minor": 0
            },
            "text/plain": [
              "testing:   0%|          | 0/161 [00:00<?, ?it/s]"
            ]
          },
          "metadata": {},
          "output_type": "display_data"
        },
        {
          "data": {
            "application/vnd.jupyter.widget-view+json": {
              "model_id": "89183239e92344a58d3a055622ecc2f5",
              "version_major": 2,
              "version_minor": 0
            },
            "text/plain": [
              "training:   0%|          | 0/1722 [00:00<?, ?it/s]"
            ]
          },
          "metadata": {},
          "output_type": "display_data"
        },
        {
          "data": {
            "application/vnd.jupyter.widget-view+json": {
              "model_id": "dbe1145822fd459c8f932ec76a6cd343",
              "version_major": 2,
              "version_minor": 0
            },
            "text/plain": [
              "testing:   0%|          | 0/161 [00:00<?, ?it/s]"
            ]
          },
          "metadata": {},
          "output_type": "display_data"
        },
        {
          "data": {
            "application/vnd.jupyter.widget-view+json": {
              "model_id": "383d0e20473b4177961bf0a5862e5ee6",
              "version_major": 2,
              "version_minor": 0
            },
            "text/plain": [
              "training:   0%|          | 0/1722 [00:00<?, ?it/s]"
            ]
          },
          "metadata": {},
          "output_type": "display_data"
        },
        {
          "data": {
            "application/vnd.jupyter.widget-view+json": {
              "model_id": "81215ab2a8134a8f9b7cd08bf27545a7",
              "version_major": 2,
              "version_minor": 0
            },
            "text/plain": [
              "testing:   0%|          | 0/161 [00:00<?, ?it/s]"
            ]
          },
          "metadata": {},
          "output_type": "display_data"
        },
        {
          "data": {
            "application/vnd.jupyter.widget-view+json": {
              "model_id": "b0e7f8c31d9f4e3e9ade4de2e218cbbb",
              "version_major": 2,
              "version_minor": 0
            },
            "text/plain": [
              "training:   0%|          | 0/1722 [00:00<?, ?it/s]"
            ]
          },
          "metadata": {},
          "output_type": "display_data"
        },
        {
          "data": {
            "application/vnd.jupyter.widget-view+json": {
              "model_id": "b191e8df4f214fb48138f1ab0ada3a7f",
              "version_major": 2,
              "version_minor": 0
            },
            "text/plain": [
              "testing:   0%|          | 0/161 [00:00<?, ?it/s]"
            ]
          },
          "metadata": {},
          "output_type": "display_data"
        },
        {
          "data": {
            "application/vnd.jupyter.widget-view+json": {
              "model_id": "db2a76fe307c4599a1e5e7fb4c979f01",
              "version_major": 2,
              "version_minor": 0
            },
            "text/plain": [
              "training:   0%|          | 0/1722 [00:00<?, ?it/s]"
            ]
          },
          "metadata": {},
          "output_type": "display_data"
        },
        {
          "data": {
            "application/vnd.jupyter.widget-view+json": {
              "model_id": "18b791b23ed941a48f6523183060b518",
              "version_major": 2,
              "version_minor": 0
            },
            "text/plain": [
              "testing:   0%|          | 0/161 [00:00<?, ?it/s]"
            ]
          },
          "metadata": {},
          "output_type": "display_data"
        },
        {
          "data": {
            "application/vnd.jupyter.widget-view+json": {
              "model_id": "b94ce0ab9f0349af916b3722ae4f1730",
              "version_major": 2,
              "version_minor": 0
            },
            "text/plain": [
              "training:   0%|          | 0/1722 [00:00<?, ?it/s]"
            ]
          },
          "metadata": {},
          "output_type": "display_data"
        },
        {
          "data": {
            "application/vnd.jupyter.widget-view+json": {
              "model_id": "716bd3d74d4a471992410253854c4c29",
              "version_major": 2,
              "version_minor": 0
            },
            "text/plain": [
              "testing:   0%|          | 0/161 [00:00<?, ?it/s]"
            ]
          },
          "metadata": {},
          "output_type": "display_data"
        },
        {
          "data": {
            "application/vnd.jupyter.widget-view+json": {
              "model_id": "796d9fec3a9f46dd831f1c80fbf29f26",
              "version_major": 2,
              "version_minor": 0
            },
            "text/plain": [
              "training:   0%|          | 0/1722 [00:00<?, ?it/s]"
            ]
          },
          "metadata": {},
          "output_type": "display_data"
        },
        {
          "data": {
            "application/vnd.jupyter.widget-view+json": {
              "model_id": "0f40230a2be04757ada916b3365ab4d5",
              "version_major": 2,
              "version_minor": 0
            },
            "text/plain": [
              "testing:   0%|          | 0/161 [00:00<?, ?it/s]"
            ]
          },
          "metadata": {},
          "output_type": "display_data"
        },
        {
          "data": {
            "application/vnd.jupyter.widget-view+json": {
              "model_id": "84f5392edb48439fa9dcc35034cd49e9",
              "version_major": 2,
              "version_minor": 0
            },
            "text/plain": [
              "training:   0%|          | 0/1722 [00:00<?, ?it/s]"
            ]
          },
          "metadata": {},
          "output_type": "display_data"
        },
        {
          "data": {
            "application/vnd.jupyter.widget-view+json": {
              "model_id": "15fd3b5427834e77aac379c538b3c09e",
              "version_major": 2,
              "version_minor": 0
            },
            "text/plain": [
              "testing:   0%|          | 0/161 [00:00<?, ?it/s]"
            ]
          },
          "metadata": {},
          "output_type": "display_data"
        },
        {
          "data": {
            "application/vnd.jupyter.widget-view+json": {
              "model_id": "309887829cc4407c8d3762e322cdc7e0",
              "version_major": 2,
              "version_minor": 0
            },
            "text/plain": [
              "training:   0%|          | 0/1722 [00:00<?, ?it/s]"
            ]
          },
          "metadata": {},
          "output_type": "display_data"
        },
        {
          "data": {
            "application/vnd.jupyter.widget-view+json": {
              "model_id": "8f672e77a24c406e85f98e0b64e4a373",
              "version_major": 2,
              "version_minor": 0
            },
            "text/plain": [
              "testing:   0%|          | 0/161 [00:00<?, ?it/s]"
            ]
          },
          "metadata": {},
          "output_type": "display_data"
        },
        {
          "data": {
            "application/vnd.jupyter.widget-view+json": {
              "model_id": "9256d5b9a9f34761852070722166ad7d",
              "version_major": 2,
              "version_minor": 0
            },
            "text/plain": [
              "training:   0%|          | 0/1722 [00:00<?, ?it/s]"
            ]
          },
          "metadata": {},
          "output_type": "display_data"
        },
        {
          "data": {
            "application/vnd.jupyter.widget-view+json": {
              "model_id": "d2dc48e296254d199be68a7607c7f4e2",
              "version_major": 2,
              "version_minor": 0
            },
            "text/plain": [
              "testing:   0%|          | 0/161 [00:00<?, ?it/s]"
            ]
          },
          "metadata": {},
          "output_type": "display_data"
        },
        {
          "data": {
            "application/vnd.jupyter.widget-view+json": {
              "model_id": "6e8feefc619c4bd5a9ea77b56981fe9c",
              "version_major": 2,
              "version_minor": 0
            },
            "text/plain": [
              "training:   0%|          | 0/1722 [00:00<?, ?it/s]"
            ]
          },
          "metadata": {},
          "output_type": "display_data"
        },
        {
          "data": {
            "application/vnd.jupyter.widget-view+json": {
              "model_id": "54a87af0e1024a7d901fa228cfd70c9d",
              "version_major": 2,
              "version_minor": 0
            },
            "text/plain": [
              "testing:   0%|          | 0/161 [00:00<?, ?it/s]"
            ]
          },
          "metadata": {},
          "output_type": "display_data"
        },
        {
          "data": {
            "application/vnd.jupyter.widget-view+json": {
              "model_id": "3c79033290b14b099467205e9002a8e4",
              "version_major": 2,
              "version_minor": 0
            },
            "text/plain": [
              "training:   0%|          | 0/1722 [00:00<?, ?it/s]"
            ]
          },
          "metadata": {},
          "output_type": "display_data"
        },
        {
          "data": {
            "application/vnd.jupyter.widget-view+json": {
              "model_id": "e4aa410d9a9c4bc4ac97ee5d2d321b28",
              "version_major": 2,
              "version_minor": 0
            },
            "text/plain": [
              "testing:   0%|          | 0/161 [00:00<?, ?it/s]"
            ]
          },
          "metadata": {},
          "output_type": "display_data"
        },
        {
          "data": {
            "application/vnd.jupyter.widget-view+json": {
              "model_id": "0e52ac29c143447bac97b34160668549",
              "version_major": 2,
              "version_minor": 0
            },
            "text/plain": [
              "training:   0%|          | 0/1722 [00:00<?, ?it/s]"
            ]
          },
          "metadata": {},
          "output_type": "display_data"
        },
        {
          "data": {
            "application/vnd.jupyter.widget-view+json": {
              "model_id": "cadff2321e8e494faf9a80af4fee9a57",
              "version_major": 2,
              "version_minor": 0
            },
            "text/plain": [
              "testing:   0%|          | 0/161 [00:00<?, ?it/s]"
            ]
          },
          "metadata": {},
          "output_type": "display_data"
        },
        {
          "data": {
            "application/vnd.jupyter.widget-view+json": {
              "model_id": "b8693bc5cf664e9e91b8c1afbf2572c0",
              "version_major": 2,
              "version_minor": 0
            },
            "text/plain": [
              "training:   0%|          | 0/1722 [00:00<?, ?it/s]"
            ]
          },
          "metadata": {},
          "output_type": "display_data"
        },
        {
          "data": {
            "application/vnd.jupyter.widget-view+json": {
              "model_id": "8a188fcd91c94eff99511cc9d86e77de",
              "version_major": 2,
              "version_minor": 0
            },
            "text/plain": [
              "testing:   0%|          | 0/161 [00:00<?, ?it/s]"
            ]
          },
          "metadata": {},
          "output_type": "display_data"
        },
        {
          "data": {
            "application/vnd.jupyter.widget-view+json": {
              "model_id": "024555843b6a4ee1a6cd32044d1357eb",
              "version_major": 2,
              "version_minor": 0
            },
            "text/plain": [
              "training:   0%|          | 0/1722 [00:00<?, ?it/s]"
            ]
          },
          "metadata": {},
          "output_type": "display_data"
        },
        {
          "data": {
            "application/vnd.jupyter.widget-view+json": {
              "model_id": "5787b8bcf7e24fa38b0713d2329889b1",
              "version_major": 2,
              "version_minor": 0
            },
            "text/plain": [
              "testing:   0%|          | 0/161 [00:00<?, ?it/s]"
            ]
          },
          "metadata": {},
          "output_type": "display_data"
        },
        {
          "data": {
            "application/vnd.jupyter.widget-view+json": {
              "model_id": "61b63276011b459eb929e8069df2159b",
              "version_major": 2,
              "version_minor": 0
            },
            "text/plain": [
              "training:   0%|          | 0/1722 [00:00<?, ?it/s]"
            ]
          },
          "metadata": {},
          "output_type": "display_data"
        },
        {
          "data": {
            "application/vnd.jupyter.widget-view+json": {
              "model_id": "d4ace055525442959e513e05d8d46b84",
              "version_major": 2,
              "version_minor": 0
            },
            "text/plain": [
              "testing:   0%|          | 0/161 [00:00<?, ?it/s]"
            ]
          },
          "metadata": {},
          "output_type": "display_data"
        },
        {
          "data": {
            "application/vnd.jupyter.widget-view+json": {
              "model_id": "9693c3ae37ba419d92d0728aec415f39",
              "version_major": 2,
              "version_minor": 0
            },
            "text/plain": [
              "training:   0%|          | 0/1722 [00:00<?, ?it/s]"
            ]
          },
          "metadata": {},
          "output_type": "display_data"
        },
        {
          "data": {
            "application/vnd.jupyter.widget-view+json": {
              "model_id": "f827e4ebd7444c96875bd6e558acb67e",
              "version_major": 2,
              "version_minor": 0
            },
            "text/plain": [
              "testing:   0%|          | 0/161 [00:00<?, ?it/s]"
            ]
          },
          "metadata": {},
          "output_type": "display_data"
        },
        {
          "data": {
            "application/vnd.jupyter.widget-view+json": {
              "model_id": "69cb287411ea4f1f846a1df5de02dad1",
              "version_major": 2,
              "version_minor": 0
            },
            "text/plain": [
              "training:   0%|          | 0/1722 [00:00<?, ?it/s]"
            ]
          },
          "metadata": {},
          "output_type": "display_data"
        },
        {
          "data": {
            "application/vnd.jupyter.widget-view+json": {
              "model_id": "e3d642e6cc4044d2ae2a1784ad380c7f",
              "version_major": 2,
              "version_minor": 0
            },
            "text/plain": [
              "testing:   0%|          | 0/161 [00:00<?, ?it/s]"
            ]
          },
          "metadata": {},
          "output_type": "display_data"
        },
        {
          "data": {
            "application/vnd.jupyter.widget-view+json": {
              "model_id": "3310ed977ce54951b0e1ecf081fe1fc5",
              "version_major": 2,
              "version_minor": 0
            },
            "text/plain": [
              "training:   0%|          | 0/1722 [00:00<?, ?it/s]"
            ]
          },
          "metadata": {},
          "output_type": "display_data"
        },
        {
          "data": {
            "application/vnd.jupyter.widget-view+json": {
              "model_id": "e3ed0ce18f5f4f3db9191d46e261d06c",
              "version_major": 2,
              "version_minor": 0
            },
            "text/plain": [
              "testing:   0%|          | 0/161 [00:00<?, ?it/s]"
            ]
          },
          "metadata": {},
          "output_type": "display_data"
        },
        {
          "data": {
            "application/vnd.jupyter.widget-view+json": {
              "model_id": "1cddc6aa632c4286b154fa587640de72",
              "version_major": 2,
              "version_minor": 0
            },
            "text/plain": [
              "training:   0%|          | 0/1722 [00:00<?, ?it/s]"
            ]
          },
          "metadata": {},
          "output_type": "display_data"
        },
        {
          "data": {
            "application/vnd.jupyter.widget-view+json": {
              "model_id": "c73c5669673a4b32aa126e7e2e575fdb",
              "version_major": 2,
              "version_minor": 0
            },
            "text/plain": [
              "testing:   0%|          | 0/161 [00:00<?, ?it/s]"
            ]
          },
          "metadata": {},
          "output_type": "display_data"
        },
        {
          "data": {
            "application/vnd.jupyter.widget-view+json": {
              "model_id": "77fa815a4eb947feaa0851e43161db43",
              "version_major": 2,
              "version_minor": 0
            },
            "text/plain": [
              "training:   0%|          | 0/1722 [00:00<?, ?it/s]"
            ]
          },
          "metadata": {},
          "output_type": "display_data"
        },
        {
          "data": {
            "application/vnd.jupyter.widget-view+json": {
              "model_id": "57bef84dd88e4183923b9e6e0903883d",
              "version_major": 2,
              "version_minor": 0
            },
            "text/plain": [
              "testing:   0%|          | 0/161 [00:00<?, ?it/s]"
            ]
          },
          "metadata": {},
          "output_type": "display_data"
        },
        {
          "data": {
            "application/vnd.jupyter.widget-view+json": {
              "model_id": "830e517f2b71437fa5a2be176251f3a2",
              "version_major": 2,
              "version_minor": 0
            },
            "text/plain": [
              "training:   0%|          | 0/1722 [00:00<?, ?it/s]"
            ]
          },
          "metadata": {},
          "output_type": "display_data"
        },
        {
          "data": {
            "application/vnd.jupyter.widget-view+json": {
              "model_id": "d61af59735ff424a95b5b3708d0f381f",
              "version_major": 2,
              "version_minor": 0
            },
            "text/plain": [
              "testing:   0%|          | 0/161 [00:00<?, ?it/s]"
            ]
          },
          "metadata": {},
          "output_type": "display_data"
        },
        {
          "data": {
            "application/vnd.jupyter.widget-view+json": {
              "model_id": "0f959eeb2a8c4cc48d1e89eb1e572a0f",
              "version_major": 2,
              "version_minor": 0
            },
            "text/plain": [
              "training:   0%|          | 0/1722 [00:00<?, ?it/s]"
            ]
          },
          "metadata": {},
          "output_type": "display_data"
        },
        {
          "data": {
            "application/vnd.jupyter.widget-view+json": {
              "model_id": "8423727ba4f44baab9afbf09c68fcabb",
              "version_major": 2,
              "version_minor": 0
            },
            "text/plain": [
              "testing:   0%|          | 0/161 [00:00<?, ?it/s]"
            ]
          },
          "metadata": {},
          "output_type": "display_data"
        },
        {
          "data": {
            "application/vnd.jupyter.widget-view+json": {
              "model_id": "f4fbb25ddb1541a9a4a0b85398aff1c1",
              "version_major": 2,
              "version_minor": 0
            },
            "text/plain": [
              "training:   0%|          | 0/1722 [00:00<?, ?it/s]"
            ]
          },
          "metadata": {},
          "output_type": "display_data"
        },
        {
          "data": {
            "application/vnd.jupyter.widget-view+json": {
              "model_id": "ec9cbefd8252457e9766495844c053f6",
              "version_major": 2,
              "version_minor": 0
            },
            "text/plain": [
              "testing:   0%|          | 0/161 [00:00<?, ?it/s]"
            ]
          },
          "metadata": {},
          "output_type": "display_data"
        },
        {
          "data": {
            "application/vnd.jupyter.widget-view+json": {
              "model_id": "1a49081815c047878f29bcb7a143370a",
              "version_major": 2,
              "version_minor": 0
            },
            "text/plain": [
              "training:   0%|          | 0/1722 [00:00<?, ?it/s]"
            ]
          },
          "metadata": {},
          "output_type": "display_data"
        },
        {
          "data": {
            "application/vnd.jupyter.widget-view+json": {
              "model_id": "f37dddc6366f41ebb28f1387ce8be2ed",
              "version_major": 2,
              "version_minor": 0
            },
            "text/plain": [
              "testing:   0%|          | 0/161 [00:00<?, ?it/s]"
            ]
          },
          "metadata": {},
          "output_type": "display_data"
        },
        {
          "data": {
            "application/vnd.jupyter.widget-view+json": {
              "model_id": "adeba5cabff9431aa438c3e021915163",
              "version_major": 2,
              "version_minor": 0
            },
            "text/plain": [
              "training:   0%|          | 0/1722 [00:00<?, ?it/s]"
            ]
          },
          "metadata": {},
          "output_type": "display_data"
        },
        {
          "data": {
            "application/vnd.jupyter.widget-view+json": {
              "model_id": "7ddb321d4a164e3c8cbc5ef55a561323",
              "version_major": 2,
              "version_minor": 0
            },
            "text/plain": [
              "testing:   0%|          | 0/161 [00:00<?, ?it/s]"
            ]
          },
          "metadata": {},
          "output_type": "display_data"
        },
        {
          "data": {
            "application/vnd.jupyter.widget-view+json": {
              "model_id": "5ad4b4e1e1254ba1adb0b6ea55a9156d",
              "version_major": 2,
              "version_minor": 0
            },
            "text/plain": [
              "training:   0%|          | 0/1722 [00:00<?, ?it/s]"
            ]
          },
          "metadata": {},
          "output_type": "display_data"
        },
        {
          "data": {
            "application/vnd.jupyter.widget-view+json": {
              "model_id": "39c2babf4597413c9a61c541f82b9fc0",
              "version_major": 2,
              "version_minor": 0
            },
            "text/plain": [
              "testing:   0%|          | 0/161 [00:00<?, ?it/s]"
            ]
          },
          "metadata": {},
          "output_type": "display_data"
        },
        {
          "data": {
            "application/vnd.jupyter.widget-view+json": {
              "model_id": "1934eba308ea4b0fb8fbc72d9d61e391",
              "version_major": 2,
              "version_minor": 0
            },
            "text/plain": [
              "training:   0%|          | 0/1722 [00:00<?, ?it/s]"
            ]
          },
          "metadata": {},
          "output_type": "display_data"
        },
        {
          "data": {
            "application/vnd.jupyter.widget-view+json": {
              "model_id": "2141a0ae0a6f43079f1c409eb83a9daf",
              "version_major": 2,
              "version_minor": 0
            },
            "text/plain": [
              "testing:   0%|          | 0/161 [00:00<?, ?it/s]"
            ]
          },
          "metadata": {},
          "output_type": "display_data"
        },
        {
          "data": {
            "application/vnd.jupyter.widget-view+json": {
              "model_id": "f063c4e4b84741648a19f42057491c1a",
              "version_major": 2,
              "version_minor": 0
            },
            "text/plain": [
              "training:   0%|          | 0/1722 [00:00<?, ?it/s]"
            ]
          },
          "metadata": {},
          "output_type": "display_data"
        },
        {
          "data": {
            "application/vnd.jupyter.widget-view+json": {
              "model_id": "a42eae57528c41988dad96598e2706a5",
              "version_major": 2,
              "version_minor": 0
            },
            "text/plain": [
              "testing:   0%|          | 0/161 [00:00<?, ?it/s]"
            ]
          },
          "metadata": {},
          "output_type": "display_data"
        },
        {
          "data": {
            "application/vnd.jupyter.widget-view+json": {
              "model_id": "184a9f55d2384119b4949030357a7edf",
              "version_major": 2,
              "version_minor": 0
            },
            "text/plain": [
              "training:   0%|          | 0/1722 [00:00<?, ?it/s]"
            ]
          },
          "metadata": {},
          "output_type": "display_data"
        },
        {
          "data": {
            "application/vnd.jupyter.widget-view+json": {
              "model_id": "f77e2a30e4cb4c898802155cf63f97c0",
              "version_major": 2,
              "version_minor": 0
            },
            "text/plain": [
              "testing:   0%|          | 0/161 [00:00<?, ?it/s]"
            ]
          },
          "metadata": {},
          "output_type": "display_data"
        },
        {
          "data": {
            "application/vnd.jupyter.widget-view+json": {
              "model_id": "e15963f6a14e4571bb2045d44da2d850",
              "version_major": 2,
              "version_minor": 0
            },
            "text/plain": [
              "training:   0%|          | 0/1722 [00:00<?, ?it/s]"
            ]
          },
          "metadata": {},
          "output_type": "display_data"
        },
        {
          "data": {
            "application/vnd.jupyter.widget-view+json": {
              "model_id": "eea98e91dc18442caf641fef438a860f",
              "version_major": 2,
              "version_minor": 0
            },
            "text/plain": [
              "testing:   0%|          | 0/161 [00:00<?, ?it/s]"
            ]
          },
          "metadata": {},
          "output_type": "display_data"
        },
        {
          "data": {
            "application/vnd.jupyter.widget-view+json": {
              "model_id": "b0698ecf9fec472890f5377b4d9c1089",
              "version_major": 2,
              "version_minor": 0
            },
            "text/plain": [
              "training:   0%|          | 0/1722 [00:00<?, ?it/s]"
            ]
          },
          "metadata": {},
          "output_type": "display_data"
        },
        {
          "data": {
            "application/vnd.jupyter.widget-view+json": {
              "model_id": "1ca1e424334547908ab12fe023b1b833",
              "version_major": 2,
              "version_minor": 0
            },
            "text/plain": [
              "testing:   0%|          | 0/161 [00:00<?, ?it/s]"
            ]
          },
          "metadata": {},
          "output_type": "display_data"
        },
        {
          "data": {
            "application/vnd.jupyter.widget-view+json": {
              "model_id": "bc360a8879e74a8389e0d450d5294ff5",
              "version_major": 2,
              "version_minor": 0
            },
            "text/plain": [
              "training:   0%|          | 0/1722 [00:00<?, ?it/s]"
            ]
          },
          "metadata": {},
          "output_type": "display_data"
        },
        {
          "data": {
            "application/vnd.jupyter.widget-view+json": {
              "model_id": "c577143f2bb94ad3aa1e9e38774a0c55",
              "version_major": 2,
              "version_minor": 0
            },
            "text/plain": [
              "testing:   0%|          | 0/161 [00:00<?, ?it/s]"
            ]
          },
          "metadata": {},
          "output_type": "display_data"
        },
        {
          "data": {
            "application/vnd.jupyter.widget-view+json": {
              "model_id": "bb842d230cc44c839a64db2319ac3192",
              "version_major": 2,
              "version_minor": 0
            },
            "text/plain": [
              "training:   0%|          | 0/1722 [00:00<?, ?it/s]"
            ]
          },
          "metadata": {},
          "output_type": "display_data"
        },
        {
          "data": {
            "application/vnd.jupyter.widget-view+json": {
              "model_id": "14112593407d49678627f6356a3497ff",
              "version_major": 2,
              "version_minor": 0
            },
            "text/plain": [
              "testing:   0%|          | 0/161 [00:00<?, ?it/s]"
            ]
          },
          "metadata": {},
          "output_type": "display_data"
        },
        {
          "data": {
            "application/vnd.jupyter.widget-view+json": {
              "model_id": "9855577003eb4451a925c4a555b0bcbf",
              "version_major": 2,
              "version_minor": 0
            },
            "text/plain": [
              "training:   0%|          | 0/1722 [00:00<?, ?it/s]"
            ]
          },
          "metadata": {},
          "output_type": "display_data"
        },
        {
          "data": {
            "application/vnd.jupyter.widget-view+json": {
              "model_id": "974cf59aab0d43ac8ea3f20cf2ddbed4",
              "version_major": 2,
              "version_minor": 0
            },
            "text/plain": [
              "testing:   0%|          | 0/161 [00:00<?, ?it/s]"
            ]
          },
          "metadata": {},
          "output_type": "display_data"
        },
        {
          "data": {
            "application/vnd.jupyter.widget-view+json": {
              "model_id": "64373305957c48189e61c80aac6ababd",
              "version_major": 2,
              "version_minor": 0
            },
            "text/plain": [
              "training:   0%|          | 0/1722 [00:00<?, ?it/s]"
            ]
          },
          "metadata": {},
          "output_type": "display_data"
        },
        {
          "data": {
            "application/vnd.jupyter.widget-view+json": {
              "model_id": "27198b4184874e96868076f113b98016",
              "version_major": 2,
              "version_minor": 0
            },
            "text/plain": [
              "testing:   0%|          | 0/161 [00:00<?, ?it/s]"
            ]
          },
          "metadata": {},
          "output_type": "display_data"
        },
        {
          "data": {
            "application/vnd.jupyter.widget-view+json": {
              "model_id": "435f3f54c2b04c339c4f7a319fd17007",
              "version_major": 2,
              "version_minor": 0
            },
            "text/plain": [
              "training:   0%|          | 0/1722 [00:00<?, ?it/s]"
            ]
          },
          "metadata": {},
          "output_type": "display_data"
        },
        {
          "data": {
            "application/vnd.jupyter.widget-view+json": {
              "model_id": "8d02e5047d8b40deaa60606e5d23a7f5",
              "version_major": 2,
              "version_minor": 0
            },
            "text/plain": [
              "testing:   0%|          | 0/161 [00:00<?, ?it/s]"
            ]
          },
          "metadata": {},
          "output_type": "display_data"
        },
        {
          "data": {
            "application/vnd.jupyter.widget-view+json": {
              "model_id": "5d2c636cb6554912bda3864294988e9a",
              "version_major": 2,
              "version_minor": 0
            },
            "text/plain": [
              "training:   0%|          | 0/1722 [00:00<?, ?it/s]"
            ]
          },
          "metadata": {},
          "output_type": "display_data"
        },
        {
          "data": {
            "application/vnd.jupyter.widget-view+json": {
              "model_id": "806e8b42980345a28a370c0e26dfcf44",
              "version_major": 2,
              "version_minor": 0
            },
            "text/plain": [
              "testing:   0%|          | 0/161 [00:00<?, ?it/s]"
            ]
          },
          "metadata": {},
          "output_type": "display_data"
        },
        {
          "data": {
            "application/vnd.jupyter.widget-view+json": {
              "model_id": "ab9173caa4e14116875b44742f3e60f1",
              "version_major": 2,
              "version_minor": 0
            },
            "text/plain": [
              "training:   0%|          | 0/1722 [00:00<?, ?it/s]"
            ]
          },
          "metadata": {},
          "output_type": "display_data"
        },
        {
          "data": {
            "application/vnd.jupyter.widget-view+json": {
              "model_id": "09947f7ed59b4d67b3d06c59e62b614b",
              "version_major": 2,
              "version_minor": 0
            },
            "text/plain": [
              "testing:   0%|          | 0/161 [00:00<?, ?it/s]"
            ]
          },
          "metadata": {},
          "output_type": "display_data"
        },
        {
          "data": {
            "application/vnd.jupyter.widget-view+json": {
              "model_id": "ffff24ab999b42d692e6201c6e77be92",
              "version_major": 2,
              "version_minor": 0
            },
            "text/plain": [
              "training:   0%|          | 0/1722 [00:00<?, ?it/s]"
            ]
          },
          "metadata": {},
          "output_type": "display_data"
        },
        {
          "data": {
            "application/vnd.jupyter.widget-view+json": {
              "model_id": "087e403b22aa4566aba8d1295b747e83",
              "version_major": 2,
              "version_minor": 0
            },
            "text/plain": [
              "testing:   0%|          | 0/161 [00:00<?, ?it/s]"
            ]
          },
          "metadata": {},
          "output_type": "display_data"
        },
        {
          "data": {
            "application/vnd.jupyter.widget-view+json": {
              "model_id": "1b666e895052460c99ab0a796358b234",
              "version_major": 2,
              "version_minor": 0
            },
            "text/plain": [
              "training:   0%|          | 0/1722 [00:00<?, ?it/s]"
            ]
          },
          "metadata": {},
          "output_type": "display_data"
        },
        {
          "data": {
            "application/vnd.jupyter.widget-view+json": {
              "model_id": "aacc8fe1b8f54be59b2aa958b4400645",
              "version_major": 2,
              "version_minor": 0
            },
            "text/plain": [
              "testing:   0%|          | 0/161 [00:00<?, ?it/s]"
            ]
          },
          "metadata": {},
          "output_type": "display_data"
        },
        {
          "data": {
            "application/vnd.jupyter.widget-view+json": {
              "model_id": "c075b46c9fec4573b0b3ebbd58307dbe",
              "version_major": 2,
              "version_minor": 0
            },
            "text/plain": [
              "training:   0%|          | 0/1722 [00:00<?, ?it/s]"
            ]
          },
          "metadata": {},
          "output_type": "display_data"
        },
        {
          "data": {
            "application/vnd.jupyter.widget-view+json": {
              "model_id": "fa671c213a0e4dc9b7d9b2f835e66edb",
              "version_major": 2,
              "version_minor": 0
            },
            "text/plain": [
              "testing:   0%|          | 0/161 [00:00<?, ?it/s]"
            ]
          },
          "metadata": {},
          "output_type": "display_data"
        },
        {
          "data": {
            "application/vnd.jupyter.widget-view+json": {
              "model_id": "a06fd6251c264f81b4d7ae6ce5d392a7",
              "version_major": 2,
              "version_minor": 0
            },
            "text/plain": [
              "training:   0%|          | 0/1722 [00:00<?, ?it/s]"
            ]
          },
          "metadata": {},
          "output_type": "display_data"
        },
        {
          "data": {
            "application/vnd.jupyter.widget-view+json": {
              "model_id": "b203ab18dc3f4215bd56dea66fbcc353",
              "version_major": 2,
              "version_minor": 0
            },
            "text/plain": [
              "testing:   0%|          | 0/161 [00:00<?, ?it/s]"
            ]
          },
          "metadata": {},
          "output_type": "display_data"
        },
        {
          "data": {
            "application/vnd.jupyter.widget-view+json": {
              "model_id": "f997eb4047104d3d989b5394d7714a09",
              "version_major": 2,
              "version_minor": 0
            },
            "text/plain": [
              "training:   0%|          | 0/1722 [00:00<?, ?it/s]"
            ]
          },
          "metadata": {},
          "output_type": "display_data"
        },
        {
          "data": {
            "application/vnd.jupyter.widget-view+json": {
              "model_id": "04925e5e6c32446ca9160e97bb9dbba2",
              "version_major": 2,
              "version_minor": 0
            },
            "text/plain": [
              "testing:   0%|          | 0/161 [00:00<?, ?it/s]"
            ]
          },
          "metadata": {},
          "output_type": "display_data"
        },
        {
          "data": {
            "application/vnd.jupyter.widget-view+json": {
              "model_id": "5faa6126a87047a59d6e66924d1609ad",
              "version_major": 2,
              "version_minor": 0
            },
            "text/plain": [
              "training:   0%|          | 0/1722 [00:00<?, ?it/s]"
            ]
          },
          "metadata": {},
          "output_type": "display_data"
        },
        {
          "data": {
            "application/vnd.jupyter.widget-view+json": {
              "model_id": "0335ec0e71414296b2b964622ebe94e2",
              "version_major": 2,
              "version_minor": 0
            },
            "text/plain": [
              "testing:   0%|          | 0/161 [00:00<?, ?it/s]"
            ]
          },
          "metadata": {},
          "output_type": "display_data"
        },
        {
          "data": {
            "application/vnd.jupyter.widget-view+json": {
              "model_id": "078c118a09584c10aea2b0a23037498d",
              "version_major": 2,
              "version_minor": 0
            },
            "text/plain": [
              "training:   0%|          | 0/1722 [00:00<?, ?it/s]"
            ]
          },
          "metadata": {},
          "output_type": "display_data"
        },
        {
          "data": {
            "application/vnd.jupyter.widget-view+json": {
              "model_id": "5908863faa62428db6ba4cd133e4321c",
              "version_major": 2,
              "version_minor": 0
            },
            "text/plain": [
              "testing:   0%|          | 0/161 [00:00<?, ?it/s]"
            ]
          },
          "metadata": {},
          "output_type": "display_data"
        },
        {
          "data": {
            "application/vnd.jupyter.widget-view+json": {
              "model_id": "0ad4a73722034c42936101435fd8fa2d",
              "version_major": 2,
              "version_minor": 0
            },
            "text/plain": [
              "training:   0%|          | 0/1722 [00:00<?, ?it/s]"
            ]
          },
          "metadata": {},
          "output_type": "display_data"
        },
        {
          "data": {
            "application/vnd.jupyter.widget-view+json": {
              "model_id": "ac653bdbf7ce429fa404d049eee907e7",
              "version_major": 2,
              "version_minor": 0
            },
            "text/plain": [
              "testing:   0%|          | 0/161 [00:00<?, ?it/s]"
            ]
          },
          "metadata": {},
          "output_type": "display_data"
        },
        {
          "data": {
            "application/vnd.jupyter.widget-view+json": {
              "model_id": "fdee96323b904bf388be9bd1d97e9470",
              "version_major": 2,
              "version_minor": 0
            },
            "text/plain": [
              "training:   0%|          | 0/1722 [00:00<?, ?it/s]"
            ]
          },
          "metadata": {},
          "output_type": "display_data"
        },
        {
          "data": {
            "application/vnd.jupyter.widget-view+json": {
              "model_id": "1692ef5b8572462cab50930d408949c0",
              "version_major": 2,
              "version_minor": 0
            },
            "text/plain": [
              "testing:   0%|          | 0/161 [00:00<?, ?it/s]"
            ]
          },
          "metadata": {},
          "output_type": "display_data"
        },
        {
          "data": {
            "application/vnd.jupyter.widget-view+json": {
              "model_id": "5d34c883748e4025a65d2daa92cb8d2c",
              "version_major": 2,
              "version_minor": 0
            },
            "text/plain": [
              "training:   0%|          | 0/1722 [00:00<?, ?it/s]"
            ]
          },
          "metadata": {},
          "output_type": "display_data"
        },
        {
          "data": {
            "application/vnd.jupyter.widget-view+json": {
              "model_id": "d59095cdb45848739804534716d3f111",
              "version_major": 2,
              "version_minor": 0
            },
            "text/plain": [
              "testing:   0%|          | 0/161 [00:00<?, ?it/s]"
            ]
          },
          "metadata": {},
          "output_type": "display_data"
        },
        {
          "data": {
            "application/vnd.jupyter.widget-view+json": {
              "model_id": "6907e1917d3740bfac408759bbf3708b",
              "version_major": 2,
              "version_minor": 0
            },
            "text/plain": [
              "training:   0%|          | 0/1722 [00:00<?, ?it/s]"
            ]
          },
          "metadata": {},
          "output_type": "display_data"
        }
      ],
      "source": [
        "# Training epochs\n",
        "model = run(args, model, train_loader, valid_loader)"
      ]
    },
    {
      "cell_type": "markdown",
      "metadata": {
        "tags": [],
        "id": "61yVMe8Mdmo_"
      },
      "source": [
        "### Reconstruction Error - Mean and Covariance"
      ]
    },
    {
      "cell_type": "code",
      "execution_count": null,
      "metadata": {
        "id": "q3_YuQjfdmo_",
        "outputId": "39430c63-ec61-4a73-892d-e547d01720d5",
        "colab": {
          "referenced_widgets": [
            "6ab88627fa8b48ae81bdac2039260451"
          ]
        }
      },
      "outputs": [
        {
          "data": {
            "application/vnd.jupyter.widget-view+json": {
              "model_id": "6ab88627fa8b48ae81bdac2039260451",
              "version_major": 2,
              "version_minor": 0
            },
            "text/plain": [
              "testing:   0%|          | 0/161 [00:00<?, ?it/s]"
            ]
          },
          "metadata": {},
          "output_type": "display_data"
        },
        {
          "name": "stderr",
          "output_type": "stream",
          "text": [
            "/home/ados/anaconda3/envs/torch191/lib/python3.8/site-packages/torch/nn/_reduction.py:42: UserWarning: size_average and reduce args will be deprecated, please use reduction='none' instead.\n",
            "  warnings.warn(warning.format(ret))\n"
          ]
        }
      ],
      "source": [
        "# Get loss\n",
        "\n",
        "loss_list = get_loss_list(args, model, valid_loader)"
      ]
    },
    {
      "cell_type": "code",
      "execution_count": null,
      "metadata": {
        "id": "aSToy2y5dmo_"
      },
      "outputs": [],
      "source": [
        "# Reconstruction Error -> Mean and Covarinace\n",
        "\n",
        "mean = np.mean(loss_list, axis=0)\n",
        "std = np.cov(loss_list.T)"
      ]
    },
    {
      "cell_type": "code",
      "execution_count": null,
      "metadata": {
        "id": "eJSD3_-YdmpA"
      },
      "outputs": [],
      "source": [
        "## Anomaly Score\n",
        "\n",
        "class Anomaly_Calculator:\n",
        "    def __init__(self, mean:np.array, std:np.array):\n",
        "        assert mean.shape[0] == std.shape[0] and mean.shape[0] == std.shape[1], 'Mean and Covariance should have same dimension.'\n",
        "        self.mean = mean\n",
        "        self.std = std\n",
        "    \n",
        "    def __call__(self, recons_error:np.array):\n",
        "        x = (recons_error-self.mean)\n",
        "        return np.matmul(np.matmul(x, self.std), x.T)\n",
        "\n",
        "# Anomaly score calculator\n",
        "\n",
        "anomaly_calculator = Anomaly_Calculator(mean, std)"
      ]
    },
    {
      "cell_type": "code",
      "execution_count": null,
      "metadata": {
        "id": "lQor8bebdmpA",
        "outputId": "ec28d630-b4a5-49fb-8372-f74181451c56",
        "colab": {
          "referenced_widgets": [
            "49a0ac65285c4903aab9b72e4003ae17"
          ]
        }
      },
      "outputs": [
        {
          "data": {
            "application/vnd.jupyter.widget-view+json": {
              "model_id": "49a0ac65285c4903aab9b72e4003ae17",
              "version_major": 2,
              "version_minor": 0
            },
            "text/plain": [
              "  0%|          | 0/20581 [00:00<?, ?it/s]"
            ]
          },
          "metadata": {},
          "output_type": "display_data"
        },
        {
          "name": "stdout",
          "output_type": "stream",
          "text": [
            "Mean[0.02555004253037588], Median[0.011647573063070276], Minimum[0.00023271043917679585], Maximum[3.5007982648522593]\n"
          ]
        }
      ],
      "source": [
        "# Find threshold\n",
        "\n",
        "anomaly_scores = []\n",
        "for temp_loss in tqdm(loss_list):\n",
        "    temp_score = anomaly_calculator(temp_loss)\n",
        "    anomaly_scores.append(temp_score)\n",
        "\n",
        "print(\"Mean[{}], Median[{}], Minimum[{}], Maximum[{}]\".format(np.mean(anomaly_scores), np.median(anomaly_scores), np.min(anomaly_scores), np.max(anomaly_scores)))"
      ]
    },
    {
      "cell_type": "markdown",
      "metadata": {
        "id": "mljbYEGddmpA"
      },
      "source": [
        "### Data Visualization"
      ]
    },
    {
      "cell_type": "code",
      "execution_count": null,
      "metadata": {
        "id": "4fjzGk1admpA"
      },
      "outputs": [],
      "source": [
        "anomaly_calculator = Anomaly_Calculator(mean, std)"
      ]
    },
    {
      "cell_type": "code",
      "execution_count": null,
      "metadata": {
        "id": "yDNMeXLxdmpA",
        "outputId": "1d4bf08f-d36c-4c62-b90a-a12da431d20b",
        "colab": {
          "referenced_widgets": [
            "3a46b86765dc49e2ab7e7ac9e69fac35",
            "360a718490374c07b4669c22d16dd412"
          ]
        }
      },
      "outputs": [
        {
          "name": "stdout",
          "output_type": "stream",
          "text": [
            "float64\n"
          ]
        },
        {
          "name": "stderr",
          "output_type": "stream",
          "text": [
            "/tmp/ipykernel_8505/308308071.py:27: UserWarning: To copy construct from a tensor, it is recommended to use sourceTensor.clone().detach() or sourceTensor.clone().detach().requires_grad_(True), rather than torch.tensor(sourceTensor).\n",
            "  self.var_data = torch.tensor(torch.from_numpy(df[self.selected_column].values.astype(np.float64)), dtype=torch.float)\n"
          ]
        },
        {
          "data": {
            "application/vnd.jupyter.widget-view+json": {
              "model_id": "3a46b86765dc49e2ab7e7ac9e69fac35",
              "version_major": 2,
              "version_minor": 0
            },
            "text/plain": [
              "testing:   0%|          | 0/1722 [00:00<?, ?it/s]"
            ]
          },
          "metadata": {},
          "output_type": "display_data"
        },
        {
          "name": "stderr",
          "output_type": "stream",
          "text": [
            "/home/ados/anaconda3/envs/torch191/lib/python3.8/site-packages/torch/nn/_reduction.py:42: UserWarning: size_average and reduce args will be deprecated, please use reduction='none' instead.\n",
            "  warnings.warn(warning.format(ret))\n"
          ]
        },
        {
          "data": {
            "application/vnd.jupyter.widget-view+json": {
              "model_id": "360a718490374c07b4669c22d16dd412",
              "version_major": 2,
              "version_minor": 0
            },
            "text/plain": [
              "  0%|          | 0/220318 [00:00<?, ?it/s]"
            ]
          },
          "metadata": {},
          "output_type": "display_data"
        }
      ],
      "source": [
        "total_dataset = TagDataset(df=df, input_size=args.input_size, window_size=args.window_size, mean_df=mean_df, std_df=std_df)\n",
        "total_dataloader = torch.utils.data.DataLoader(dataset=total_dataset,batch_size=args.batch_size,shuffle=False)\n",
        "\n",
        "# Compute Reconstruction Loss\n",
        "total_loss = get_loss_list(args, model, total_dataloader)\n",
        "\n",
        "# Compute Anomaly Score\n",
        "\n",
        "anomaly_scores = []\n",
        "for temp_loss in tqdm(total_loss):\n",
        "    temp_score = anomaly_calculator(temp_loss)\n",
        "    anomaly_scores.append(temp_score)\n",
        "\n",
        "visualization_df = total_dataset.df\n",
        "visualization_df['score'] = anomaly_scores\n",
        "visualization_df['recons_error'] = total_loss.sum(axis=1)"
      ]
    },
    {
      "cell_type": "code",
      "execution_count": null,
      "metadata": {
        "id": "HT1i4UoYdmpB",
        "outputId": "ee28713f-6b75-4a6b-88a1-ad02eb02c4fa"
      },
      "outputs": [
        {
          "data": {
            "image/png": "[encoded data removed]",
            "text/plain": [
              "<Figure size 1152x432 with 1 Axes>"
            ]
          },
          "metadata": {
            "needs_background": "light"
          },
          "output_type": "display_data"
        }
      ],
      "source": [
        "# Visualization\n",
        "\n",
        "fig = plt.figure(figsize=(16, 6))\n",
        "ax=fig.add_subplot(111)\n",
        "\n",
        "# Abnormal Status\n",
        "\n",
        "labels = visualization_df['machine_status'].values.tolist()\n",
        "dates = visualization_df.index\n",
        "\n",
        "\n",
        "visualization_df['score'].plot(ax=ax)\n",
        "ax.legend(['abnormal score'], loc='upper right')\n",
        "\n",
        "\n",
        "temp_start = dates[0]\n",
        "temp_date = dates[0]\n",
        "temp_label = labels[0]\n",
        "\n",
        "for xc, value in zip(dates, labels):\n",
        "    if temp_label != value:\n",
        "        if temp_label == \"BROKEN\":\n",
        "            ax.axvspan(temp_start, temp_date, alpha=0.2, color='blue')\n",
        "        if temp_label == \"RECOVERING\":\n",
        "            ax.axvspan(temp_start, temp_date, alpha=0.2, color='orange')\n",
        "        temp_start=xc\n",
        "        temp_label=value\n",
        "    temp_date = xc\n",
        "if temp_label == \"BROKEN\":\n",
        "    ax.axvspan(temp_start, xc, alpha=0.2, color='blue')\n",
        "if temp_label == \"RECOVERING\":\n",
        "    ax.axvspan(temp_start, xc, alpha=0.2, color='orange')"
      ]
    },
    {
      "cell_type": "code",
      "execution_count": null,
      "metadata": {
        "id": "1ZWSDuEHdmpB",
        "outputId": "5c8cf5bc-fd43-49a3-b525-3606cca9c8e5"
      },
      "outputs": [
        {
          "data": {
            "image/png": "[encoded data removed]",
            "text/plain": [
              "<Figure size 1152x432 with 1 Axes>"
            ]
          },
          "metadata": {
            "needs_background": "light"
          },
          "output_type": "display_data"
        }
      ],
      "source": [
        "fig = plt.figure(figsize=(16, 6))\n",
        "ax=fig.add_subplot(111)\n",
        "\n",
        "labels = visualization_df['machine_status'].values.tolist()\n",
        "dates = visualization_df.index\n",
        "\n",
        "# Abnormal Status\n",
        "\n",
        "visualization_df['recons_error'].plot(ax=ax)\n",
        "ax.legend(['reconstruction error'], loc='upper right')\n",
        "\n",
        "temp_start = dates[0]\n",
        "temp_date = dates[0]\n",
        "temp_label = labels[0]\n",
        "\n",
        "for xc, value in zip(dates, labels):\n",
        "    if temp_label != value:\n",
        "        if temp_label == \"BROKEN\":\n",
        "            ax.axvspan(temp_start, temp_date, alpha=0.2, color='blue')\n",
        "        if temp_label == \"RECOVERING\":\n",
        "            ax.axvspan(temp_start, temp_date, alpha=0.2, color='orange')\n",
        "        temp_start=xc\n",
        "        temp_label=value\n",
        "    temp_date = xc\n",
        "if temp_label == \"BROKEN\":\n",
        "    ax.axvspan(temp_start, xc, alpha=0.2, color='blue')\n",
        "if temp_label == \"RECOVERING\":\n",
        "    ax.axvspan(temp_start, xc, alpha=0.2, color='orange')"
      ]
    },
    {
      "cell_type": "code",
      "execution_count": null,
      "metadata": {
        "id": "89vw1HjndmpB"
      },
      "outputs": [],
      "source": []
    }
  ],
  "metadata": {
    "kernelspec": {
      "display_name": "torch191",
      "language": "python",
      "name": "torch191"
    },
    "language_info": {
      "codemirror_mode": {
        "name": "ipython",
        "version": 3
      },
      "file_extension": ".py",
      "mimetype": "text/x-python",
      "name": "python",
      "nbconvert_exporter": "python",
      "pygments_lexer": "ipython3",
      "version": "3.8.13"
    },
    "colab": {
      "provenance": [],
      "include_colab_link": true
    }
  },
  "nbformat": 4,
  "nbformat_minor": 0
}