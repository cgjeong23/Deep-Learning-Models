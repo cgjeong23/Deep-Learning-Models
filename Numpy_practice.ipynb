{
  "nbformat": 4,
  "nbformat_minor": 0,
  "metadata": {
    "colab": {
      "provenance": [],
      "authorship_tag": "ABX9TyOY+SXEBvWX6wQwr6q3+L/n",
      "include_colab_link": true
    },
    "kernelspec": {
      "name": "python3",
      "display_name": "Python 3"
    },
    "language_info": {
      "name": "python"
    }
  },
  "cells": [
    {
      "cell_type": "markdown",
      "metadata": {
        "id": "view-in-github",
        "colab_type": "text"
      },
      "source": [
        "<a href=\"https://colab.research.google.com/github/cgjeong23/Deep-Learning-Models/blob/main/Numpy_practice.ipynb\" target=\"_parent\"><img src=\"https://colab.research.google.com/assets/colab-badge.svg\" alt=\"Open In Colab\"/></a>"
      ]
    },
    {
      "cell_type": "code",
      "execution_count": null,
      "metadata": {
        "colab": {
          "base_uri": "https://localhost:8080/",
          "height": 35
        },
        "id": "6dm40TCXOb1u",
        "outputId": "96cab9fa-f2aa-4d31-87ae-1c55dcd20797"
      },
      "outputs": [
        {
          "output_type": "execute_result",
          "data": {
            "text/plain": [
              "'1.21.5'"
            ],
            "application/vnd.google.colaboratory.intrinsic+json": {
              "type": "string"
            }
          },
          "metadata": {},
          "execution_count": 1
        }
      ],
      "source": [
        "import numpy as np\n",
        "np.__version__"
      ]
    },
    {
      "cell_type": "code",
      "source": [
        "a1 = np.array([1,2,3,4,5])\n",
        "print(a1)\n",
        "print(type(a1))\n",
        "print(a1.shape)\n",
        "print(a1[0],a1[2])"
      ],
      "metadata": {
        "colab": {
          "base_uri": "https://localhost:8080/"
        },
        "id": "PRJy7q76RLn7",
        "outputId": "faec2f6f-7784-4919-a2bd-02ea9bb3e19f"
      },
      "execution_count": null,
      "outputs": [
        {
          "output_type": "stream",
          "name": "stdout",
          "text": [
            "[1 2 3 4 5]\n",
            "<class 'numpy.ndarray'>\n",
            "(5,)\n",
            "1 3\n"
          ]
        }
      ]
    },
    {
      "cell_type": "code",
      "source": [
        "a2 = np.array([[1,2,3],[4,5,6],[7,8,9]])\n",
        "print(a2)\n",
        "print(a2.shape)\n",
        "print(a2[2,1])"
      ],
      "metadata": {
        "colab": {
          "base_uri": "https://localhost:8080/"
        },
        "id": "87gPXJNHRdBV",
        "outputId": "bfc533ff-3a71-4128-cec2-31d2fcf01833"
      },
      "execution_count": null,
      "outputs": [
        {
          "output_type": "stream",
          "name": "stdout",
          "text": [
            "[[1 2 3]\n",
            " [4 5 6]\n",
            " [7 8 9]]\n",
            "(3, 3)\n",
            "8\n"
          ]
        }
      ]
    },
    {
      "cell_type": "code",
      "source": [
        "a3 = np.array([[[1,2,3],[4,5,6],[7,8,9]],\n",
        "              [[1,2,3],[4,5,6],[7,8,9]],\n",
        "              [[1,2,3],[4,5,6],[7,8,9]]])\n",
        "print(a3)\n",
        "print(a3.shape)"
      ],
      "metadata": {
        "colab": {
          "base_uri": "https://localhost:8080/"
        },
        "id": "byoVHIPyRdDx",
        "outputId": "58425662-806f-40c5-df78-1e605394a069"
      },
      "execution_count": null,
      "outputs": [
        {
          "output_type": "stream",
          "name": "stdout",
          "text": [
            "[[[1 2 3]\n",
            "  [4 5 6]\n",
            "  [7 8 9]]\n",
            "\n",
            " [[1 2 3]\n",
            "  [4 5 6]\n",
            "  [7 8 9]]\n",
            "\n",
            " [[1 2 3]\n",
            "  [4 5 6]\n",
            "  [7 8 9]]]\n",
            "(3, 3, 3)\n"
          ]
        }
      ]
    },
    {
      "cell_type": "markdown",
      "source": [
        "배열 생성 및 초기화\n",
        "\n",
        "zeros(): 모든 요소를 0으로 초기화  \n",
        "ones(): 모든 요소를 1로 초기화  \n",
        "full(): 모든 요소를 지정한 값으로 초기화  \n",
        "eye(): 단위행렬 (identitiy matrix) 생성  \n",
        "--> 주대각선의 원소가 모두 1이고 나머지 원소는 모두 0인 정사각 행렬"
      ],
      "metadata": {
        "id": "mouMPS9OSI02"
      }
    },
    {
      "cell_type": "code",
      "source": [
        "np.zeros(10)"
      ],
      "metadata": {
        "colab": {
          "base_uri": "https://localhost:8080/"
        },
        "id": "THk3smE9SL5W",
        "outputId": "a3be30cb-4b57-4c44-d0dd-4c4025faead6"
      },
      "execution_count": null,
      "outputs": [
        {
          "output_type": "execute_result",
          "data": {
            "text/plain": [
              "array([0., 0., 0., 0., 0., 0., 0., 0., 0., 0.])"
            ]
          },
          "metadata": {},
          "execution_count": 5
        }
      ]
    },
    {
      "cell_type": "code",
      "source": [
        "np.ones(10)\n",
        "np.ones((2,2))"
      ],
      "metadata": {
        "colab": {
          "base_uri": "https://localhost:8080/"
        },
        "id": "5SB-nWk4S13t",
        "outputId": "a8353653-520e-43a7-bd32-558ac2625d10"
      },
      "execution_count": null,
      "outputs": [
        {
          "output_type": "execute_result",
          "data": {
            "text/plain": [
              "array([[1., 1.],\n",
              "       [1., 1.]])"
            ]
          },
          "metadata": {},
          "execution_count": 6
        }
      ]
    },
    {
      "cell_type": "code",
      "source": [
        "np.full((3,3),8)"
      ],
      "metadata": {
        "colab": {
          "base_uri": "https://localhost:8080/"
        },
        "id": "Aigfm7FHS16r",
        "outputId": "35eb7644-dd78-4b7a-b7c4-0237fb385a47"
      },
      "execution_count": null,
      "outputs": [
        {
          "output_type": "execute_result",
          "data": {
            "text/plain": [
              "array([[8, 8, 8],\n",
              "       [8, 8, 8],\n",
              "       [8, 8, 8]])"
            ]
          },
          "metadata": {},
          "execution_count": 7
        }
      ]
    },
    {
      "cell_type": "code",
      "source": [
        "np.eye(3)\n",
        "np.tri(3)"
      ],
      "metadata": {
        "colab": {
          "base_uri": "https://localhost:8080/"
        },
        "id": "OWv-wg5SS19l",
        "outputId": "954d2358-ecb3-4475-bb81-7ddd86e76878"
      },
      "execution_count": null,
      "outputs": [
        {
          "output_type": "execute_result",
          "data": {
            "text/plain": [
              "array([[1., 0., 0.],\n",
              "       [1., 1., 0.],\n",
              "       [1., 1., 1.]])"
            ]
          },
          "metadata": {},
          "execution_count": 8
        }
      ]
    },
    {
      "cell_type": "markdown",
      "source": [
        "empty(): 초기화 되지 않은 배열 생성  \n",
        "-초기화가 없어서 배열 생성비용 저렴하고 빠름  \n",
        "-초기화되지 않아서 기존 메모리 위치에 존재하는 값이 있음"
      ],
      "metadata": {
        "id": "JidUnqm3TPds"
      }
    },
    {
      "cell_type": "code",
      "source": [
        "np.empty(10)"
      ],
      "metadata": {
        "colab": {
          "base_uri": "https://localhost:8080/"
        },
        "id": "WyzApkPGTOXc",
        "outputId": "3bba0bcc-38bd-4e9e-ad51-465cb4e2c750"
      },
      "execution_count": null,
      "outputs": [
        {
          "output_type": "execute_result",
          "data": {
            "text/plain": [
              "array([1., 1., 1., 1., 1., 1., 1., 1., 1., 1.])"
            ]
          },
          "metadata": {},
          "execution_count": 9
        }
      ]
    },
    {
      "cell_type": "markdown",
      "source": [
        "_like(): 지정된 배열과 shape가 같은 행렬 생성  \n",
        "-np.zeros_like()\n",
        "-np.ones_like() \n",
        "-np.full_like()\n",
        "-np.empty_like()"
      ],
      "metadata": {
        "id": "jib0VpiwTkyR"
      }
    },
    {
      "cell_type": "code",
      "source": [
        "print(a1)\n",
        "np.zeros_like(a1)"
      ],
      "metadata": {
        "colab": {
          "base_uri": "https://localhost:8080/"
        },
        "id": "5dWhfMB5T8YH",
        "outputId": "fede423f-4c9f-46a3-de12-55f4e9f70032"
      },
      "execution_count": null,
      "outputs": [
        {
          "output_type": "stream",
          "name": "stdout",
          "text": [
            "[1 2 3 4 5]\n"
          ]
        },
        {
          "output_type": "execute_result",
          "data": {
            "text/plain": [
              "array([0, 0, 0, 0, 0])"
            ]
          },
          "metadata": {},
          "execution_count": 10
        }
      ]
    },
    {
      "cell_type": "code",
      "source": [
        "print(a3)\n",
        "np.full_like(a3,10)"
      ],
      "metadata": {
        "colab": {
          "base_uri": "https://localhost:8080/"
        },
        "id": "Jq21-Rs4UAvT",
        "outputId": "6118ddca-ac70-412d-fd5d-f3c8ec2e6e09"
      },
      "execution_count": null,
      "outputs": [
        {
          "output_type": "stream",
          "name": "stdout",
          "text": [
            "[[[1 2 3]\n",
            "  [4 5 6]\n",
            "  [7 8 9]]\n",
            "\n",
            " [[1 2 3]\n",
            "  [4 5 6]\n",
            "  [7 8 9]]\n",
            "\n",
            " [[1 2 3]\n",
            "  [4 5 6]\n",
            "  [7 8 9]]]\n"
          ]
        },
        {
          "output_type": "execute_result",
          "data": {
            "text/plain": [
              "array([[[10, 10, 10],\n",
              "        [10, 10, 10],\n",
              "        [10, 10, 10]],\n",
              "\n",
              "       [[10, 10, 10],\n",
              "        [10, 10, 10],\n",
              "        [10, 10, 10]],\n",
              "\n",
              "       [[10, 10, 10],\n",
              "        [10, 10, 10],\n",
              "        [10, 10, 10]]])"
            ]
          },
          "metadata": {},
          "execution_count": 11
        }
      ]
    },
    {
      "cell_type": "markdown",
      "source": [
        "생성한 값으로 배열생성  \n",
        "arange(): 정수 범위로 배열 생성  \n",
        "linspace(): 범위 내에서 균등 간격의 배열 생성  \n",
        "logspace(): 범위 내에서 균등간격으로 로그 스케일로 배열 생성\n"
      ],
      "metadata": {
        "id": "4xu-8ecTUNXh"
      }
    },
    {
      "cell_type": "code",
      "source": [
        "np.arange(0,30,2)"
      ],
      "metadata": {
        "colab": {
          "base_uri": "https://localhost:8080/"
        },
        "id": "8VHUuPhsUI5s",
        "outputId": "71987ff3-79d7-46de-e687-ca1670502660"
      },
      "execution_count": null,
      "outputs": [
        {
          "output_type": "execute_result",
          "data": {
            "text/plain": [
              "array([ 0,  2,  4,  6,  8, 10, 12, 14, 16, 18, 20, 22, 24, 26, 28])"
            ]
          },
          "metadata": {},
          "execution_count": 12
        }
      ]
    },
    {
      "cell_type": "code",
      "source": [
        "np.linspace(0,1,5)"
      ],
      "metadata": {
        "colab": {
          "base_uri": "https://localhost:8080/"
        },
        "id": "NLpCYFcLUk6N",
        "outputId": "f71dfb7a-b81d-431b-8f7a-91f231c68db1"
      },
      "execution_count": null,
      "outputs": [
        {
          "output_type": "execute_result",
          "data": {
            "text/plain": [
              "array([0.  , 0.25, 0.5 , 0.75, 1.  ])"
            ]
          },
          "metadata": {},
          "execution_count": 13
        }
      ]
    },
    {
      "cell_type": "code",
      "source": [
        "np.logspace(0.1,1,20)"
      ],
      "metadata": {
        "colab": {
          "base_uri": "https://localhost:8080/"
        },
        "id": "fRoERIhIUqos",
        "outputId": "9b242ad7-fa61-4d45-d5da-d3667452d208"
      },
      "execution_count": null,
      "outputs": [
        {
          "output_type": "execute_result",
          "data": {
            "text/plain": [
              "array([ 1.25892541,  1.40400425,  1.565802  ,  1.74624535,  1.94748304,\n",
              "        2.1719114 ,  2.42220294,  2.70133812,  3.0126409 ,  3.35981829,\n",
              "        3.74700446,  4.17881006,  4.66037703,  5.19743987,  5.79639395,\n",
              "        6.46437163,  7.2093272 ,  8.04013161,  8.9666781 , 10.        ])"
            ]
          },
          "metadata": {},
          "execution_count": 14
        }
      ]
    },
    {
      "cell_type": "markdown",
      "source": [
        "랜덤  \n",
        "random.random(): 랜덤한 수의 배열 생성 (실수)  \n",
        "random.randint(): 일정 구간의 랜덤 정수의 배열 생성  \n"
      ],
      "metadata": {
        "id": "Axdf2Af0U1BW"
      }
    },
    {
      "cell_type": "code",
      "source": [
        "np.random.random((3,3))"
      ],
      "metadata": {
        "colab": {
          "base_uri": "https://localhost:8080/"
        },
        "id": "aVYgxHOCU0Ui",
        "outputId": "8c24766a-f52a-43ff-918c-eefbdf4965dd"
      },
      "execution_count": null,
      "outputs": [
        {
          "output_type": "execute_result",
          "data": {
            "text/plain": [
              "array([[0.69700509, 0.42127106, 0.00818944],\n",
              "       [0.6281035 , 0.50137929, 0.75176668],\n",
              "       [0.82600935, 0.59795265, 0.43628488]])"
            ]
          },
          "metadata": {},
          "execution_count": 15
        }
      ]
    },
    {
      "cell_type": "code",
      "source": [
        "np.random.randint(0,10,(3,3))"
      ],
      "metadata": {
        "colab": {
          "base_uri": "https://localhost:8080/"
        },
        "id": "wisPdc51VTtl",
        "outputId": "b01145da-2db4-427b-e750-fefce9a6ef3e"
      },
      "execution_count": null,
      "outputs": [
        {
          "output_type": "execute_result",
          "data": {
            "text/plain": [
              "array([[7, 4, 0],\n",
              "       [1, 7, 0],\n",
              "       [9, 4, 6]])"
            ]
          },
          "metadata": {},
          "execution_count": 16
        }
      ]
    },
    {
      "cell_type": "markdown",
      "source": [
        "그 외 랜덤 generator\n",
        "  \n",
        "random.normal(): 정규분포  \n",
        "random.rand(): 균등분포  \n",
        "random.randn(): 표준 정규 분포"
      ],
      "metadata": {
        "id": "xkynfu4jVdg7"
      }
    },
    {
      "cell_type": "markdown",
      "source": [
        "데이터 타입"
      ],
      "metadata": {
        "id": "iwBUY9jsWMzT"
      }
    },
    {
      "cell_type": "code",
      "source": [
        "np.zeros(20,dtype=int)"
      ],
      "metadata": {
        "colab": {
          "base_uri": "https://localhost:8080/"
        },
        "id": "c8Wc_HcAVXx5",
        "outputId": "dd5d0cd4-98f3-4b70-b084-9c1f7b9a2815"
      },
      "execution_count": null,
      "outputs": [
        {
          "output_type": "execute_result",
          "data": {
            "text/plain": [
              "array([0, 0, 0, 0, 0, 0, 0, 0, 0, 0, 0, 0, 0, 0, 0, 0, 0, 0, 0, 0])"
            ]
          },
          "metadata": {},
          "execution_count": 17
        }
      ]
    },
    {
      "cell_type": "code",
      "source": [
        "np.ones((3,3),dtype=bool)"
      ],
      "metadata": {
        "colab": {
          "base_uri": "https://localhost:8080/"
        },
        "id": "F76KhtgBWAbv",
        "outputId": "f016dbad-9ee9-439c-e1f0-5692a5a29c1f"
      },
      "execution_count": null,
      "outputs": [
        {
          "output_type": "execute_result",
          "data": {
            "text/plain": [
              "array([[ True,  True,  True],\n",
              "       [ True,  True,  True],\n",
              "       [ True,  True,  True]])"
            ]
          },
          "metadata": {},
          "execution_count": 18
        }
      ]
    },
    {
      "cell_type": "markdown",
      "source": [
        "날짜/시간 배열 생성  \n",
        "y / m /w / d/ h / m/ s / ms"
      ],
      "metadata": {
        "id": "_gjwBTrOWMCU"
      }
    },
    {
      "cell_type": "code",
      "source": [
        "date = np.array('2020-01-01', dtype=np.datetime64)\n",
        "date"
      ],
      "metadata": {
        "colab": {
          "base_uri": "https://localhost:8080/"
        },
        "id": "q08_N1PyWTnB",
        "outputId": "140ea5d0-d5ad-4397-96eb-02f64a3ae807"
      },
      "execution_count": null,
      "outputs": [
        {
          "output_type": "execute_result",
          "data": {
            "text/plain": [
              "array('2020-01-01', dtype='datetime64[D]')"
            ]
          },
          "metadata": {},
          "execution_count": 19
        }
      ]
    },
    {
      "cell_type": "code",
      "source": [
        "date + np.arange(12)"
      ],
      "metadata": {
        "colab": {
          "base_uri": "https://localhost:8080/"
        },
        "id": "60UJS3S9WdXf",
        "outputId": "c8128845-a0cd-462f-ff6d-a54f7bdaf132"
      },
      "execution_count": null,
      "outputs": [
        {
          "output_type": "execute_result",
          "data": {
            "text/plain": [
              "array(['2020-01-01', '2020-01-02', '2020-01-03', '2020-01-04',\n",
              "       '2020-01-05', '2020-01-06', '2020-01-07', '2020-01-08',\n",
              "       '2020-01-09', '2020-01-10', '2020-01-11', '2020-01-12'],\n",
              "      dtype='datetime64[D]')"
            ]
          },
          "metadata": {},
          "execution_count": 20
        }
      ]
    },
    {
      "cell_type": "code",
      "source": [
        "datetime = np.datetime64('2020-06-01 12:00')\n",
        "datetime"
      ],
      "metadata": {
        "colab": {
          "base_uri": "https://localhost:8080/"
        },
        "id": "HcANUbn0XZcr",
        "outputId": "1d9b357f-f2a2-4b05-91e6-f6bbf6d9552c"
      },
      "execution_count": null,
      "outputs": [
        {
          "output_type": "execute_result",
          "data": {
            "text/plain": [
              "numpy.datetime64('2020-06-01T12:00')"
            ]
          },
          "metadata": {},
          "execution_count": 21
        }
      ]
    },
    {
      "cell_type": "code",
      "source": [
        "datetime = np.datetime64('2020-06-01 12:00:12.34', 'ns')\n",
        "datetime"
      ],
      "metadata": {
        "colab": {
          "base_uri": "https://localhost:8080/"
        },
        "id": "9S6g2pTCZ3ta",
        "outputId": "cb5accd8-4b44-465c-95f7-5612810850ce"
      },
      "execution_count": null,
      "outputs": [
        {
          "output_type": "execute_result",
          "data": {
            "text/plain": [
              "numpy.datetime64('2020-06-01T12:00:12.340000000')"
            ]
          },
          "metadata": {},
          "execution_count": 22
        }
      ]
    },
    {
      "cell_type": "markdown",
      "source": [
        "배열 조회"
      ],
      "metadata": {
        "id": "vgOxOkluawYK"
      }
    },
    {
      "cell_type": "markdown",
      "source": [
        "배열 속성 정보\n"
      ],
      "metadata": {
        "id": "M7ZXTC31a1Ph"
      }
    },
    {
      "cell_type": "code",
      "source": [
        "def array_info(array):\n",
        "  print(array)\n",
        "  print(\"ndim:\", array.ndim)\n",
        "  print(\"shape:\", array.shape)\n",
        "  print(\"dtype:\", array.dtype)\n",
        "  print(\"itemsize:\", array.itemsize)\n",
        "  print(\"itemsize:\", array.itemsize)\n",
        "  print(\"nbytes:\", array.nbytes)\n",
        "  print(\"strides:\", array.strides)"
      ],
      "metadata": {
        "id": "F_Qd9I2Fa2ub"
      },
      "execution_count": null,
      "outputs": []
    },
    {
      "cell_type": "code",
      "source": [
        "array_info(a1)"
      ],
      "metadata": {
        "colab": {
          "base_uri": "https://localhost:8080/"
        },
        "id": "4tAUKbcVbMj-",
        "outputId": "7dc00073-05e8-4c86-aab9-670ebef4383a"
      },
      "execution_count": null,
      "outputs": [
        {
          "output_type": "stream",
          "name": "stdout",
          "text": [
            "[1 2 3 4 5]\n",
            "ndim: 1\n",
            "shape: (5,)\n",
            "dtype: int64\n",
            "itemsize: 8\n",
            "itemsize: 8\n",
            "nbytes: 40\n",
            "strides: (8,)\n"
          ]
        }
      ]
    },
    {
      "cell_type": "markdown",
      "source": [
        "인덱싱(Indexing)"
      ],
      "metadata": {
        "id": "Mfa1vSNOcUlL"
      }
    },
    {
      "cell_type": "code",
      "source": [
        "print(a1)\n",
        "print(a1[0])"
      ],
      "metadata": {
        "colab": {
          "base_uri": "https://localhost:8080/"
        },
        "id": "Rm7DQcSycTzR",
        "outputId": "b1f5f8ee-3434-4b99-f81d-c672fb8c9ebc"
      },
      "execution_count": null,
      "outputs": [
        {
          "output_type": "stream",
          "name": "stdout",
          "text": [
            "[1 2 3 4 5]\n",
            "1\n"
          ]
        }
      ]
    },
    {
      "cell_type": "code",
      "source": [
        "print(a2)\n",
        "print(a2[0,0])\n",
        "print(a2[0,2])"
      ],
      "metadata": {
        "colab": {
          "base_uri": "https://localhost:8080/"
        },
        "id": "sabxJpuscZpS",
        "outputId": "83fa6f53-7569-4271-b925-3121942ce94b"
      },
      "execution_count": null,
      "outputs": [
        {
          "output_type": "stream",
          "name": "stdout",
          "text": [
            "[[1 2 3]\n",
            " [4 5 6]\n",
            " [7 8 9]]\n",
            "1\n",
            "3\n"
          ]
        }
      ]
    },
    {
      "cell_type": "markdown",
      "source": [
        "슬라이싱(Slicing)  \n",
        "기본값: start=0, stop=ndim, step=1"
      ],
      "metadata": {
        "id": "KM171KIbm22I"
      }
    },
    {
      "cell_type": "code",
      "source": [
        "print(a1)\n",
        "print(a1[0:2])\n",
        "print(a1[::2])\n",
        "print(a1[::-1])"
      ],
      "metadata": {
        "colab": {
          "base_uri": "https://localhost:8080/"
        },
        "id": "put-qDOzm2Gw",
        "outputId": "17ab4598-fab9-4fcf-b41a-504d66b47e25"
      },
      "execution_count": null,
      "outputs": [
        {
          "output_type": "stream",
          "name": "stdout",
          "text": [
            "[1 2 3 4 5]\n",
            "[1 2]\n",
            "[1 3 5]\n",
            "[5 4 3 2 1]\n"
          ]
        }
      ]
    },
    {
      "cell_type": "code",
      "source": [
        "print(a2)\n",
        "print(a2[1])\n",
        "print(a2[1,:])\n",
        "print(a2[:2,:2])\n",
        "print(a2[1:,::-1])\n",
        "print(a2[::-1,::-1])"
      ],
      "metadata": {
        "colab": {
          "base_uri": "https://localhost:8080/"
        },
        "id": "Iy5ah7gRnkt0",
        "outputId": "9fb909a9-e298-4fa7-bfc0-ddd21e2204c9"
      },
      "execution_count": null,
      "outputs": [
        {
          "output_type": "stream",
          "name": "stdout",
          "text": [
            "[[1 2 3]\n",
            " [4 5 6]\n",
            " [7 8 9]]\n",
            "[4 5 6]\n",
            "[4 5 6]\n",
            "[[1 2]\n",
            " [4 5]]\n",
            "[[6 5 4]\n",
            " [9 8 7]]\n",
            "[[9 8 7]\n",
            " [6 5 4]\n",
            " [3 2 1]]\n"
          ]
        }
      ]
    },
    {
      "cell_type": "markdown",
      "source": [
        "불리언 인덱싱 (Boolean Indexing) & Fancy Indexing"
      ],
      "metadata": {
        "id": "cOhZbQGenf01"
      }
    },
    {
      "cell_type": "code",
      "source": [
        "print(a1)\n",
        "bi = [False, True, True, False, True]\n",
        "print(a1[bi])\n"
      ],
      "metadata": {
        "colab": {
          "base_uri": "https://localhost:8080/"
        },
        "id": "z2qTUnOOoBpy",
        "outputId": "f3593c9d-cc90-4ef2-9fa0-c6ee9ae9d755"
      },
      "execution_count": null,
      "outputs": [
        {
          "output_type": "stream",
          "name": "stdout",
          "text": [
            "[1 2 3 4 5]\n",
            "[2 3 5]\n"
          ]
        }
      ]
    },
    {
      "cell_type": "code",
      "source": [
        "print(a2)\n",
        "bi = np.random.randint(0,2, (3,3), dtype=bool)\n",
        "print(bi)\n",
        "print(a2[bi])"
      ],
      "metadata": {
        "colab": {
          "base_uri": "https://localhost:8080/"
        },
        "id": "x2PoVoeUodUE",
        "outputId": "4eef629f-d7a7-4a37-96b6-b70be77a91ff"
      },
      "execution_count": null,
      "outputs": [
        {
          "output_type": "stream",
          "name": "stdout",
          "text": [
            "[[1 2 3]\n",
            " [4 5 6]\n",
            " [7 8 9]]\n",
            "[[False  True False]\n",
            " [ True  True False]\n",
            " [False  True  True]]\n",
            "[2 4 5 8 9]\n"
          ]
        }
      ]
    },
    {
      "cell_type": "code",
      "source": [
        "print(a1)\n",
        "print([a1[0], a1[2]])\n",
        "ind = [0,2]\n",
        "print(a1[ind])\n",
        "ind = np.array([[0,1],[2,0]])\n",
        "print(a1[ind])"
      ],
      "metadata": {
        "colab": {
          "base_uri": "https://localhost:8080/"
        },
        "id": "_dSkbtXiop8d",
        "outputId": "860656ef-52d2-41db-d81b-a2e309849969"
      },
      "execution_count": null,
      "outputs": [
        {
          "output_type": "stream",
          "name": "stdout",
          "text": [
            "[1 2 3 4 5]\n",
            "[1, 3]\n",
            "[1 3]\n",
            "[[1 2]\n",
            " [3 1]]\n"
          ]
        }
      ]
    },
    {
      "cell_type": "code",
      "source": [
        "print(a2)\n",
        "row = np.array([0,2])\n",
        "col = np.array([1,2])\n",
        "print(a2[row, col])\n",
        "print(a2[row, :])\n",
        "print(a2[:, col])\n",
        "print(a2[1:, col])"
      ],
      "metadata": {
        "colab": {
          "base_uri": "https://localhost:8080/"
        },
        "id": "JFkKZRDCpHF9",
        "outputId": "db6fc830-5b46-4dce-90d8-74a2c9fc567e"
      },
      "execution_count": null,
      "outputs": [
        {
          "output_type": "stream",
          "name": "stdout",
          "text": [
            "[[1 2 3]\n",
            " [4 5 6]\n",
            " [7 8 9]]\n",
            "[2 9]\n",
            "[[1 2 3]\n",
            " [7 8 9]]\n",
            "[[2 3]\n",
            " [5 6]\n",
            " [8 9]]\n",
            "[[5 6]\n",
            " [8 9]]\n"
          ]
        }
      ]
    },
    {
      "cell_type": "markdown",
      "source": [
        "배열 값 삽입/수정/삭제/복사\n"
      ],
      "metadata": {
        "id": "_J1DEvRCoA4I"
      }
    },
    {
      "cell_type": "code",
      "source": [
        "print(a1)\n",
        "b1 = np.insert(a1,0,10)\n",
        "print(b1)"
      ],
      "metadata": {
        "colab": {
          "base_uri": "https://localhost:8080/"
        },
        "id": "vE87zE3bqbn2",
        "outputId": "2a08b105-fb3f-4d3d-cdc6-465ae608fa9c"
      },
      "execution_count": null,
      "outputs": [
        {
          "output_type": "stream",
          "name": "stdout",
          "text": [
            "[1 2 3 4 5]\n",
            "[10  1  2  3  4  5]\n"
          ]
        }
      ]
    },
    {
      "cell_type": "code",
      "source": [
        "print(a2)\n",
        "b2 = np.insert(a2,1,10, axis=0)\n",
        "print(b2)\n",
        "c2 = np.insert(a2, 1, 10, axis=1)\n",
        "print(c2)"
      ],
      "metadata": {
        "colab": {
          "base_uri": "https://localhost:8080/"
        },
        "id": "WoJtL_1uqyIe",
        "outputId": "c66c886b-79de-4fe8-9adc-6f9e0c52b300"
      },
      "execution_count": null,
      "outputs": [
        {
          "output_type": "stream",
          "name": "stdout",
          "text": [
            "[[1 2 3]\n",
            " [4 5 6]\n",
            " [7 8 9]]\n",
            "[[ 1  2  3]\n",
            " [10 10 10]\n",
            " [ 4  5  6]\n",
            " [ 7  8  9]]\n",
            "[[ 1 10  2  3]\n",
            " [ 4 10  5  6]\n",
            " [ 7 10  8  9]]\n"
          ]
        }
      ]
    },
    {
      "cell_type": "markdown",
      "source": [
        "배열 값 수정"
      ],
      "metadata": {
        "id": "FbXuNlukqxSE"
      }
    },
    {
      "cell_type": "code",
      "source": [
        "print(a1)\n",
        "a1[0] = 1\n",
        "a1[1] = 2\n",
        "a2[2] = 3\n",
        "print(a1)\n",
        "a1[:1] = 9\n",
        "print(a1)\n",
        "i = np.array([1,3,4])\n",
        "a1[i] = 0\n",
        "print(a1)"
      ],
      "metadata": {
        "colab": {
          "base_uri": "https://localhost:8080/"
        },
        "id": "EipyEs6dCR-w",
        "outputId": "5febec59-2e39-461d-9abd-748f486e480c"
      },
      "execution_count": null,
      "outputs": [
        {
          "output_type": "stream",
          "name": "stdout",
          "text": [
            "[1 2 3 4 5]\n",
            "[1 2 3 4 5]\n",
            "[9 2 3 4 5]\n",
            "[9 0 3 0 0]\n"
          ]
        }
      ]
    },
    {
      "cell_type": "code",
      "source": [
        "print(a2)\n",
        "a2[0,0] = 1\n",
        "a2[1,1] = 2\n",
        "a2[2,2] = 3\n",
        "a2[0] = 1\n",
        "print(a2)"
      ],
      "metadata": {
        "colab": {
          "base_uri": "https://localhost:8080/"
        },
        "id": "1QE0GmYBDBon",
        "outputId": "ac5a5fb6-37f0-4432-ea82-36286e572780"
      },
      "execution_count": null,
      "outputs": [
        {
          "output_type": "stream",
          "name": "stdout",
          "text": [
            "[[1 2 3]\n",
            " [4 5 6]\n",
            " [3 3 3]]\n",
            "[[1 1 1]\n",
            " [4 2 6]\n",
            " [3 3 3]]\n"
          ]
        }
      ]
    },
    {
      "cell_type": "markdown",
      "source": [
        "배열 값 삭제"
      ],
      "metadata": {
        "id": "-95wbqs0piJP"
      }
    },
    {
      "cell_type": "code",
      "source": [
        "print(a1)\n",
        "b1 = np.delete(a1,1)\n",
        "print(b1)\n",
        "print(a1)\n"
      ],
      "metadata": {
        "colab": {
          "base_uri": "https://localhost:8080/"
        },
        "id": "Um6ichawDgYY",
        "outputId": "693db22d-ccbf-47d7-e585-84fbf8c5b24d"
      },
      "execution_count": null,
      "outputs": [
        {
          "output_type": "stream",
          "name": "stdout",
          "text": [
            "[9 0 3 0 0]\n",
            "[9 3 0 0]\n",
            "[9 0 3 0 0]\n"
          ]
        }
      ]
    },
    {
      "cell_type": "code",
      "source": [
        "print(a2)\n",
        "b2 = np.delete(a2,1,axis=0)\n",
        "print(b2)\n",
        "c2 = np.delete(a2,1,axis=1)\n",
        "print(c2)"
      ],
      "metadata": {
        "colab": {
          "base_uri": "https://localhost:8080/"
        },
        "id": "2IhDjTsdEA6n",
        "outputId": "aa479e8b-dade-493a-836a-bff65b172bd0"
      },
      "execution_count": null,
      "outputs": [
        {
          "output_type": "stream",
          "name": "stdout",
          "text": [
            "[[1 1 1]\n",
            " [4 2 6]\n",
            " [3 3 3]]\n",
            "[[1 1 1]\n",
            " [3 3 3]]\n",
            "[[1 1]\n",
            " [4 6]\n",
            " [3 3]]\n"
          ]
        }
      ]
    },
    {
      "cell_type": "markdown",
      "source": [
        "배열 복사"
      ],
      "metadata": {
        "id": "MMJ5N0H6EWk5"
      }
    },
    {
      "cell_type": "code",
      "source": [
        "print(a2)\n",
        "print(a2[:2,:2])\n",
        "a2_sub = a2[:2,:2]\n",
        "print(a2_sub)\n",
        "a2_sub[:,1] = 0\n",
        "print(a2_sub)\n",
        "print(a2)"
      ],
      "metadata": {
        "colab": {
          "base_uri": "https://localhost:8080/"
        },
        "id": "kOEftXtlEVGz",
        "outputId": "c0ab1dc2-4e19-48c9-dffd-e8f71ed57868"
      },
      "execution_count": null,
      "outputs": [
        {
          "output_type": "stream",
          "name": "stdout",
          "text": [
            "[[1 1 1]\n",
            " [4 2 6]\n",
            " [3 3 3]]\n",
            "[[1 1]\n",
            " [4 2]]\n",
            "[[1 1]\n",
            " [4 2]]\n",
            "[[1 0]\n",
            " [4 0]]\n",
            "[[1 0 1]\n",
            " [4 0 6]\n",
            " [3 3 3]]\n"
          ]
        }
      ]
    },
    {
      "cell_type": "code",
      "source": [
        "print(a2)\n",
        "a2_sub_copy = a2[:2, :2].copy()\n",
        "print(a2_sub_copy)\n",
        "a2_sub_copy[:,1] = 1\n",
        "print(a2_sub_copy)\n",
        "print(a2)"
      ],
      "metadata": {
        "colab": {
          "base_uri": "https://localhost:8080/"
        },
        "id": "aVttL1dcE84T",
        "outputId": "b4cec47d-b7d2-467c-f013-14fbe0533bea"
      },
      "execution_count": null,
      "outputs": [
        {
          "output_type": "stream",
          "name": "stdout",
          "text": [
            "[[1 0 1]\n",
            " [4 0 6]\n",
            " [3 3 3]]\n",
            "[[1 0]\n",
            " [4 0]]\n",
            "[[1 1]\n",
            " [4 1]]\n",
            "[[1 0 1]\n",
            " [4 0 6]\n",
            " [3 3 3]]\n"
          ]
        }
      ]
    },
    {
      "cell_type": "markdown",
      "source": [
        "배열 변환"
      ],
      "metadata": {
        "id": "R7iugPBCFSQE"
      }
    },
    {
      "cell_type": "code",
      "source": [
        "print(a2)\n",
        "print(a2.T)"
      ],
      "metadata": {
        "colab": {
          "base_uri": "https://localhost:8080/"
        },
        "id": "Ku52McdoFVPO",
        "outputId": "5e91d687-e12e-4165-edbe-1f033b1df963"
      },
      "execution_count": null,
      "outputs": [
        {
          "output_type": "stream",
          "name": "stdout",
          "text": [
            "[[1 0 1]\n",
            " [4 0 6]\n",
            " [3 3 3]]\n",
            "[[1 4 3]\n",
            " [0 0 3]\n",
            " [1 6 3]]\n"
          ]
        }
      ]
    },
    {
      "cell_type": "code",
      "source": [
        "print(a3)\n",
        "print(a3.T)"
      ],
      "metadata": {
        "colab": {
          "base_uri": "https://localhost:8080/"
        },
        "id": "be4R0hb2FbMT",
        "outputId": "768a7dcd-470f-41de-9b38-9a00672d32f3"
      },
      "execution_count": null,
      "outputs": [
        {
          "output_type": "stream",
          "name": "stdout",
          "text": [
            "[[[1 2 3]\n",
            "  [4 5 6]\n",
            "  [7 8 9]]\n",
            "\n",
            " [[1 2 3]\n",
            "  [4 5 6]\n",
            "  [7 8 9]]\n",
            "\n",
            " [[1 2 3]\n",
            "  [4 5 6]\n",
            "  [7 8 9]]]\n",
            "[[[1 1 1]\n",
            "  [4 4 4]\n",
            "  [7 7 7]]\n",
            "\n",
            " [[2 2 2]\n",
            "  [5 5 5]\n",
            "  [8 8 8]]\n",
            "\n",
            " [[3 3 3]\n",
            "  [6 6 6]\n",
            "  [9 9 9]]]\n"
          ]
        }
      ]
    },
    {
      "cell_type": "code",
      "source": [
        "print(a2)\n",
        "print(a2.swapaxes(1,0))"
      ],
      "metadata": {
        "colab": {
          "base_uri": "https://localhost:8080/"
        },
        "id": "A2_kX_hAFnhA",
        "outputId": "9ad7a174-fa1a-479e-d235-94b2400e48b6"
      },
      "execution_count": null,
      "outputs": [
        {
          "output_type": "stream",
          "name": "stdout",
          "text": [
            "[[1 0 1]\n",
            " [4 0 6]\n",
            " [3 3 3]]\n",
            "[[1 4 3]\n",
            " [0 0 3]\n",
            " [1 6 3]]\n"
          ]
        }
      ]
    },
    {
      "cell_type": "code",
      "source": [
        "print(a3)\n",
        "print(a3.swapaxes(0,1))\n",
        "print(a3.swapaxes(1,2))"
      ],
      "metadata": {
        "colab": {
          "base_uri": "https://localhost:8080/"
        },
        "id": "8iGBX61wFvAO",
        "outputId": "43069fd8-fb71-41fb-e49c-6b5e9d1ec3fe"
      },
      "execution_count": null,
      "outputs": [
        {
          "output_type": "stream",
          "name": "stdout",
          "text": [
            "[[[1 2 3]\n",
            "  [4 5 6]\n",
            "  [7 8 9]]\n",
            "\n",
            " [[1 2 3]\n",
            "  [4 5 6]\n",
            "  [7 8 9]]\n",
            "\n",
            " [[1 2 3]\n",
            "  [4 5 6]\n",
            "  [7 8 9]]]\n",
            "[[[1 2 3]\n",
            "  [1 2 3]\n",
            "  [1 2 3]]\n",
            "\n",
            " [[4 5 6]\n",
            "  [4 5 6]\n",
            "  [4 5 6]]\n",
            "\n",
            " [[7 8 9]\n",
            "  [7 8 9]\n",
            "  [7 8 9]]]\n",
            "[[[1 4 7]\n",
            "  [2 5 8]\n",
            "  [3 6 9]]\n",
            "\n",
            " [[1 4 7]\n",
            "  [2 5 8]\n",
            "  [3 6 9]]\n",
            "\n",
            " [[1 4 7]\n",
            "  [2 5 8]\n",
            "  [3 6 9]]]\n"
          ]
        }
      ]
    },
    {
      "cell_type": "markdown",
      "source": [
        "배열 재구조화"
      ],
      "metadata": {
        "id": "4s8xvtV0F-Ec"
      }
    },
    {
      "cell_type": "code",
      "source": [
        "n1 = np.arange(1,10)\n",
        "print(n1)\n",
        "print(n1.reshape(3,3))"
      ],
      "metadata": {
        "colab": {
          "base_uri": "https://localhost:8080/"
        },
        "id": "NBQaVcozGB9N",
        "outputId": "52ed933c-d2db-405d-a08d-8d8573646465"
      },
      "execution_count": null,
      "outputs": [
        {
          "output_type": "stream",
          "name": "stdout",
          "text": [
            "[1 2 3 4 5 6 7 8 9]\n",
            "[[1 2 3]\n",
            " [4 5 6]\n",
            " [7 8 9]]\n"
          ]
        }
      ]
    },
    {
      "cell_type": "code",
      "source": [
        "print(n1)\n",
        "print(n1[np.newaxis, :5])\n",
        "print(n1[:5, np.newaxis])"
      ],
      "metadata": {
        "colab": {
          "base_uri": "https://localhost:8080/"
        },
        "id": "Z4xkDcxpGLtZ",
        "outputId": "b063e115-80b2-4345-b326-cef82fd4585c"
      },
      "execution_count": null,
      "outputs": [
        {
          "output_type": "stream",
          "name": "stdout",
          "text": [
            "[1 2 3 4 5 6 7 8 9]\n",
            "[[1 2 3 4 5]]\n",
            "[[1]\n",
            " [2]\n",
            " [3]\n",
            " [4]\n",
            " [5]]\n"
          ]
        }
      ]
    },
    {
      "cell_type": "markdown",
      "source": [
        "배열 크기 변경"
      ],
      "metadata": {
        "id": "-Co3_6YpGZrf"
      }
    },
    {
      "cell_type": "code",
      "source": [
        "n2 = np.random.randint(0,10,(2,5))\n",
        "print(n2)\n",
        "n2.resize((5,2))\n",
        "print(n2)"
      ],
      "metadata": {
        "colab": {
          "base_uri": "https://localhost:8080/"
        },
        "id": "BAJVe6v_GcwP",
        "outputId": "1ae33b04-6d81-4542-b0f2-9b18dcfc8464"
      },
      "execution_count": null,
      "outputs": [
        {
          "output_type": "stream",
          "name": "stdout",
          "text": [
            "[[2 3 0 3 7]\n",
            " [6 9 9 4 5]]\n",
            "[[2 3]\n",
            " [0 3]\n",
            " [7 6]\n",
            " [9 9]\n",
            " [4 5]]\n"
          ]
        }
      ]
    },
    {
      "cell_type": "code",
      "source": [
        "n2.resize((5,5))\n",
        "print(n2)"
      ],
      "metadata": {
        "colab": {
          "base_uri": "https://localhost:8080/"
        },
        "id": "dKPlW03hGrbf",
        "outputId": "0479f9c4-b168-40a5-a3bf-e73a040661a7"
      },
      "execution_count": null,
      "outputs": [
        {
          "output_type": "stream",
          "name": "stdout",
          "text": [
            "[[2 3 0 3 7]\n",
            " [6 9 9 4 5]\n",
            " [0 0 0 0 0]\n",
            " [0 0 0 0 0]\n",
            " [0 0 0 0 0]]\n"
          ]
        }
      ]
    },
    {
      "cell_type": "markdown",
      "source": [
        "resize로 배열 크기 감소할시, 포함되지 않은 값은 삭제된다"
      ],
      "metadata": {
        "id": "ffCBHGvw3z8i"
      }
    },
    {
      "cell_type": "markdown",
      "source": [
        "배열추가  \n",
        "append(): 배열의 끝에 값 추가  \n",
        "axis 지정이 없으면 1차원 배열 형태로 변형되어 결합"
      ],
      "metadata": {
        "id": "5m-kipEM36Gt"
      }
    },
    {
      "cell_type": "code",
      "source": [
        "a2 = np.arange(1,10).reshape(3,3)\n",
        "print(a2)\n",
        "b2 = np.arange(10,19).reshape(3,3)\n",
        "print(b2)"
      ],
      "metadata": {
        "colab": {
          "base_uri": "https://localhost:8080/"
        },
        "id": "NRUnwy-y35d1",
        "outputId": "a08c8f0f-db24-4c05-b774-2ec94b05381e"
      },
      "execution_count": null,
      "outputs": [
        {
          "output_type": "stream",
          "name": "stdout",
          "text": [
            "[[1 2 3]\n",
            " [4 5 6]\n",
            " [7 8 9]]\n",
            "[[10 11 12]\n",
            " [13 14 15]\n",
            " [16 17 18]]\n"
          ]
        }
      ]
    },
    {
      "cell_type": "code",
      "source": [
        "c2 = np.append(a2,b2, axis=0)\n",
        "print(c2)"
      ],
      "metadata": {
        "colab": {
          "base_uri": "https://localhost:8080/"
        },
        "id": "_mhIupeb35hX",
        "outputId": "a9b3d65b-becf-418f-c02f-9bcefc648971"
      },
      "execution_count": null,
      "outputs": [
        {
          "output_type": "stream",
          "name": "stdout",
          "text": [
            "[[ 1  2  3]\n",
            " [ 4  5  6]\n",
            " [ 7  8  9]\n",
            " [10 11 12]\n",
            " [13 14 15]\n",
            " [16 17 18]]\n"
          ]
        }
      ]
    },
    {
      "cell_type": "code",
      "source": [
        "c2 = np.append(a2,b2, axis=1)\n",
        "print(c2)"
      ],
      "metadata": {
        "colab": {
          "base_uri": "https://localhost:8080/"
        },
        "id": "qDApQFhi3wq6",
        "outputId": "1ab50002-f763-463e-e8dd-8398ca4e64f7"
      },
      "execution_count": null,
      "outputs": [
        {
          "output_type": "stream",
          "name": "stdout",
          "text": [
            "[[ 1  2  3 10 11 12]\n",
            " [ 4  5  6 13 14 15]\n",
            " [ 7  8  9 16 17 18]]\n"
          ]
        }
      ]
    },
    {
      "cell_type": "markdown",
      "source": [
        "배열 연결  \n",
        "concatenate(): 튜플이나 배열의 리스트를 인수로 사용해 배열 연결"
      ],
      "metadata": {
        "id": "GaCvoiT-4lOl"
      }
    },
    {
      "cell_type": "code",
      "source": [
        "a1 = np.array([1,3,5])\n",
        "b1 = np.array([2,4,6])\n",
        "np.concatenate([a1,b1])"
      ],
      "metadata": {
        "colab": {
          "base_uri": "https://localhost:8080/"
        },
        "id": "QA4u1EL04mEc",
        "outputId": "e33e24ec-61da-4a9a-8942-c0a71f25a0a6"
      },
      "execution_count": null,
      "outputs": [
        {
          "output_type": "execute_result",
          "data": {
            "text/plain": [
              "array([1, 3, 5, 2, 4, 6])"
            ]
          },
          "metadata": {},
          "execution_count": 56
        }
      ]
    },
    {
      "cell_type": "code",
      "source": [
        "a2 = np.array([[1,2,3],[4,5,6]])\n",
        "\n",
        "np.concatenate([a2,a2])"
      ],
      "metadata": {
        "colab": {
          "base_uri": "https://localhost:8080/"
        },
        "id": "k_0cj1Kv400X",
        "outputId": "10fc908c-1a5e-4770-c734-e8c00a0feaa9"
      },
      "execution_count": null,
      "outputs": [
        {
          "output_type": "execute_result",
          "data": {
            "text/plain": [
              "array([[1, 2, 3],\n",
              "       [4, 5, 6],\n",
              "       [1, 2, 3],\n",
              "       [4, 5, 6]])"
            ]
          },
          "metadata": {},
          "execution_count": 58
        }
      ]
    },
    {
      "cell_type": "code",
      "source": [
        "a2 = np.array([[1,2,3],[4,5,6]])\n",
        "\n",
        "np.concatenate([a2,a2], axis=1)"
      ],
      "metadata": {
        "colab": {
          "base_uri": "https://localhost:8080/"
        },
        "id": "0aIPDJma5BZW",
        "outputId": "3066c7d8-b7d9-4c0f-b788-31d6c05ede96"
      },
      "execution_count": null,
      "outputs": [
        {
          "output_type": "execute_result",
          "data": {
            "text/plain": [
              "array([[1, 2, 3, 1, 2, 3],\n",
              "       [4, 5, 6, 4, 5, 6]])"
            ]
          },
          "metadata": {},
          "execution_count": 59
        }
      ]
    },
    {
      "cell_type": "markdown",
      "source": [
        "vstack(): 수직 스택(vertical stack), 1차원이랑 연결  \n",
        "hstack(): 수평 스택(horizontal stack), 2차원이랑 연결  \n",
        "dstack(): 깊이 스택(depth stack), 3차원으로 연결  \n",
        "stack(): 새로운 차원으로 연결"
      ],
      "metadata": {
        "id": "MxGjIoi94zM3"
      }
    },
    {
      "cell_type": "code",
      "source": [
        "np.vstack([a2,a2])"
      ],
      "metadata": {
        "colab": {
          "base_uri": "https://localhost:8080/"
        },
        "id": "-7uHr28T5ItF",
        "outputId": "6b062b34-0d2d-4520-9505-f9a909a2bcb4"
      },
      "execution_count": null,
      "outputs": [
        {
          "output_type": "execute_result",
          "data": {
            "text/plain": [
              "array([[1, 2, 3],\n",
              "       [4, 5, 6],\n",
              "       [1, 2, 3],\n",
              "       [4, 5, 6]])"
            ]
          },
          "metadata": {},
          "execution_count": 60
        }
      ]
    },
    {
      "cell_type": "code",
      "source": [
        "np.stack([a2,a2])"
      ],
      "metadata": {
        "colab": {
          "base_uri": "https://localhost:8080/"
        },
        "id": "LMcx_h9c5LQX",
        "outputId": "25982a1c-9fd1-4f9f-bd44-79ef1c11ea25"
      },
      "execution_count": null,
      "outputs": [
        {
          "output_type": "execute_result",
          "data": {
            "text/plain": [
              "array([[[1, 2, 3],\n",
              "        [4, 5, 6]],\n",
              "\n",
              "       [[1, 2, 3],\n",
              "        [4, 5, 6]]])"
            ]
          },
          "metadata": {},
          "execution_count": 61
        }
      ]
    },
    {
      "cell_type": "markdown",
      "source": [
        "배열 분할  \n",
        "split(): 배열 분할  \n",
        "vsplit():  \n",
        "hsplit():  \n",
        "dsplit():"
      ],
      "metadata": {
        "id": "MpIcdwoo5jLx"
      }
    },
    {
      "cell_type": "code",
      "source": [
        "a1 = np.arange(0,10)\n",
        "print(a1)\n",
        "b1,c1 = np.split(a1,[5])\n",
        "print(b1,c1)"
      ],
      "metadata": {
        "colab": {
          "base_uri": "https://localhost:8080/"
        },
        "id": "DwtVibZ-55CX",
        "outputId": "94fa0627-b05b-4cfc-f731-dd3d031f13f2"
      },
      "execution_count": null,
      "outputs": [
        {
          "output_type": "stream",
          "name": "stdout",
          "text": [
            "[0 1 2 3 4 5 6 7 8 9]\n",
            "[0 1 2 3 4] [5 6 7 8 9]\n"
          ]
        }
      ]
    },
    {
      "cell_type": "markdown",
      "source": [
        "배열 연산  \n",
        "-Numpy의 배열 연산은 벡터화 연산을 사용  \n",
        "-일반적으로 Numpy의 범용 함수를 통해 구현  \n",
        "-배열 요소에 대한 반복적인 계산을 효율적으로 수행"
      ],
      "metadata": {
        "id": "IhRfCGk55pvw"
      }
    },
    {
      "cell_type": "markdown",
      "source": [
        "브로드캐스팅"
      ],
      "metadata": {
        "id": "Ezl4poxJ60IC"
      }
    },
    {
      "cell_type": "code",
      "source": [
        "a1 = np.array([1,2,3])\n",
        "print(a1)\n",
        "print(a1+5)\n",
        "\n",
        "a2 = np.arange(1,10).reshape(3,3)\n",
        "print(a2)\n",
        "print(a1+a2)\n",
        "\n",
        "b2 = np.array([1,2,3]).reshape(3,1)\n",
        "print(b2)\n",
        "print(a2+b2)"
      ],
      "metadata": {
        "colab": {
          "base_uri": "https://localhost:8080/"
        },
        "id": "SPby2ibx61-w",
        "outputId": "ace96568-8e64-4038-8c6b-9380099adc6f"
      },
      "execution_count": null,
      "outputs": [
        {
          "output_type": "stream",
          "name": "stdout",
          "text": [
            "[1 2 3]\n",
            "[6 7 8]\n",
            "[[1 2 3]\n",
            " [4 5 6]\n",
            " [7 8 9]]\n",
            "[[ 2  4  6]\n",
            " [ 5  7  9]\n",
            " [ 8 10 12]]\n",
            "[[1]\n",
            " [2]\n",
            " [3]]\n",
            "[[ 2  3  4]\n",
            " [ 6  7  8]\n",
            " [10 11 12]]\n"
          ]
        }
      ]
    },
    {
      "cell_type": "markdown",
      "source": [
        "percentile"
      ],
      "metadata": {
        "id": "khD-tkTM-jqu"
      }
    },
    {
      "cell_type": "code",
      "source": [
        "a1 = np.array([0,1,2,3])\n",
        "print(a1)\n",
        "print(np.percentile(a1,[0,20,40,60,80,100], interpolation='linear'))\n",
        "print(np.percentile(a1,[0,20,40,60,80,100], interpolation='higher'))\n",
        "print(np.percentile(a1,[0,20,40,60,80,100], interpolation='lower'))\n",
        "print(np.percentile(a1,[0,20,40,60,80,100], interpolation='nearest'))\n",
        "print(np.percentile(a1,[0,20,40,60,80,100], interpolation='midpoint'))"
      ],
      "metadata": {
        "colab": {
          "base_uri": "https://localhost:8080/"
        },
        "id": "-5JOK442-k8U",
        "outputId": "d361cc4e-8c72-466e-f3ce-60e6bf9d18e5"
      },
      "execution_count": null,
      "outputs": [
        {
          "output_type": "stream",
          "name": "stdout",
          "text": [
            "[0 1 2 3]\n",
            "[0.  0.6 1.2 1.8 2.4 3. ]\n",
            "[0 1 2 2 3 3]\n",
            "[0 0 1 1 2 3]\n",
            "[0 1 1 2 2 3]\n",
            "[0.  0.5 1.5 1.5 2.5 3. ]\n"
          ]
        }
      ]
    },
    {
      "cell_type": "markdown",
      "source": [
        "any()"
      ],
      "metadata": {
        "id": "hnBSgwu__PAL"
      }
    },
    {
      "cell_type": "code",
      "source": [
        "a2 = np.array([[False,False,False],\n",
        "               [False,True,True],\n",
        "               [False,True,True]])\n",
        "print(a2)\n",
        "print(np.any(2))\n",
        "print(np.any(a2,axis=0))\n",
        "print(np.any(a2,axis=1))"
      ],
      "metadata": {
        "colab": {
          "base_uri": "https://localhost:8080/"
        },
        "id": "w-5-o8hm_QDq",
        "outputId": "41d3d884-c36c-49ec-c158-22409709addc"
      },
      "execution_count": null,
      "outputs": [
        {
          "output_type": "stream",
          "name": "stdout",
          "text": [
            "[[False False False]\n",
            " [False  True  True]\n",
            " [False  True  True]]\n",
            "True\n",
            "[False  True  True]\n",
            "[False  True  True]\n"
          ]
        }
      ]
    },
    {
      "cell_type": "markdown",
      "source": [
        "배열 정렬"
      ],
      "metadata": {
        "id": "ZYmd7_NmA8dL"
      }
    },
    {
      "cell_type": "code",
      "source": [
        "a1 = np.random.randint(1,10,size=10)\n",
        "print(a1)\n",
        "print(np.sort(a1))\n",
        "print(a1)\n",
        "print(np.argsort(a1))\n",
        "print(a1)\n",
        "print(a1.sort())\n",
        "print(a1)"
      ],
      "metadata": {
        "colab": {
          "base_uri": "https://localhost:8080/"
        },
        "id": "yTnYMnhvA-pq",
        "outputId": "169f918f-c7d2-4342-9f99-fdaefe45bfef"
      },
      "execution_count": null,
      "outputs": [
        {
          "output_type": "stream",
          "name": "stdout",
          "text": [
            "[8 1 1 1 1 8 7 6 7 6]\n",
            "[1 1 1 1 6 6 7 7 8 8]\n",
            "[8 1 1 1 1 8 7 6 7 6]\n",
            "[1 2 3 4 7 9 6 8 0 5]\n",
            "[8 1 1 1 1 8 7 6 7 6]\n",
            "None\n",
            "[1 1 1 1 6 6 7 7 8 8]\n"
          ]
        }
      ]
    },
    {
      "cell_type": "code",
      "source": [
        "a2 = np.random.randint(1,10,size=(3,3))\n",
        "print(a2)\n",
        "print(np.sort(a2,axis=0))\n",
        "print(np.sort(a2,axis=1))"
      ],
      "metadata": {
        "colab": {
          "base_uri": "https://localhost:8080/"
        },
        "id": "yLkf0Mn9BZcb",
        "outputId": "921d78c1-0813-4773-b49e-683ae132851b"
      },
      "execution_count": null,
      "outputs": [
        {
          "output_type": "stream",
          "name": "stdout",
          "text": [
            "[[5 9 7]\n",
            " [9 1 5]\n",
            " [4 4 7]]\n",
            "[[4 1 5]\n",
            " [5 4 7]\n",
            " [9 9 7]]\n",
            "[[5 7 9]\n",
            " [1 5 9]\n",
            " [4 4 7]]\n"
          ]
        }
      ]
    },
    {
      "cell_type": "markdown",
      "source": [
        "부분정렬  \n",
        "partition(): 배열에서 k개의 작은 값을 반환  \n"
      ],
      "metadata": {
        "id": "0yCK8_5bBiiN"
      }
    },
    {
      "cell_type": "code",
      "source": [
        "a1 = np.random.randint(1,10,size=10)\n",
        "print(a1)\n",
        "print(np.partition(a1,3))"
      ],
      "metadata": {
        "colab": {
          "base_uri": "https://localhost:8080/"
        },
        "id": "EWiZa9q9BoYI",
        "outputId": "bb211b99-78ba-42b9-a585-7b34132a9169"
      },
      "execution_count": null,
      "outputs": [
        {
          "output_type": "stream",
          "name": "stdout",
          "text": [
            "[6 9 2 8 7 4 4 5 3 7]\n",
            "[3 2 4 4 5 6 7 9 8 7]\n"
          ]
        }
      ]
    },
    {
      "cell_type": "code",
      "source": [
        "a2 = np.random.randint(1,10,size=(5,5))\n",
        "print(a2)\n",
        "print(np.partition(a2,3))\n",
        "print(np.partition(a2,3,axis=0))\n",
        "print(np.partition(a2,3,axis=1))"
      ],
      "metadata": {
        "colab": {
          "base_uri": "https://localhost:8080/"
        },
        "id": "Z5lFXqmcB-Id",
        "outputId": "85f3b0d6-ce13-437d-eaec-9f481a40aa23"
      },
      "execution_count": null,
      "outputs": [
        {
          "output_type": "stream",
          "name": "stdout",
          "text": [
            "[[2 9 4 9 7]\n",
            " [9 9 3 3 2]\n",
            " [1 3 2 8 4]\n",
            " [3 5 4 8 4]\n",
            " [6 7 3 5 2]]\n",
            "[[2 4 7 9 9]\n",
            " [3 2 3 9 9]\n",
            " [1 2 3 4 8]\n",
            " [3 4 4 5 8]\n",
            " [2 3 5 6 7]]\n",
            "[[1 5 2 3 2]\n",
            " [2 3 3 5 2]\n",
            " [3 7 3 8 4]\n",
            " [6 9 4 8 4]\n",
            " [9 9 4 9 7]]\n",
            "[[2 4 7 9 9]\n",
            " [3 2 3 9 9]\n",
            " [1 2 3 4 8]\n",
            " [3 4 4 5 8]\n",
            " [2 3 5 6 7]]\n"
          ]
        }
      ]
    },
    {
      "cell_type": "markdown",
      "source": [
        "배열 입출력  \n",
        "np.save() Numpy 배열객체 1개를 파일에 저장  \n",
        "np.savez() Numpy 배열객체 여러개를 파일에 저장  \n",
        "np.load() Numpy 배열 저장 파일로부터 객체 로딩  \n"
      ],
      "metadata": {
        "id": "Q_hd0J_dCRIA"
      }
    },
    {
      "cell_type": "code",
      "source": [
        "a2 = np.random.randint(1,10,size=(5,5))\n",
        "print(a2)\n",
        "np.save(\"a\",a2)"
      ],
      "metadata": {
        "colab": {
          "base_uri": "https://localhost:8080/"
        },
        "id": "qB_R9aG5CSGU",
        "outputId": "73b753cd-3073-492a-a912-b1d0f717fb22"
      },
      "execution_count": null,
      "outputs": [
        {
          "output_type": "stream",
          "name": "stdout",
          "text": [
            "[[8 6 7 2 9]\n",
            " [5 5 6 9 6]\n",
            " [5 4 4 2 9]\n",
            " [2 3 7 4 3]\n",
            " [2 2 9 1 6]]\n"
          ]
        }
      ]
    },
    {
      "cell_type": "code",
      "source": [
        "!ls"
      ],
      "metadata": {
        "colab": {
          "base_uri": "https://localhost:8080/"
        },
        "id": "NAtMLMWrCpa9",
        "outputId": "e6867033-7e20-48e5-af0b-f04d27054803"
      },
      "execution_count": null,
      "outputs": [
        {
          "output_type": "stream",
          "name": "stdout",
          "text": [
            "a.npy  sample_data\n"
          ]
        }
      ]
    },
    {
      "cell_type": "code",
      "source": [
        "b2 = np.random.randint(1,10,size=(5,5))\n",
        "print(b2)\n",
        "np.savez(\"ab\", a2, b2)"
      ],
      "metadata": {
        "colab": {
          "base_uri": "https://localhost:8080/"
        },
        "id": "wFvbEFPkCr2b",
        "outputId": "359a6e86-d4bd-4a80-fd88-c43e9bd32f5a"
      },
      "execution_count": null,
      "outputs": [
        {
          "output_type": "stream",
          "name": "stdout",
          "text": [
            "[[6 3 8 7 7]\n",
            " [7 2 1 1 7]\n",
            " [8 5 1 9 7]\n",
            " [4 5 5 8 8]\n",
            " [5 6 9 3 2]]\n"
          ]
        }
      ]
    },
    {
      "cell_type": "code",
      "source": [
        "!ls"
      ],
      "metadata": {
        "colab": {
          "base_uri": "https://localhost:8080/"
        },
        "id": "317N6H7gCsJH",
        "outputId": "4a9eb88d-6fbd-4082-9f35-15930d4e4d72"
      },
      "execution_count": null,
      "outputs": [
        {
          "output_type": "stream",
          "name": "stdout",
          "text": [
            "ab.npz\ta.npy  sample_data\n"
          ]
        }
      ]
    },
    {
      "cell_type": "code",
      "source": [
        "npy = np.load(\"a.npy\")\n",
        "print(npy)"
      ],
      "metadata": {
        "colab": {
          "base_uri": "https://localhost:8080/"
        },
        "id": "ooFheoHnC2nk",
        "outputId": "ba80a623-21a6-4d42-be12-7e2a8243eb15"
      },
      "execution_count": null,
      "outputs": [
        {
          "output_type": "stream",
          "name": "stdout",
          "text": [
            "[[8 6 7 2 9]\n",
            " [5 5 6 9 6]\n",
            " [5 4 4 2 9]\n",
            " [2 3 7 4 3]\n",
            " [2 2 9 1 6]]\n"
          ]
        }
      ]
    },
    {
      "cell_type": "code",
      "source": [
        "npz = np.load(\"ab.npz\")\n",
        "print(npz.files)"
      ],
      "metadata": {
        "colab": {
          "base_uri": "https://localhost:8080/"
        },
        "id": "11v2BZKhC8cj",
        "outputId": "65982065-6fe2-45f3-aa04-fbd1a26e8263"
      },
      "execution_count": null,
      "outputs": [
        {
          "output_type": "stream",
          "name": "stdout",
          "text": [
            "['arr_0', 'arr_1']\n"
          ]
        }
      ]
    },
    {
      "cell_type": "code",
      "source": [
        "print(a2)\n",
        "np.savetxt(\"a.csv\",a2,delimiter=',')"
      ],
      "metadata": {
        "colab": {
          "base_uri": "https://localhost:8080/"
        },
        "id": "h9DOCyRSDEbs",
        "outputId": "3c367bbc-454c-4f86-e99c-b08d843d711a"
      },
      "execution_count": null,
      "outputs": [
        {
          "output_type": "stream",
          "name": "stdout",
          "text": [
            "[[8 6 7 2 9]\n",
            " [5 5 6 9 6]\n",
            " [5 4 4 2 9]\n",
            " [2 3 7 4 3]\n",
            " [2 2 9 1 6]]\n"
          ]
        }
      ]
    },
    {
      "cell_type": "code",
      "source": [
        "!ls"
      ],
      "metadata": {
        "colab": {
          "base_uri": "https://localhost:8080/"
        },
        "id": "T8pN8Vf-DKyU",
        "outputId": "bc924961-88c9-48d3-f3d8-0f804c97baff"
      },
      "execution_count": null,
      "outputs": [
        {
          "output_type": "stream",
          "name": "stdout",
          "text": [
            "ab.npz\ta.csv  a.npy  sample_data\n"
          ]
        }
      ]
    },
    {
      "cell_type": "code",
      "source": [
        "!cat a.csv"
      ],
      "metadata": {
        "colab": {
          "base_uri": "https://localhost:8080/"
        },
        "id": "lbCAm7YWDMIR",
        "outputId": "9b6b2ab5-6a89-46bf-a18a-e06415463a9b"
      },
      "execution_count": null,
      "outputs": [
        {
          "output_type": "stream",
          "name": "stdout",
          "text": [
            "8.000000000000000000e+00,6.000000000000000000e+00,7.000000000000000000e+00,2.000000000000000000e+00,9.000000000000000000e+00\n",
            "5.000000000000000000e+00,5.000000000000000000e+00,6.000000000000000000e+00,9.000000000000000000e+00,6.000000000000000000e+00\n",
            "5.000000000000000000e+00,4.000000000000000000e+00,4.000000000000000000e+00,2.000000000000000000e+00,9.000000000000000000e+00\n",
            "2.000000000000000000e+00,3.000000000000000000e+00,7.000000000000000000e+00,4.000000000000000000e+00,3.000000000000000000e+00\n",
            "2.000000000000000000e+00,2.000000000000000000e+00,9.000000000000000000e+00,1.000000000000000000e+00,6.000000000000000000e+00\n"
          ]
        }
      ]
    },
    {
      "cell_type": "code",
      "source": [
        "csv = np.loadtxt(\"a.csv\", delimiter=',')\n",
        "print(csv)"
      ],
      "metadata": {
        "colab": {
          "base_uri": "https://localhost:8080/"
        },
        "id": "jOLGelaRDQT3",
        "outputId": "2f835153-68ed-4417-d40b-fcd21278cf38"
      },
      "execution_count": null,
      "outputs": [
        {
          "output_type": "stream",
          "name": "stdout",
          "text": [
            "[[8. 6. 7. 2. 9.]\n",
            " [5. 5. 6. 9. 6.]\n",
            " [5. 4. 4. 2. 9.]\n",
            " [2. 3. 7. 4. 3.]\n",
            " [2. 2. 9. 1. 6.]]\n"
          ]
        }
      ]
    },
    {
      "cell_type": "code",
      "source": [
        "print(b2)\n",
        "np.savetxt(\"b.csv\",b2, delimiter=',',fmt='%.2e',header='c1,c2,c3,c4,c5')"
      ],
      "metadata": {
        "colab": {
          "base_uri": "https://localhost:8080/"
        },
        "id": "h9m1jqz2DZLD",
        "outputId": "80f0b543-d23f-4de6-b08d-e47c0e6d627a"
      },
      "execution_count": null,
      "outputs": [
        {
          "output_type": "stream",
          "name": "stdout",
          "text": [
            "[[6 3 8 7 7]\n",
            " [7 2 1 1 7]\n",
            " [8 5 1 9 7]\n",
            " [4 5 5 8 8]\n",
            " [5 6 9 3 2]]\n"
          ]
        }
      ]
    },
    {
      "cell_type": "code",
      "source": [
        "!cat b.csv"
      ],
      "metadata": {
        "colab": {
          "base_uri": "https://localhost:8080/"
        },
        "id": "v_I4ghFkDjK0",
        "outputId": "8b098744-8ac9-4859-f774-e77c8d91c870"
      },
      "execution_count": null,
      "outputs": [
        {
          "output_type": "stream",
          "name": "stdout",
          "text": [
            "# c1,c2,c3,c4,c5\n",
            "6.00e+00,3.00e+00,8.00e+00,7.00e+00,7.00e+00\n",
            "7.00e+00,2.00e+00,1.00e+00,1.00e+00,7.00e+00\n",
            "8.00e+00,5.00e+00,1.00e+00,9.00e+00,7.00e+00\n",
            "4.00e+00,5.00e+00,5.00e+00,8.00e+00,8.00e+00\n",
            "5.00e+00,6.00e+00,9.00e+00,3.00e+00,2.00e+00\n"
          ]
        }
      ]
    },
    {
      "cell_type": "code",
      "source": [
        "csv = np.loadtxt(\"b.csv\", delimiter=',')\n",
        "print(csv)"
      ],
      "metadata": {
        "id": "ExA7M10FDlrk",
        "outputId": "3b5b24ba-23d2-4ce8-c093-82fc42c98f11",
        "colab": {
          "base_uri": "https://localhost:8080/"
        }
      },
      "execution_count": null,
      "outputs": [
        {
          "output_type": "stream",
          "name": "stdout",
          "text": [
            "[[6. 3. 8. 7. 7.]\n",
            " [7. 2. 1. 1. 7.]\n",
            " [8. 5. 1. 9. 7.]\n",
            " [4. 5. 5. 8. 8.]\n",
            " [5. 6. 9. 3. 2.]]\n"
          ]
        }
      ]
    }
  ]
}